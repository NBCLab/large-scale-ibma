{
 "cells": [
  {
   "cell_type": "code",
   "execution_count": 1,
   "metadata": {},
   "outputs": [],
   "source": [
    "import os.path as op\n",
    "\n",
    "from wordcloud import WordCloud\n",
    "import plotly.express as px\n",
    "import pandas as pd\n",
    "import seaborn as sns\n",
    "import numpy as np\n",
    "import matplotlib.pyplot as plt\n",
    "import matplotlib as mpl\n",
    "\n",
    "from utils import _cogat_vocabulary, _generate_counts"
   ]
  },
  {
   "cell_type": "code",
   "execution_count": 2,
   "metadata": {},
   "outputs": [],
   "source": [
    "sns.set_theme(style=\"white\")\n",
    "FONTSIZE = 12\n",
    "NEUROSCOUT_OWNER_ID = 5761\n",
    "DPI = 300\n",
    "\n",
    "CMAP = mpl.colormaps.get_cmap(\"tab20\")"
   ]
  },
  {
   "cell_type": "code",
   "execution_count": 3,
   "metadata": {},
   "outputs": [],
   "source": [
    "data_dir = \"../data\"\n",
    "pubget_dir = op.join(data_dir, \"pubget_data\")\n",
    "query_extensive = \"query_875641cf4cbc22f32027447cd62fca27\"\n",
    "query_neurovault = \"query_a444c1d1cc79f746a519d97ce9672089\"\n",
    "fig_dir = \"./neurovault_data\"\n",
    "neurovault_dir = op.join(data_dir, \"nv-data\", \"february_2024\")"
   ]
  },
  {
   "cell_type": "code",
   "execution_count": 4,
   "metadata": {},
   "outputs": [],
   "source": [
    "def _n_colls(df):\n",
    "    return df.collection_id.unique().size\n",
    "\n",
    "\n",
    "def _n_cogats(df):\n",
    "    return df.cognitive_paradigm_cogatlas_id.unique().size\n",
    "\n",
    "\n",
    "def _n_images(df):\n",
    "    return df.image_id.unique().size\n",
    "\n",
    "\n",
    "def _check_string(s):\n",
    "    return all(c.isdigit() for c in s)\n",
    "\n",
    "\n",
    "def _convert_collection_id(collection_id, collections_df):\n",
    "    if str(collection_id).isalpha():\n",
    "        matches = collections_df[collections_df.private_token == collection_id]\n",
    "        return matches.id.values[0] if matches.size > 0 else None\n",
    "    else:\n",
    "        return int(collection_id) if _check_string(str(collection_id)) else None\n",
    "\n",
    "\n",
    "def _plot_hist(series, x_label):\n",
    "    df = pd.DataFrame(series)\n",
    "    df.index = df.index.astype(str)\n",
    "    df = df.rename(columns={df.columns[0]: x_label})\n",
    "\n",
    "    fig = px.bar(\n",
    "        df,\n",
    "        x=x_label,\n",
    "        orientation=\"h\",\n",
    "    )\n",
    "\n",
    "    return fig\n",
    "\n",
    "\n",
    "def _plot_pie(\n",
    "        data, \n",
    "        values, \n",
    "        names,\n",
    "        width=1.5,\n",
    "        height=1.5,\n",
    "        textinfo=\"value+percent\", \n",
    "        text_inside=False, \n",
    "        reversed=False,\n",
    "    ):\n",
    "    n_colors = len(data[names].unique())\n",
    "    cmap = (\n",
    "        px.colors.qualitative.G10[:n_colors][::-1]\n",
    "        if reversed\n",
    "        else px.colors.qualitative.G10[:n_colors]\n",
    "    )\n",
    "    fig = px.pie(\n",
    "        data,\n",
    "        values=values,\n",
    "        names=names,\n",
    "        color_discrete_sequence=cmap,\n",
    "    )\n",
    "    fig.update_layout(\n",
    "        height=height * DPI,\n",
    "        width=width * DPI,\n",
    "    )\n",
    "    fig.update_traces(textinfo=textinfo)\n",
    "    if text_inside:\n",
    "        fig.update_traces(textposition=\"inside\", textinfo=\"value+percent+label\")\n",
    "    return fig\n",
    "\n",
    "\n",
    "def _join_pubget_queries(pubget_dir, queries):\n",
    "    assert len(queries) > 0\n",
    "\n",
    "    coordinates = pd.DataFrame(columns=[\"pmcid\", \"table_id\", \"table_label\", \"x\", \"y\", \"z\"])\n",
    "    metadata = pd.DataFrame(\n",
    "        columns=[\"pmcid\", \"pmid\", \"doi\", \"title\", \"publication_year\", \"license\"]\n",
    "    )\n",
    "    neurovault = pd.DataFrame(columns=[\"pmcid\", \"collection_id\"])\n",
    "    for query in queries:\n",
    "        coordinates = pd.merge(\n",
    "            coordinates,\n",
    "            pd.read_csv(\n",
    "                op.join(pubget_dir, query, \"subset_allArticles_extractedData\", \"coordinates.csv\")\n",
    "            ),\n",
    "            how=\"outer\",\n",
    "        )\n",
    "        metadata = pd.merge(\n",
    "            metadata,\n",
    "            pd.read_csv(\n",
    "                op.join(pubget_dir, query, \"subset_allArticles_extractedData\", \"metadata.csv\")\n",
    "            ),\n",
    "            how=\"outer\",\n",
    "        )\n",
    "        neurovault = pd.merge(\n",
    "            neurovault,\n",
    "            pd.read_csv(\n",
    "                op.join(\n",
    "                    pubget_dir,\n",
    "                    query,\n",
    "                    \"subset_allArticles_extractedData\",\n",
    "                    \"neurovault_collections.csv\",\n",
    "                )\n",
    "            ),\n",
    "            how=\"outer\",\n",
    "        )\n",
    "\n",
    "    return coordinates, metadata, neurovault\n"
   ]
  },
  {
   "cell_type": "code",
   "execution_count": 5,
   "metadata": {},
   "outputs": [
    {
     "name": "stderr",
     "output_type": "stream",
     "text": [
      "/var/folders/m9/_ygtgkg17990695673wz4l78j5bsz9/T/ipykernel_35559/3484940282.py:1: DtypeWarning: Columns (65) have mixed types. Specify dtype option on import or set low_memory=False.\n",
      "  collections = pd.read_csv(op.join(neurovault_dir, \"statmaps_collection.csv\"))\n"
     ]
    },
    {
     "name": "stderr",
     "output_type": "stream",
     "text": [
      "/var/folders/m9/_ygtgkg17990695673wz4l78j5bsz9/T/ipykernel_35559/3484940282.py:3: DtypeWarning: Columns (4,5,7,15,17) have mixed types. Specify dtype option on import or set low_memory=False.\n",
      "  statisticmap = pd.read_csv(op.join(neurovault_dir, \"statmaps_statisticmap.csv\"))\n",
      "/var/folders/m9/_ygtgkg17990695673wz4l78j5bsz9/T/ipykernel_35559/3484940282.py:5: DtypeWarning: Columns (2,3,6,7,16,18,19,22,24) have mixed types. Specify dtype option on import or set low_memory=False.\n",
      "  image = pd.read_csv(op.join(neurovault_dir, \"statmaps_image.csv\"))\n"
     ]
    }
   ],
   "source": [
    "collections = pd.read_csv(op.join(neurovault_dir, \"statmaps_collection.csv\"))\n",
    "basecollectionitem = pd.read_csv(op.join(neurovault_dir, \"statmaps_basecollectionitem.csv\"))\n",
    "statisticmap = pd.read_csv(op.join(neurovault_dir, \"statmaps_statisticmap.csv\"))\n",
    "cogat_task = pd.read_csv(op.join(neurovault_dir, \"statmaps_cognitiveatlastask.csv\"))\n",
    "image = pd.read_csv(op.join(neurovault_dir, \"statmaps_image.csv\"))\n",
    "image_merged = pd.merge(\n",
    "    image, basecollectionitem, left_on=\"basecollectionitem_ptr_id\", right_on=\"id\"\n",
    ")\n",
    "statisticmap_merged = pd.merge(\n",
    "    statisticmap, image_merged, left_on=\"image_ptr_id\", right_on=\"basecollectionitem_ptr_id\"\n",
    ")\n",
    "collections = pd.merge(\n",
    "    collections,\n",
    "    basecollectionitem.groupby(\"collection_id\")\n",
    "    .size()\n",
    "    .reset_index()\n",
    "    .rename(columns={0: \"n_images\"}),\n",
    "    left_on=\"id\",\n",
    "    right_on=\"collection_id\",\n",
    ")\n",
    "collections = collections[collections.n_images > 0]\n",
    "collections = collections[collections.owner_id != NEUROSCOUT_OWNER_ID]\n",
    "\n",
    "collections_pmid_df = pd.read_csv(op.join(data_dir, \"nv_collections.csv\"))\n",
    "collections_pmid_df[\"collection_id\"] = collections_pmid_df[\"collection_id\"].astype(\"int64\")\n",
    "statisticmap_colelctions = pd.read_csv(op.join(data_dir, \"nv_collections_images.csv\"))\n",
    "pmid_text = pd.read_csv(op.join(data_dir, \"pmid_text.csv\"))"
   ]
  },
  {
   "cell_type": "code",
   "execution_count": 6,
   "metadata": {},
   "outputs": [
    {
     "name": "stdout",
     "output_type": "stream",
     "text": [
      "Found 26 new collections with using the pubget search\n"
     ]
    }
   ],
   "source": [
    "neurosynth_nv_fn = op.join(data_dir, \"neurosynth\", \"neurovault_collections.csv\")\n",
    "neurosynth_metadata_fn = op.join(data_dir, \"neurosynth\", \"metadata.csv\")\n",
    "neurosynth_nv_df = pd.read_csv(neurosynth_nv_fn)\n",
    "neurosynth_metadata_df = pd.read_csv(neurosynth_metadata_fn)\n",
    "\n",
    "# Convert private_token to collection_id\n",
    "collection_ids = neurosynth_nv_df[\"collection_id\"].to_list()\n",
    "neurosynth_nv_df[\"collection_id\"] = [\n",
    "    _convert_collection_id(id_, collections) for id_ in collection_ids\n",
    "]\n",
    "\n",
    "# Get PMIDs and PMCIDs from metadata\n",
    "neurosynth_nv_df = pd.merge(neurosynth_nv_df, neurosynth_metadata_df[[\"pmid\", \"doi\"]], on=\"pmid\")\n",
    "neurosynth_nv_df = neurosynth_nv_df.reindex(columns=[\"pmid\", \"doi\", \"collection_id\"])\n",
    "neurosynth_nv_df = neurosynth_nv_df.rename(columns={\"doi\": \"secondary_doi\"})\n",
    "neurosynth_nv_df[\"pmid\"] = neurosynth_nv_df[\"pmid\"].astype(\"Int64\")\n",
    "neurosynth_nv_df = neurosynth_nv_df.dropna(\n",
    "    subset=[\"collection_id\"]\n",
    ")  # Some private collections couldnt be mapped to public ones\n",
    "\n",
    "# Get collections found by pubget\n",
    "nv_coll = collections_pmid_df[\"collection_id\"].to_list()\n",
    "pubget_nv_coll = neurosynth_nv_df[\"collection_id\"].to_list()\n",
    "matching_ids = np.intersect1d(nv_coll, pubget_nv_coll)\n",
    "\n",
    "pubget_mask = ~neurosynth_nv_df[\"collection_id\"].isin(matching_ids)\n",
    "neurosynth_nv_df = neurosynth_nv_df[pubget_mask]\n",
    "\n",
    "# Select unique collections\n",
    "neurosynth_nv_df = neurosynth_nv_df.sort_values(\"pmid\")\n",
    "neurosynth_nv_df = neurosynth_nv_df.drop_duplicates(\"collection_id\", keep=\"first\")\n",
    "\n",
    "# Get collection names\n",
    "neurosynth_nv_df = pd.merge(\n",
    "    neurosynth_nv_df, collections[[\"id\", \"name\"]], left_on=\"collection_id\", right_on=\"id\"\n",
    ")\n",
    "neurosynth_nv_df = neurosynth_nv_df.rename(columns={\"name\": \"collection_name\"})\n",
    "neurosynth_nv_df = neurosynth_nv_df.drop(columns=\"id\")\n",
    "neurosynth_nv_df[\"source\"] = \"neurosynth\"\n",
    "\n",
    "print(f\"Found {neurosynth_nv_df.shape[0]} new collections with using the pubget search\")\n",
    "\n",
    "# Concatenate the collections\n",
    "collections_pmid_df = pd.concat(\n",
    "    [collections_pmid_df, neurosynth_nv_df], ignore_index=True, sort=False\n",
    ")"
   ]
  },
  {
   "cell_type": "code",
   "execution_count": 99,
   "metadata": {},
   "outputs": [
    {
     "data": {
      "text/html": [
       "<div>\n",
       "<style scoped>\n",
       "    .dataframe tbody tr th:only-of-type {\n",
       "        vertical-align: middle;\n",
       "    }\n",
       "\n",
       "    .dataframe tbody tr th {\n",
       "        vertical-align: top;\n",
       "    }\n",
       "\n",
       "    .dataframe thead th {\n",
       "        text-align: right;\n",
       "    }\n",
       "</style>\n",
       "<table border=\"1\" class=\"dataframe\">\n",
       "  <thead>\n",
       "    <tr style=\"text-align: right;\">\n",
       "      <th></th>\n",
       "      <th>pmid</th>\n",
       "      <th>secondary_doi</th>\n",
       "      <th>collection_id</th>\n",
       "      <th>collection_name</th>\n",
       "      <th>source</th>\n",
       "    </tr>\n",
       "  </thead>\n",
       "  <tbody>\n",
       "    <tr>\n",
       "      <th>0</th>\n",
       "      <td>29964190</td>\n",
       "      <td>10.1016/j.neuroimage.2018.06.076</td>\n",
       "      <td>3329</td>\n",
       "      <td>Movie clips</td>\n",
       "      <td>neurosynth</td>\n",
       "    </tr>\n",
       "    <tr>\n",
       "      <th>1</th>\n",
       "      <td>29964190</td>\n",
       "      <td>10.1016/j.neuroimage.2018.06.076</td>\n",
       "      <td>3330</td>\n",
       "      <td>Visual object recognition</td>\n",
       "      <td>neurosynth</td>\n",
       "    </tr>\n",
       "    <tr>\n",
       "      <th>2</th>\n",
       "      <td>30999087</td>\n",
       "      <td>10.1016/j.bandc.2019.04.002</td>\n",
       "      <td>4214</td>\n",
       "      <td>Statistical maps (unthresholded)</td>\n",
       "      <td>neurosynth</td>\n",
       "    </tr>\n",
       "    <tr>\n",
       "      <th>3</th>\n",
       "      <td>31472251</td>\n",
       "      <td>10.1016/j.neuroimage.2019.116133</td>\n",
       "      <td>5550</td>\n",
       "      <td>Frontal cortex differentiates betweenfree and ...</td>\n",
       "      <td>neurosynth</td>\n",
       "    </tr>\n",
       "    <tr>\n",
       "      <th>4</th>\n",
       "      <td>31487547</td>\n",
       "      <td>10.1016/j.neuroimage.2019.116150</td>\n",
       "      <td>5654</td>\n",
       "      <td>Effects of heart rate, respiratory flow, cardi...</td>\n",
       "      <td>neurosynth</td>\n",
       "    </tr>\n",
       "    <tr>\n",
       "      <th>5</th>\n",
       "      <td>31525499</td>\n",
       "      <td>10.1016/j.neuroimage.2019.116193</td>\n",
       "      <td>4430</td>\n",
       "      <td>False Belief Processing</td>\n",
       "      <td>neurosynth</td>\n",
       "    </tr>\n",
       "    <tr>\n",
       "      <th>6</th>\n",
       "      <td>32800754</td>\n",
       "      <td>10.1016/j.bpsc.2020.05.013</td>\n",
       "      <td>6628</td>\n",
       "      <td>Psychosis_ML_maps_fMRI</td>\n",
       "      <td>neurosynth</td>\n",
       "    </tr>\n",
       "    <tr>\n",
       "      <th>7</th>\n",
       "      <td>33508499</td>\n",
       "      <td>10.1016/j.bpsc.2021.01.003</td>\n",
       "      <td>8519</td>\n",
       "      <td>SUDMEX_TMS: The Mexican dataset of an rTMS cli...</td>\n",
       "      <td>neurosynth</td>\n",
       "    </tr>\n",
       "    <tr>\n",
       "      <th>8</th>\n",
       "      <td>33511981</td>\n",
       "      <td>10.1093/cercor/bhaa404</td>\n",
       "      <td>8941</td>\n",
       "      <td>Neural correlates of interpersonal space perme...</td>\n",
       "      <td>neurosynth</td>\n",
       "    </tr>\n",
       "    <tr>\n",
       "      <th>9</th>\n",
       "      <td>33524573</td>\n",
       "      <td>10.1016/j.neuroimage.2021.117820</td>\n",
       "      <td>9086</td>\n",
       "      <td>FADE_BMS/cvLME_maps</td>\n",
       "      <td>neurosynth</td>\n",
       "    </tr>\n",
       "    <tr>\n",
       "      <th>10</th>\n",
       "      <td>33549751</td>\n",
       "      <td>10.1016/j.neuroimage.2021.117822</td>\n",
       "      <td>6091</td>\n",
       "      <td>Age prediction from MRI using canonical correl...</td>\n",
       "      <td>neurosynth</td>\n",
       "    </tr>\n",
       "    <tr>\n",
       "      <th>11</th>\n",
       "      <td>33901568</td>\n",
       "      <td>10.1016/j.jneumeth.2021.109198</td>\n",
       "      <td>8563</td>\n",
       "      <td>Hybrid auditory fMRI imaging: in pursuit of in...</td>\n",
       "      <td>neurosynth</td>\n",
       "    </tr>\n",
       "    <tr>\n",
       "      <th>12</th>\n",
       "      <td>34322712</td>\n",
       "      <td>10.1093/cercor/bhab199</td>\n",
       "      <td>8614</td>\n",
       "      <td>“I Spy with my Little Eye, Something that is a...</td>\n",
       "      <td>neurosynth</td>\n",
       "    </tr>\n",
       "    <tr>\n",
       "      <th>13</th>\n",
       "      <td>34644388</td>\n",
       "      <td>10.1162/jocn_a_01779</td>\n",
       "      <td>7731</td>\n",
       "      <td>Think/No-Think &amp; task switching</td>\n",
       "      <td>neurosynth</td>\n",
       "    </tr>\n",
       "    <tr>\n",
       "      <th>14</th>\n",
       "      <td>34929345</td>\n",
       "      <td>10.1016/j.bpsc.2021.11.016</td>\n",
       "      <td>10441</td>\n",
       "      <td>mPFC seed connectivity in ASD</td>\n",
       "      <td>neurosynth</td>\n",
       "    </tr>\n",
       "    <tr>\n",
       "      <th>15</th>\n",
       "      <td>34961621</td>\n",
       "      <td>10.1016/j.biopsych.2021.09.026</td>\n",
       "      <td>9030</td>\n",
       "      <td>Moment-to-moment variability predicting treatm...</td>\n",
       "      <td>neurosynth</td>\n",
       "    </tr>\n",
       "    <tr>\n",
       "      <th>16</th>\n",
       "      <td>35750254</td>\n",
       "      <td>10.1016/j.neuroimage.2022.119404</td>\n",
       "      <td>11602</td>\n",
       "      <td>t map for the genuine and pretended disgust ta...</td>\n",
       "      <td>neurosynth</td>\n",
       "    </tr>\n",
       "    <tr>\n",
       "      <th>17</th>\n",
       "      <td>36162633</td>\n",
       "      <td>10.1016/j.neuroimage.2022.119648</td>\n",
       "      <td>10911</td>\n",
       "      <td>Vicarious learning of fear from friends and st...</td>\n",
       "      <td>neurosynth</td>\n",
       "    </tr>\n",
       "    <tr>\n",
       "      <th>18</th>\n",
       "      <td>36182055</td>\n",
       "      <td>10.1016/j.neuroimage.2022.119655</td>\n",
       "      <td>12818</td>\n",
       "      <td>Dynamic Facial Expression Processing Comparing...</td>\n",
       "      <td>neurosynth</td>\n",
       "    </tr>\n",
       "    <tr>\n",
       "      <th>19</th>\n",
       "      <td>36336314</td>\n",
       "      <td>10.1016/j.neuroimage.2022.119729</td>\n",
       "      <td>13110</td>\n",
       "      <td>BLMM Model 1</td>\n",
       "      <td>neurosynth</td>\n",
       "    </tr>\n",
       "    <tr>\n",
       "      <th>20</th>\n",
       "      <td>36336314</td>\n",
       "      <td>10.1016/j.neuroimage.2022.119729</td>\n",
       "      <td>13111</td>\n",
       "      <td>BLMM Model 2</td>\n",
       "      <td>neurosynth</td>\n",
       "    </tr>\n",
       "    <tr>\n",
       "      <th>21</th>\n",
       "      <td>36336314</td>\n",
       "      <td>10.1016/j.neuroimage.2022.119729</td>\n",
       "      <td>13112</td>\n",
       "      <td>BLMM Model 3</td>\n",
       "      <td>neurosynth</td>\n",
       "    </tr>\n",
       "    <tr>\n",
       "      <th>22</th>\n",
       "      <td>36336314</td>\n",
       "      <td>10.1016/j.neuroimage.2022.119729</td>\n",
       "      <td>10451</td>\n",
       "      <td>BLMM model comparison</td>\n",
       "      <td>neurosynth</td>\n",
       "    </tr>\n",
       "    <tr>\n",
       "      <th>23</th>\n",
       "      <td>36349596</td>\n",
       "      <td>10.1016/j.neuroimage.2022.119689</td>\n",
       "      <td>11847</td>\n",
       "      <td>Estradiol and oxytocin modulate sex difference...</td>\n",
       "      <td>neurosynth</td>\n",
       "    </tr>\n",
       "    <tr>\n",
       "      <th>24</th>\n",
       "      <td>36427754</td>\n",
       "      <td>10.1016/j.neuroimage.2022.119760</td>\n",
       "      <td>5876</td>\n",
       "      <td>NeCos_strucutral_ttest_delta</td>\n",
       "      <td>neurosynth</td>\n",
       "    </tr>\n",
       "    <tr>\n",
       "      <th>25</th>\n",
       "      <td>36812783</td>\n",
       "      <td>10.1016/j.neurobiolaging.2023.01.011</td>\n",
       "      <td>12828</td>\n",
       "      <td>SocialAL maps (thresholded at p &lt; .005, k = 50)</td>\n",
       "      <td>neurosynth</td>\n",
       "    </tr>\n",
       "  </tbody>\n",
       "</table>\n",
       "</div>"
      ],
      "text/plain": [
       "        pmid                         secondary_doi  collection_id  \\\n",
       "0   29964190      10.1016/j.neuroimage.2018.06.076           3329   \n",
       "1   29964190      10.1016/j.neuroimage.2018.06.076           3330   \n",
       "2   30999087           10.1016/j.bandc.2019.04.002           4214   \n",
       "3   31472251      10.1016/j.neuroimage.2019.116133           5550   \n",
       "4   31487547      10.1016/j.neuroimage.2019.116150           5654   \n",
       "5   31525499      10.1016/j.neuroimage.2019.116193           4430   \n",
       "6   32800754            10.1016/j.bpsc.2020.05.013           6628   \n",
       "7   33508499            10.1016/j.bpsc.2021.01.003           8519   \n",
       "8   33511981                10.1093/cercor/bhaa404           8941   \n",
       "9   33524573      10.1016/j.neuroimage.2021.117820           9086   \n",
       "10  33549751      10.1016/j.neuroimage.2021.117822           6091   \n",
       "11  33901568        10.1016/j.jneumeth.2021.109198           8563   \n",
       "12  34322712                10.1093/cercor/bhab199           8614   \n",
       "13  34644388                  10.1162/jocn_a_01779           7731   \n",
       "14  34929345            10.1016/j.bpsc.2021.11.016          10441   \n",
       "15  34961621        10.1016/j.biopsych.2021.09.026           9030   \n",
       "16  35750254      10.1016/j.neuroimage.2022.119404          11602   \n",
       "17  36162633      10.1016/j.neuroimage.2022.119648          10911   \n",
       "18  36182055      10.1016/j.neuroimage.2022.119655          12818   \n",
       "19  36336314      10.1016/j.neuroimage.2022.119729          13110   \n",
       "20  36336314      10.1016/j.neuroimage.2022.119729          13111   \n",
       "21  36336314      10.1016/j.neuroimage.2022.119729          13112   \n",
       "22  36336314      10.1016/j.neuroimage.2022.119729          10451   \n",
       "23  36349596      10.1016/j.neuroimage.2022.119689          11847   \n",
       "24  36427754      10.1016/j.neuroimage.2022.119760           5876   \n",
       "25  36812783  10.1016/j.neurobiolaging.2023.01.011          12828   \n",
       "\n",
       "                                      collection_name      source  \n",
       "0                                         Movie clips  neurosynth  \n",
       "1                           Visual object recognition  neurosynth  \n",
       "2                    Statistical maps (unthresholded)  neurosynth  \n",
       "3   Frontal cortex differentiates betweenfree and ...  neurosynth  \n",
       "4   Effects of heart rate, respiratory flow, cardi...  neurosynth  \n",
       "5                             False Belief Processing  neurosynth  \n",
       "6                              Psychosis_ML_maps_fMRI  neurosynth  \n",
       "7   SUDMEX_TMS: The Mexican dataset of an rTMS cli...  neurosynth  \n",
       "8   Neural correlates of interpersonal space perme...  neurosynth  \n",
       "9                                 FADE_BMS/cvLME_maps  neurosynth  \n",
       "10  Age prediction from MRI using canonical correl...  neurosynth  \n",
       "11  Hybrid auditory fMRI imaging: in pursuit of in...  neurosynth  \n",
       "12  “I Spy with my Little Eye, Something that is a...  neurosynth  \n",
       "13                    Think/No-Think & task switching  neurosynth  \n",
       "14                     mPFC seed connectivity in ASD   neurosynth  \n",
       "15  Moment-to-moment variability predicting treatm...  neurosynth  \n",
       "16  t map for the genuine and pretended disgust ta...  neurosynth  \n",
       "17  Vicarious learning of fear from friends and st...  neurosynth  \n",
       "18  Dynamic Facial Expression Processing Comparing...  neurosynth  \n",
       "19                                       BLMM Model 1  neurosynth  \n",
       "20                                       BLMM Model 2  neurosynth  \n",
       "21                                       BLMM Model 3  neurosynth  \n",
       "22                              BLMM model comparison  neurosynth  \n",
       "23  Estradiol and oxytocin modulate sex difference...  neurosynth  \n",
       "24                       NeCos_strucutral_ttest_delta  neurosynth  \n",
       "25    SocialAL maps (thresholded at p < .005, k = 50)  neurosynth  "
      ]
     },
     "execution_count": 99,
     "metadata": {},
     "output_type": "execute_result"
    }
   ],
   "source": [
    "neurosynth_nv_df"
   ]
  },
  {
   "cell_type": "code",
   "execution_count": null,
   "metadata": {},
   "outputs": [],
   "source": [
    "# collections.groupby(\"owner_id\").size().sort_values(ascending=False).to_csv(\"collections_owner.csv\")\n",
    "# collections.groupby(\"owner_id\").size()\n",
    "# data_dict = [eval(image) for image in image[\"data\"].dropna().to_list()]\n",
    "# not_empty_dict = [d for d in data_dict if len(d) > 0]\n",
    "# len(data_dict)\n",
    "# len(not_empty_dict)"
   ]
  },
  {
   "cell_type": "markdown",
   "metadata": {},
   "source": [
    "# NeuroVault data\n"
   ]
  },
  {
   "cell_type": "markdown",
   "metadata": {},
   "source": [
    "### Collections with coordinates\n"
   ]
  },
  {
   "cell_type": "code",
   "execution_count": 7,
   "metadata": {},
   "outputs": [],
   "source": [
    "coordinates, metadata, neurovault = _join_pubget_queries(\n",
    "    pubget_dir, [query_neurovault, query_extensive]\n",
    ")"
   ]
  },
  {
   "cell_type": "code",
   "execution_count": 8,
   "metadata": {},
   "outputs": [],
   "source": [
    "coordinate_counts = (\n",
    "    coordinates.groupby(\"pmcid\")\n",
    "    .count()\n",
    "    .reset_index()[[\"pmcid\", \"table_id\"]]\n",
    "    .rename(columns={\"table_id\": \"coordinate_count\"})\n",
    ")\n",
    "nv_coordinate_counts = pd.merge(neurovault, coordinate_counts, how=\"outer\", on=\"pmcid\")\n",
    "nv_coordinate_counts = pd.merge(\n",
    "    nv_coordinate_counts, metadata[[\"pmcid\", \"publication_year\"]], how=\"left\"\n",
    ")\n",
    "nv_coordinate_counts[\"has_only_coordinates\"] = (\n",
    "    nv_coordinate_counts.coordinate_count.isna() == False\n",
    ") & (nv_coordinate_counts.collection_id.isna())\n",
    "nv_coordinate_counts[\"has_only_collection\"] = (\n",
    "    nv_coordinate_counts.collection_id.isna() == False\n",
    ") & ((nv_coordinate_counts.coordinate_count.isna()))\n",
    "nv_coordinate_counts[\"has_both\"] = (nv_coordinate_counts.collection_id.isna() == False) & (\n",
    "    (nv_coordinate_counts.coordinate_count.isna() == False)\n",
    ")\n",
    "nv_coordinate_counts = nv_coordinate_counts[nv_coordinate_counts[\"publication_year\"] != 2024]"
   ]
  },
  {
   "cell_type": "code",
   "execution_count": 9,
   "metadata": {},
   "outputs": [
    {
     "data": {
      "image/png": "[encoded data removed]",
      "text/plain": [
       "<Figure size 650x350 with 1 Axes>"
      ]
     },
     "metadata": {},
     "output_type": "display_data"
    }
   ],
   "source": [
    "df_counts = nv_coordinate_counts.groupby(\"publication_year\").size().reset_index(name=\"counts\")\n",
    "\n",
    "# Separate the counts into two columns based on whether the row has a coordinate or a collection\n",
    "df_counts[\"has_only_coordinates\"] = (\n",
    "    nv_coordinate_counts.groupby(\"publication_year\")[\"has_only_coordinates\"].sum().values\n",
    ")\n",
    "df_counts[\"has_only_collection\"] = (\n",
    "    nv_coordinate_counts.groupby(\"publication_year\")[\"has_only_collection\"].sum().values\n",
    ")\n",
    "df_counts[\"has_both\"] = nv_coordinate_counts.groupby(\"publication_year\")[\"has_both\"].sum().values\n",
    "\n",
    "# Set the figure size and create a bar plot\n",
    "height = 3.5\n",
    "width = 6.5\n",
    "fig, ax = plt.subplots(1, 1)\n",
    "fig.set_size_inches(width, height)\n",
    "\n",
    "plt.bar(df_counts[\"publication_year\"], df_counts[\"has_only_coordinates\"], label=\"Has Coordinates\")\n",
    "plt.bar(\n",
    "    df_counts[\"publication_year\"],\n",
    "    df_counts[\"has_only_collection\"],\n",
    "    bottom=df_counts[\"has_only_coordinates\"],\n",
    "    label=\"Has Collection\",\n",
    ")\n",
    "plt.bar(\n",
    "    df_counts[\"publication_year\"],\n",
    "    df_counts[\"has_both\"],\n",
    "    bottom=df_counts[\"has_only_collection\"] + df_counts[\"has_only_coordinates\"],\n",
    "    label=\"Has Both\",\n",
    ")\n",
    "\n",
    "# Add labels and titles\n",
    "plt.xlabel(\"Year\")\n",
    "plt.ylabel(\"Number of Papers\")\n",
    "plt.title(\"Number of Papers with Coordinates and Collections by Year\")\n",
    "plt.legend()\n",
    "fig.savefig(op.join(fig_dir, \"00_coords_and_coll_by_year.png\"), bbox_inches=\"tight\", dpi=DPI)\n",
    "plt.show()"
   ]
  },
  {
   "cell_type": "markdown",
   "metadata": {},
   "source": [
    "### Collections per year\n"
   ]
  },
  {
   "cell_type": "code",
   "execution_count": 10,
   "metadata": {},
   "outputs": [],
   "source": [
    "collections_by_year = collections[[\"id\", \"add_date\", \"DOI\"]].rename(columns={\"add_date\": \"year\"})\n",
    "years = [date.split(\"-\")[0] for date in collections_by_year[\"year\"]]\n",
    "collections_by_year[\"year\"] = years\n",
    "# Drop 2024 collecitons\n",
    "collections_by_year = collections_by_year[collections_by_year[\"year\"] != \"2024\"]\n",
    "collections_by_year_df = collections_by_year.groupby(\"year\").size()\n",
    "collections_by_year_doi_df = collections_by_year.dropna(subset=[\"DOI\"]).groupby(\"year\").size()"
   ]
  },
  {
   "cell_type": "code",
   "execution_count": 11,
   "metadata": {},
   "outputs": [],
   "source": [
    "collections[[\"id\", \"add_date\", \"DOI\"]].to_csv(op.join(fig_dir, \"01_collections_by_add-date.csv\"))"
   ]
  },
  {
   "cell_type": "code",
   "execution_count": 12,
   "metadata": {},
   "outputs": [
    {
     "name": "stderr",
     "output_type": "stream",
     "text": [
      "INFO:matplotlib.category:Using categorical units to plot a list of strings that are all parsable as floats or dates. If these strings should be plotted as numbers, cast to the appropriate data type before plotting.\n",
      "INFO:matplotlib.category:Using categorical units to plot a list of strings that are all parsable as floats or dates. If these strings should be plotted as numbers, cast to the appropriate data type before plotting.\n"
     ]
    },
    {
     "name": "stderr",
     "output_type": "stream",
     "text": [
      "INFO:matplotlib.category:Using categorical units to plot a list of strings that are all parsable as floats or dates. If these strings should be plotted as numbers, cast to the appropriate data type before plotting.\n",
      "INFO:matplotlib.category:Using categorical units to plot a list of strings that are all parsable as floats or dates. If these strings should be plotted as numbers, cast to the appropriate data type before plotting.\n"
     ]
    },
    {
     "data": {
      "image/png": "[encoded data removed]",
      "text/plain": [
       "<Figure size 700x350 with 1 Axes>"
      ]
     },
     "metadata": {},
     "output_type": "display_data"
    }
   ],
   "source": [
    "height = 3.5\n",
    "width = (collections_by_year_df.shape[0] + 3) / 2\n",
    "fig, ax = plt.subplots(1, 1)\n",
    "fig.set_size_inches(width, height)\n",
    "\n",
    "sns.set_color_codes(\"pastel\")\n",
    "sns.barplot(data=collections_by_year_df, label=\"Total\", color=\"b\", ax=ax)\n",
    "for i, v in enumerate(collections_by_year_df.values):\n",
    "    if i != 0:\n",
    "        ax.text(i, v + 0.5, str(v), color=\"black\", ha=\"center\", fontsize=FONTSIZE - 2)\n",
    "    else:\n",
    "        pre = v  # Save the first value for later\n",
    "\n",
    "sns.set_color_codes(\"muted\")\n",
    "sns.barplot(data=collections_by_year_doi_df, label=\"Has DOI\", color=\"b\", ax=ax)\n",
    "for i, v in enumerate(collections_by_year_doi_df.values):\n",
    "    label = f\"{str(v)} / {pre}\" if i == 0 else str(v)\n",
    "    ax.text(i, v + 5, label, color=\"black\", ha=\"center\", fontsize=FONTSIZE - 2)\n",
    "\n",
    "ax.legend(ncol=1, loc=\"upper left\", frameon=True)\n",
    "plt.xticks(fontsize=FONTSIZE)\n",
    "plt.yticks(fontsize=FONTSIZE)\n",
    "ax.set_xlabel(\"Year\", fontsize=FONTSIZE + 2)\n",
    "ax.set_ylabel(\"Number of Collections\", fontsize=FONTSIZE + 2)\n",
    "ax.set_title(\"Number of Collections Added Each Year\", fontsize=FONTSIZE + 2)\n",
    "fig.savefig(op.join(fig_dir, \"01_collections_by_year.png\"), bbox_inches=\"tight\", dpi=DPI)\n",
    "plt.show()"
   ]
  },
  {
   "cell_type": "markdown",
   "metadata": {},
   "source": [
    "### Proporion of private collections\n"
   ]
  },
  {
   "cell_type": "code",
   "execution_count": 13,
   "metadata": {},
   "outputs": [],
   "source": [
    "collection_by_private = collections.groupby(\"private\").size()\n",
    "collection_by_private = pd.DataFrame(collection_by_private)\n",
    "collection_by_private = collection_by_private.rename(\n",
    "    columns={collection_by_private.columns[0]: \"count\"}\n",
    ")\n",
    "collection_by_private = collection_by_private.reset_index()\n",
    "collection_by_private[\"private\"] = collection_by_private[\"private\"].replace(\n",
    "    {\"f\": \"Public\", \"t\": \"Private\"}\n",
    ")"
   ]
  },
  {
   "cell_type": "code",
   "execution_count": 36,
   "metadata": {},
   "outputs": [
    {
     "data": {
      "application/vnd.plotly.v1+json": {
       "config": {
        "plotlyServerURL": "https://plot.ly"
       },
       "data": [
        {
         "domain": {
          "x": [
           0,
           1
          ],
          "y": [
           0,
           1
          ]
         },
         "hovertemplate": "private=%{label}<br>count=%{value}<extra></extra>",
         "labels": [
          "Public",
          "Private"
         ],
         "legendgroup": "",
         "name": "",
         "showlegend": true,
         "textinfo": "value+percent+label",
         "textposition": "inside",
         "type": "pie",
         "values": [
          4251,
          1630
         ]
        }
       ],
       "layout": {
        "autosize": true,
        "height": 450,
        "legend": {
         "tracegroupgap": 0,
         "x": 1,
         "xanchor": "left",
         "y": 0.5,
         "yanchor": "middle"
        },
        "margin": {
         "b": 0,
         "l": 50,
         "r": 0,
         "t": 0
        },
        "piecolorway": [
         "#3366CC",
         "#DC3912"
        ],
        "template": {
         "data": {
          "bar": [
           {
            "error_x": {
             "color": "#2a3f5f"
            },
            "error_y": {
             "color": "#2a3f5f"
            },
            "marker": {
             "line": {
              "color": "#E5ECF6",
              "width": 0.5
             },
             "pattern": {
              "fillmode": "overlay",
              "size": 10,
              "solidity": 0.2
             }
            },
            "type": "bar"
           }
          ],
          "barpolar": [
           {
            "marker": {
             "line": {
              "color": "#E5ECF6",
              "width": 0.5
             },
             "pattern": {
              "fillmode": "overlay",
              "size": 10,
              "solidity": 0.2
             }
            },
            "type": "barpolar"
           }
          ],
          "carpet": [
           {
            "aaxis": {
             "endlinecolor": "#2a3f5f",
             "gridcolor": "white",
             "linecolor": "white",
             "minorgridcolor": "white",
             "startlinecolor": "#2a3f5f"
            },
            "baxis": {
             "endlinecolor": "#2a3f5f",
             "gridcolor": "white",
             "linecolor": "white",
             "minorgridcolor": "white",
             "startlinecolor": "#2a3f5f"
            },
            "type": "carpet"
           }
          ],
          "choropleth": [
           {
            "colorbar": {
             "outlinewidth": 0,
             "ticks": ""
            },
            "type": "choropleth"
           }
          ],
          "contour": [
           {
            "colorbar": {
             "outlinewidth": 0,
             "ticks": ""
            },
            "colorscale": [
             [
              0,
              "#0d0887"
             ],
             [
              0.1111111111111111,
              "#46039f"
             ],
             [
              0.2222222222222222,
              "#7201a8"
             ],
             [
              0.3333333333333333,
              "#9c179e"
             ],
             [
              0.4444444444444444,
              "#bd3786"
             ],
             [
              0.5555555555555556,
              "#d8576b"
             ],
             [
              0.6666666666666666,
              "#ed7953"
             ],
             [
              0.7777777777777778,
              "#fb9f3a"
             ],
             [
              0.8888888888888888,
              "#fdca26"
             ],
             [
              1,
              "#f0f921"
             ]
            ],
            "type": "contour"
           }
          ],
          "contourcarpet": [
           {
            "colorbar": {
             "outlinewidth": 0,
             "ticks": ""
            },
            "type": "contourcarpet"
           }
          ],
          "heatmap": [
           {
            "colorbar": {
             "outlinewidth": 0,
             "ticks": ""
            },
            "colorscale": [
             [
              0,
              "#0d0887"
             ],
             [
              0.1111111111111111,
              "#46039f"
             ],
             [
              0.2222222222222222,
              "#7201a8"
             ],
             [
              0.3333333333333333,
              "#9c179e"
             ],
             [
              0.4444444444444444,
              "#bd3786"
             ],
             [
              0.5555555555555556,
              "#d8576b"
             ],
             [
              0.6666666666666666,
              "#ed7953"
             ],
             [
              0.7777777777777778,
              "#fb9f3a"
             ],
             [
              0.8888888888888888,
              "#fdca26"
             ],
             [
              1,
              "#f0f921"
             ]
            ],
            "type": "heatmap"
           }
          ],
          "heatmapgl": [
           {
            "colorbar": {
             "outlinewidth": 0,
             "ticks": ""
            },
            "colorscale": [
             [
              0,
              "#0d0887"
             ],
             [
              0.1111111111111111,
              "#46039f"
             ],
             [
              0.2222222222222222,
              "#7201a8"
             ],
             [
              0.3333333333333333,
              "#9c179e"
             ],
             [
              0.4444444444444444,
              "#bd3786"
             ],
             [
              0.5555555555555556,
              "#d8576b"
             ],
             [
              0.6666666666666666,
              "#ed7953"
             ],
             [
              0.7777777777777778,
              "#fb9f3a"
             ],
             [
              0.8888888888888888,
              "#fdca26"
             ],
             [
              1,
              "#f0f921"
             ]
            ],
            "type": "heatmapgl"
           }
          ],
          "histogram": [
           {
            "marker": {
             "pattern": {
              "fillmode": "overlay",
              "size": 10,
              "solidity": 0.2
             }
            },
            "type": "histogram"
           }
          ],
          "histogram2d": [
           {
            "colorbar": {
             "outlinewidth": 0,
             "ticks": ""
            },
            "colorscale": [
             [
              0,
              "#0d0887"
             ],
             [
              0.1111111111111111,
              "#46039f"
             ],
             [
              0.2222222222222222,
              "#7201a8"
             ],
             [
              0.3333333333333333,
              "#9c179e"
             ],
             [
              0.4444444444444444,
              "#bd3786"
             ],
             [
              0.5555555555555556,
              "#d8576b"
             ],
             [
              0.6666666666666666,
              "#ed7953"
             ],
             [
              0.7777777777777778,
              "#fb9f3a"
             ],
             [
              0.8888888888888888,
              "#fdca26"
             ],
             [
              1,
              "#f0f921"
             ]
            ],
            "type": "histogram2d"
           }
          ],
          "histogram2dcontour": [
           {
            "colorbar": {
             "outlinewidth": 0,
             "ticks": ""
            },
            "colorscale": [
             [
              0,
              "#0d0887"
             ],
             [
              0.1111111111111111,
              "#46039f"
             ],
             [
              0.2222222222222222,
              "#7201a8"
             ],
             [
              0.3333333333333333,
              "#9c179e"
             ],
             [
              0.4444444444444444,
              "#bd3786"
             ],
             [
              0.5555555555555556,
              "#d8576b"
             ],
             [
              0.6666666666666666,
              "#ed7953"
             ],
             [
              0.7777777777777778,
              "#fb9f3a"
             ],
             [
              0.8888888888888888,
              "#fdca26"
             ],
             [
              1,
              "#f0f921"
             ]
            ],
            "type": "histogram2dcontour"
           }
          ],
          "mesh3d": [
           {
            "colorbar": {
             "outlinewidth": 0,
             "ticks": ""
            },
            "type": "mesh3d"
           }
          ],
          "parcoords": [
           {
            "line": {
             "colorbar": {
              "outlinewidth": 0,
              "ticks": ""
             }
            },
            "type": "parcoords"
           }
          ],
          "pie": [
           {
            "automargin": true,
            "type": "pie"
           }
          ],
          "scatter": [
           {
            "fillpattern": {
             "fillmode": "overlay",
             "size": 10,
             "solidity": 0.2
            },
            "type": "scatter"
           }
          ],
          "scatter3d": [
           {
            "line": {
             "colorbar": {
              "outlinewidth": 0,
              "ticks": ""
             }
            },
            "marker": {
             "colorbar": {
              "outlinewidth": 0,
              "ticks": ""
             }
            },
            "type": "scatter3d"
           }
          ],
          "scattercarpet": [
           {
            "marker": {
             "colorbar": {
              "outlinewidth": 0,
              "ticks": ""
             }
            },
            "type": "scattercarpet"
           }
          ],
          "scattergeo": [
           {
            "marker": {
             "colorbar": {
              "outlinewidth": 0,
              "ticks": ""
             }
            },
            "type": "scattergeo"
           }
          ],
          "scattergl": [
           {
            "marker": {
             "colorbar": {
              "outlinewidth": 0,
              "ticks": ""
             }
            },
            "type": "scattergl"
           }
          ],
          "scattermapbox": [
           {
            "marker": {
             "colorbar": {
              "outlinewidth": 0,
              "ticks": ""
             }
            },
            "type": "scattermapbox"
           }
          ],
          "scatterpolar": [
           {
            "marker": {
             "colorbar": {
              "outlinewidth": 0,
              "ticks": ""
             }
            },
            "type": "scatterpolar"
           }
          ],
          "scatterpolargl": [
           {
            "marker": {
             "colorbar": {
              "outlinewidth": 0,
              "ticks": ""
             }
            },
            "type": "scatterpolargl"
           }
          ],
          "scatterternary": [
           {
            "marker": {
             "colorbar": {
              "outlinewidth": 0,
              "ticks": ""
             }
            },
            "type": "scatterternary"
           }
          ],
          "surface": [
           {
            "colorbar": {
             "outlinewidth": 0,
             "ticks": ""
            },
            "colorscale": [
             [
              0,
              "#0d0887"
             ],
             [
              0.1111111111111111,
              "#46039f"
             ],
             [
              0.2222222222222222,
              "#7201a8"
             ],
             [
              0.3333333333333333,
              "#9c179e"
             ],
             [
              0.4444444444444444,
              "#bd3786"
             ],
             [
              0.5555555555555556,
              "#d8576b"
             ],
             [
              0.6666666666666666,
              "#ed7953"
             ],
             [
              0.7777777777777778,
              "#fb9f3a"
             ],
             [
              0.8888888888888888,
              "#fdca26"
             ],
             [
              1,
              "#f0f921"
             ]
            ],
            "type": "surface"
           }
          ],
          "table": [
           {
            "cells": {
             "fill": {
              "color": "#EBF0F8"
             },
             "line": {
              "color": "white"
             }
            },
            "header": {
             "fill": {
              "color": "#C8D4E3"
             },
             "line": {
              "color": "white"
             }
            },
            "type": "table"
           }
          ]
         },
         "layout": {
          "annotationdefaults": {
           "arrowcolor": "#2a3f5f",
           "arrowhead": 0,
           "arrowwidth": 1
          },
          "autotypenumbers": "strict",
          "coloraxis": {
           "colorbar": {
            "outlinewidth": 0,
            "ticks": ""
           }
          },
          "colorscale": {
           "diverging": [
            [
             0,
             "#8e0152"
            ],
            [
             0.1,
             "#c51b7d"
            ],
            [
             0.2,
             "#de77ae"
            ],
            [
             0.3,
             "#f1b6da"
            ],
            [
             0.4,
             "#fde0ef"
            ],
            [
             0.5,
             "#f7f7f7"
            ],
            [
             0.6,
             "#e6f5d0"
            ],
            [
             0.7,
             "#b8e186"
            ],
            [
             0.8,
             "#7fbc41"
            ],
            [
             0.9,
             "#4d9221"
            ],
            [
             1,
             "#276419"
            ]
           ],
           "sequential": [
            [
             0,
             "#0d0887"
            ],
            [
             0.1111111111111111,
             "#46039f"
            ],
            [
             0.2222222222222222,
             "#7201a8"
            ],
            [
             0.3333333333333333,
             "#9c179e"
            ],
            [
             0.4444444444444444,
             "#bd3786"
            ],
            [
             0.5555555555555556,
             "#d8576b"
            ],
            [
             0.6666666666666666,
             "#ed7953"
            ],
            [
             0.7777777777777778,
             "#fb9f3a"
            ],
            [
             0.8888888888888888,
             "#fdca26"
            ],
            [
             1,
             "#f0f921"
            ]
           ],
           "sequentialminus": [
            [
             0,
             "#0d0887"
            ],
            [
             0.1111111111111111,
             "#46039f"
            ],
            [
             0.2222222222222222,
             "#7201a8"
            ],
            [
             0.3333333333333333,
             "#9c179e"
            ],
            [
             0.4444444444444444,
             "#bd3786"
            ],
            [
             0.5555555555555556,
             "#d8576b"
            ],
            [
             0.6666666666666666,
             "#ed7953"
            ],
            [
             0.7777777777777778,
             "#fb9f3a"
            ],
            [
             0.8888888888888888,
             "#fdca26"
            ],
            [
             1,
             "#f0f921"
            ]
           ]
          },
          "colorway": [
           "#636efa",
           "#EF553B",
           "#00cc96",
           "#ab63fa",
           "#FFA15A",
           "#19d3f3",
           "#FF6692",
           "#B6E880",
           "#FF97FF",
           "#FECB52"
          ],
          "font": {
           "color": "#2a3f5f"
          },
          "geo": {
           "bgcolor": "white",
           "lakecolor": "white",
           "landcolor": "#E5ECF6",
           "showlakes": true,
           "showland": true,
           "subunitcolor": "white"
          },
          "hoverlabel": {
           "align": "left"
          },
          "hovermode": "closest",
          "mapbox": {
           "style": "light"
          },
          "paper_bgcolor": "white",
          "plot_bgcolor": "#E5ECF6",
          "polar": {
           "angularaxis": {
            "gridcolor": "white",
            "linecolor": "white",
            "ticks": ""
           },
           "bgcolor": "#E5ECF6",
           "radialaxis": {
            "gridcolor": "white",
            "linecolor": "white",
            "ticks": ""
           }
          },
          "scene": {
           "xaxis": {
            "backgroundcolor": "#E5ECF6",
            "gridcolor": "white",
            "gridwidth": 2,
            "linecolor": "white",
            "showbackground": true,
            "ticks": "",
            "zerolinecolor": "white"
           },
           "yaxis": {
            "backgroundcolor": "#E5ECF6",
            "gridcolor": "white",
            "gridwidth": 2,
            "linecolor": "white",
            "showbackground": true,
            "ticks": "",
            "zerolinecolor": "white"
           },
           "zaxis": {
            "backgroundcolor": "#E5ECF6",
            "gridcolor": "white",
            "gridwidth": 2,
            "linecolor": "white",
            "showbackground": true,
            "ticks": "",
            "zerolinecolor": "white"
           }
          },
          "shapedefaults": {
           "line": {
            "color": "#2a3f5f"
           }
          },
          "ternary": {
           "aaxis": {
            "gridcolor": "white",
            "linecolor": "white",
            "ticks": ""
           },
           "baxis": {
            "gridcolor": "white",
            "linecolor": "white",
            "ticks": ""
           },
           "bgcolor": "#E5ECF6",
           "caxis": {
            "gridcolor": "white",
            "linecolor": "white",
            "ticks": ""
           }
          },
          "title": {
           "x": 0.05
          },
          "xaxis": {
           "automargin": true,
           "gridcolor": "white",
           "linecolor": "white",
           "ticks": "",
           "title": {
            "standoff": 15
           },
           "zerolinecolor": "white",
           "zerolinewidth": 2
          },
          "yaxis": {
           "automargin": true,
           "gridcolor": "white",
           "linecolor": "white",
           "ticks": "",
           "title": {
            "standoff": 15
           },
           "zerolinecolor": "white",
           "zerolinewidth": 2
          }
         }
        },
        "width": 450
       }
      }
     },
     "metadata": {},
     "output_type": "display_data"
    }
   ],
   "source": [
    "fig = _plot_pie(collection_by_private, \"count\", \"private\", text_inside=True)\n",
    "fig.update_layout(\n",
    "    legend=dict(xanchor='left', yanchor='middle', y=0.5, x=1),\n",
    "    margin=dict(l=50, r=0, t=0, b=0),\n",
    "    autosize=True\n",
    ")\n",
    "fig.write_html(\n",
    "    op.join(fig_dir, \"02_collections_private.html\"), full_html=True, include_plotlyjs=True\n",
    ")\n",
    "fig.write_image(op.join(fig_dir, \"02_collections_private.png\"), scale=6)\n",
    "fig.show()"
   ]
  },
  {
   "cell_type": "markdown",
   "metadata": {},
   "source": [
    "## Images per year\n"
   ]
  },
  {
   "cell_type": "code",
   "execution_count": 37,
   "metadata": {},
   "outputs": [
    {
     "name": "stderr",
     "output_type": "stream",
     "text": [
      "/var/folders/m9/_ygtgkg17990695673wz4l78j5bsz9/T/ipykernel_35559/3187889338.py:5: SettingWithCopyWarning:\n",
      "\n",
      "\n",
      "A value is trying to be set on a copy of a slice from a DataFrame.\n",
      "Try using .loc[row_indexer,col_indexer] = value instead\n",
      "\n",
      "See the caveats in the documentation: https://pandas.pydata.org/pandas-docs/stable/user_guide/indexing.html#returning-a-view-versus-a-copy\n",
      "\n",
      "/var/folders/m9/_ygtgkg17990695673wz4l78j5bsz9/T/ipykernel_35559/3187889338.py:16: UserWarning:\n",
      "\n",
      "Boolean Series key will be reindexed to match DataFrame index.\n",
      "\n"
     ]
    }
   ],
   "source": [
    "statisticmap_merged_red = statisticmap_merged[\n",
    "    statisticmap_merged.collection_id.isin(collections.id)\n",
    "]\n",
    "img_years = [date.split(\"-\")[0] for date in statisticmap_merged_red[\"add_date\"]]\n",
    "statisticmap_merged_red[\"year\"] = img_years\n",
    "\n",
    "images_by_year = statisticmap_merged_red[\n",
    "    [\"image_ptr_id\", \"year\", \"cognitive_paradigm_cogatlas_id\", \"cognitive_contrast_cogatlas_id\"]\n",
    "]\n",
    "images_by_year = images_by_year[images_by_year[\"year\"] != \"2024\"]\n",
    "images_by_year_df = images_by_year.groupby(\"year\").size()\n",
    "images_by_year_task_df = (\n",
    "    images_by_year.dropna(subset=[\"cognitive_paradigm_cogatlas_id\"]).groupby(\"year\").size()\n",
    ")\n",
    "images_by_year_contrast_df = (\n",
    "    images_by_year.dropna(subset=[\"cognitive_contrast_cogatlas_id\"])[\n",
    "        images_by_year[\"cognitive_contrast_cogatlas_id\"] != \"Other\"\n",
    "    ]\n",
    "    .groupby(\"year\")\n",
    "    .size()\n",
    ")"
   ]
  },
  {
   "cell_type": "code",
   "execution_count": 38,
   "metadata": {},
   "outputs": [
    {
     "name": "stderr",
     "output_type": "stream",
     "text": [
      "INFO:matplotlib.category:Using categorical units to plot a list of strings that are all parsable as floats or dates. If these strings should be plotted as numbers, cast to the appropriate data type before plotting.\n",
      "INFO:matplotlib.category:Using categorical units to plot a list of strings that are all parsable as floats or dates. If these strings should be plotted as numbers, cast to the appropriate data type before plotting.\n",
      "INFO:matplotlib.category:Using categorical units to plot a list of strings that are all parsable as floats or dates. If these strings should be plotted as numbers, cast to the appropriate data type before plotting.\n",
      "INFO:matplotlib.category:Using categorical units to plot a list of strings that are all parsable as floats or dates. If these strings should be plotted as numbers, cast to the appropriate data type before plotting.\n",
      "INFO:matplotlib.category:Using categorical units to plot a list of strings that are all parsable as floats or dates. If these strings should be plotted as numbers, cast to the appropriate data type before plotting.\n",
      "INFO:matplotlib.category:Using categorical units to plot a list of strings that are all parsable as floats or dates. If these strings should be plotted as numbers, cast to the appropriate data type before plotting.\n"
     ]
    },
    {
     "data": {
      "image/png": "[encoded data removed]",
      "text/plain": [
       "<Figure size 550x350 with 1 Axes>"
      ]
     },
     "metadata": {},
     "output_type": "display_data"
    }
   ],
   "source": [
    "height = 3.5\n",
    "width = (images_by_year_df.shape[0] + 3) / 2\n",
    "fig, ax = plt.subplots(1, 1)\n",
    "fig.set_size_inches(width, height)\n",
    "\n",
    "sns.set_color_codes(\"pastel\")\n",
    "sns.barplot(data=images_by_year_df, label=\"Total\", color=\"b\", ax=ax)\n",
    "for i, v in enumerate(images_by_year_df.values):\n",
    "    ax.text(i, v + 100, str(v), color=\"black\", ha=\"center\", fontsize=FONTSIZE - 2)\n",
    "\n",
    "sns.set_color_codes(\"muted\")\n",
    "sns.barplot(data=images_by_year_task_df, label=\"Has Task\", color=\"b\", ax=ax)\n",
    "sns.barplot(data=images_by_year_contrast_df, label=\"Has Contrast\", color=\"k\", ax=ax)\n",
    "\n",
    "ax.legend(ncol=3, loc=\"upper center\", bbox_to_anchor=(0.5, -0.2), frameon=True, fontsize=FONTSIZE)\n",
    "plt.xticks(fontsize=FONTSIZE)\n",
    "plt.yticks(fontsize=FONTSIZE)\n",
    "ax.set_xlabel(\"Year\", fontsize=FONTSIZE + 2)\n",
    "ax.set_ylabel(\"Number of Images\", fontsize=FONTSIZE + 2)\n",
    "ax.set_title(\"Number of Images Added Each Year\", fontsize=FONTSIZE + 2)\n",
    "fig.savefig(op.join(fig_dir, \"03_images_by_year.png\"), bbox_inches=\"tight\", dpi=DPI)\n",
    "plt.show()"
   ]
  },
  {
   "cell_type": "markdown",
   "metadata": {},
   "source": [
    "### Images thresholded\n"
   ]
  },
  {
   "cell_type": "code",
   "execution_count": 39,
   "metadata": {},
   "outputs": [],
   "source": [
    "images_thresholded = statisticmap_merged_red.groupby(\"is_thresholded\").size()\n",
    "images_thresholded = pd.DataFrame(images_thresholded)\n",
    "images_thresholded = images_thresholded.rename(columns={images_thresholded.columns[0]: \"count\"})\n",
    "images_thresholded = images_thresholded.reset_index()\n",
    "images_thresholded[\"is_thresholded\"] = images_thresholded[\"is_thresholded\"].replace(\n",
    "    {\"f\": \"Unthresholded\", \"t\": \"Thresholded\"}\n",
    ")"
   ]
  },
  {
   "cell_type": "code",
   "execution_count": 40,
   "metadata": {},
   "outputs": [
    {
     "data": {
      "application/vnd.plotly.v1+json": {
       "config": {
        "plotlyServerURL": "https://plot.ly"
       },
       "data": [
        {
         "domain": {
          "x": [
           0,
           1
          ],
          "y": [
           0,
           1
          ]
         },
         "hovertemplate": "is_thresholded=%{label}<br>count=%{value}<extra></extra>",
         "labels": [
          "Unthresholded",
          "Thresholded"
         ],
         "legendgroup": "",
         "name": "",
         "showlegend": true,
         "textinfo": "value+percent+label",
         "textposition": "inside",
         "type": "pie",
         "values": [
          206206,
          57358
         ]
        }
       ],
       "layout": {
        "autosize": true,
        "height": 450,
        "legend": {
         "tracegroupgap": 0,
         "x": 1,
         "xanchor": "left",
         "y": 0.5,
         "yanchor": "middle"
        },
        "margin": {
         "b": 0,
         "l": 50,
         "r": 0,
         "t": 0
        },
        "piecolorway": [
         "#3366CC",
         "#DC3912"
        ],
        "template": {
         "data": {
          "bar": [
           {
            "error_x": {
             "color": "#2a3f5f"
            },
            "error_y": {
             "color": "#2a3f5f"
            },
            "marker": {
             "line": {
              "color": "#E5ECF6",
              "width": 0.5
             },
             "pattern": {
              "fillmode": "overlay",
              "size": 10,
              "solidity": 0.2
             }
            },
            "type": "bar"
           }
          ],
          "barpolar": [
           {
            "marker": {
             "line": {
              "color": "#E5ECF6",
              "width": 0.5
             },
             "pattern": {
              "fillmode": "overlay",
              "size": 10,
              "solidity": 0.2
             }
            },
            "type": "barpolar"
           }
          ],
          "carpet": [
           {
            "aaxis": {
             "endlinecolor": "#2a3f5f",
             "gridcolor": "white",
             "linecolor": "white",
             "minorgridcolor": "white",
             "startlinecolor": "#2a3f5f"
            },
            "baxis": {
             "endlinecolor": "#2a3f5f",
             "gridcolor": "white",
             "linecolor": "white",
             "minorgridcolor": "white",
             "startlinecolor": "#2a3f5f"
            },
            "type": "carpet"
           }
          ],
          "choropleth": [
           {
            "colorbar": {
             "outlinewidth": 0,
             "ticks": ""
            },
            "type": "choropleth"
           }
          ],
          "contour": [
           {
            "colorbar": {
             "outlinewidth": 0,
             "ticks": ""
            },
            "colorscale": [
             [
              0,
              "#0d0887"
             ],
             [
              0.1111111111111111,
              "#46039f"
             ],
             [
              0.2222222222222222,
              "#7201a8"
             ],
             [
              0.3333333333333333,
              "#9c179e"
             ],
             [
              0.4444444444444444,
              "#bd3786"
             ],
             [
              0.5555555555555556,
              "#d8576b"
             ],
             [
              0.6666666666666666,
              "#ed7953"
             ],
             [
              0.7777777777777778,
              "#fb9f3a"
             ],
             [
              0.8888888888888888,
              "#fdca26"
             ],
             [
              1,
              "#f0f921"
             ]
            ],
            "type": "contour"
           }
          ],
          "contourcarpet": [
           {
            "colorbar": {
             "outlinewidth": 0,
             "ticks": ""
            },
            "type": "contourcarpet"
           }
          ],
          "heatmap": [
           {
            "colorbar": {
             "outlinewidth": 0,
             "ticks": ""
            },
            "colorscale": [
             [
              0,
              "#0d0887"
             ],
             [
              0.1111111111111111,
              "#46039f"
             ],
             [
              0.2222222222222222,
              "#7201a8"
             ],
             [
              0.3333333333333333,
              "#9c179e"
             ],
             [
              0.4444444444444444,
              "#bd3786"
             ],
             [
              0.5555555555555556,
              "#d8576b"
             ],
             [
              0.6666666666666666,
              "#ed7953"
             ],
             [
              0.7777777777777778,
              "#fb9f3a"
             ],
             [
              0.8888888888888888,
              "#fdca26"
             ],
             [
              1,
              "#f0f921"
             ]
            ],
            "type": "heatmap"
           }
          ],
          "heatmapgl": [
           {
            "colorbar": {
             "outlinewidth": 0,
             "ticks": ""
            },
            "colorscale": [
             [
              0,
              "#0d0887"
             ],
             [
              0.1111111111111111,
              "#46039f"
             ],
             [
              0.2222222222222222,
              "#7201a8"
             ],
             [
              0.3333333333333333,
              "#9c179e"
             ],
             [
              0.4444444444444444,
              "#bd3786"
             ],
             [
              0.5555555555555556,
              "#d8576b"
             ],
             [
              0.6666666666666666,
              "#ed7953"
             ],
             [
              0.7777777777777778,
              "#fb9f3a"
             ],
             [
              0.8888888888888888,
              "#fdca26"
             ],
             [
              1,
              "#f0f921"
             ]
            ],
            "type": "heatmapgl"
           }
          ],
          "histogram": [
           {
            "marker": {
             "pattern": {
              "fillmode": "overlay",
              "size": 10,
              "solidity": 0.2
             }
            },
            "type": "histogram"
           }
          ],
          "histogram2d": [
           {
            "colorbar": {
             "outlinewidth": 0,
             "ticks": ""
            },
            "colorscale": [
             [
              0,
              "#0d0887"
             ],
             [
              0.1111111111111111,
              "#46039f"
             ],
             [
              0.2222222222222222,
              "#7201a8"
             ],
             [
              0.3333333333333333,
              "#9c179e"
             ],
             [
              0.4444444444444444,
              "#bd3786"
             ],
             [
              0.5555555555555556,
              "#d8576b"
             ],
             [
              0.6666666666666666,
              "#ed7953"
             ],
             [
              0.7777777777777778,
              "#fb9f3a"
             ],
             [
              0.8888888888888888,
              "#fdca26"
             ],
             [
              1,
              "#f0f921"
             ]
            ],
            "type": "histogram2d"
           }
          ],
          "histogram2dcontour": [
           {
            "colorbar": {
             "outlinewidth": 0,
             "ticks": ""
            },
            "colorscale": [
             [
              0,
              "#0d0887"
             ],
             [
              0.1111111111111111,
              "#46039f"
             ],
             [
              0.2222222222222222,
              "#7201a8"
             ],
             [
              0.3333333333333333,
              "#9c179e"
             ],
             [
              0.4444444444444444,
              "#bd3786"
             ],
             [
              0.5555555555555556,
              "#d8576b"
             ],
             [
              0.6666666666666666,
              "#ed7953"
             ],
             [
              0.7777777777777778,
              "#fb9f3a"
             ],
             [
              0.8888888888888888,
              "#fdca26"
             ],
             [
              1,
              "#f0f921"
             ]
            ],
            "type": "histogram2dcontour"
           }
          ],
          "mesh3d": [
           {
            "colorbar": {
             "outlinewidth": 0,
             "ticks": ""
            },
            "type": "mesh3d"
           }
          ],
          "parcoords": [
           {
            "line": {
             "colorbar": {
              "outlinewidth": 0,
              "ticks": ""
             }
            },
            "type": "parcoords"
           }
          ],
          "pie": [
           {
            "automargin": true,
            "type": "pie"
           }
          ],
          "scatter": [
           {
            "fillpattern": {
             "fillmode": "overlay",
             "size": 10,
             "solidity": 0.2
            },
            "type": "scatter"
           }
          ],
          "scatter3d": [
           {
            "line": {
             "colorbar": {
              "outlinewidth": 0,
              "ticks": ""
             }
            },
            "marker": {
             "colorbar": {
              "outlinewidth": 0,
              "ticks": ""
             }
            },
            "type": "scatter3d"
           }
          ],
          "scattercarpet": [
           {
            "marker": {
             "colorbar": {
              "outlinewidth": 0,
              "ticks": ""
             }
            },
            "type": "scattercarpet"
           }
          ],
          "scattergeo": [
           {
            "marker": {
             "colorbar": {
              "outlinewidth": 0,
              "ticks": ""
             }
            },
            "type": "scattergeo"
           }
          ],
          "scattergl": [
           {
            "marker": {
             "colorbar": {
              "outlinewidth": 0,
              "ticks": ""
             }
            },
            "type": "scattergl"
           }
          ],
          "scattermapbox": [
           {
            "marker": {
             "colorbar": {
              "outlinewidth": 0,
              "ticks": ""
             }
            },
            "type": "scattermapbox"
           }
          ],
          "scatterpolar": [
           {
            "marker": {
             "colorbar": {
              "outlinewidth": 0,
              "ticks": ""
             }
            },
            "type": "scatterpolar"
           }
          ],
          "scatterpolargl": [
           {
            "marker": {
             "colorbar": {
              "outlinewidth": 0,
              "ticks": ""
             }
            },
            "type": "scatterpolargl"
           }
          ],
          "scatterternary": [
           {
            "marker": {
             "colorbar": {
              "outlinewidth": 0,
              "ticks": ""
             }
            },
            "type": "scatterternary"
           }
          ],
          "surface": [
           {
            "colorbar": {
             "outlinewidth": 0,
             "ticks": ""
            },
            "colorscale": [
             [
              0,
              "#0d0887"
             ],
             [
              0.1111111111111111,
              "#46039f"
             ],
             [
              0.2222222222222222,
              "#7201a8"
             ],
             [
              0.3333333333333333,
              "#9c179e"
             ],
             [
              0.4444444444444444,
              "#bd3786"
             ],
             [
              0.5555555555555556,
              "#d8576b"
             ],
             [
              0.6666666666666666,
              "#ed7953"
             ],
             [
              0.7777777777777778,
              "#fb9f3a"
             ],
             [
              0.8888888888888888,
              "#fdca26"
             ],
             [
              1,
              "#f0f921"
             ]
            ],
            "type": "surface"
           }
          ],
          "table": [
           {
            "cells": {
             "fill": {
              "color": "#EBF0F8"
             },
             "line": {
              "color": "white"
             }
            },
            "header": {
             "fill": {
              "color": "#C8D4E3"
             },
             "line": {
              "color": "white"
             }
            },
            "type": "table"
           }
          ]
         },
         "layout": {
          "annotationdefaults": {
           "arrowcolor": "#2a3f5f",
           "arrowhead": 0,
           "arrowwidth": 1
          },
          "autotypenumbers": "strict",
          "coloraxis": {
           "colorbar": {
            "outlinewidth": 0,
            "ticks": ""
           }
          },
          "colorscale": {
           "diverging": [
            [
             0,
             "#8e0152"
            ],
            [
             0.1,
             "#c51b7d"
            ],
            [
             0.2,
             "#de77ae"
            ],
            [
             0.3,
             "#f1b6da"
            ],
            [
             0.4,
             "#fde0ef"
            ],
            [
             0.5,
             "#f7f7f7"
            ],
            [
             0.6,
             "#e6f5d0"
            ],
            [
             0.7,
             "#b8e186"
            ],
            [
             0.8,
             "#7fbc41"
            ],
            [
             0.9,
             "#4d9221"
            ],
            [
             1,
             "#276419"
            ]
           ],
           "sequential": [
            [
             0,
             "#0d0887"
            ],
            [
             0.1111111111111111,
             "#46039f"
            ],
            [
             0.2222222222222222,
             "#7201a8"
            ],
            [
             0.3333333333333333,
             "#9c179e"
            ],
            [
             0.4444444444444444,
             "#bd3786"
            ],
            [
             0.5555555555555556,
             "#d8576b"
            ],
            [
             0.6666666666666666,
             "#ed7953"
            ],
            [
             0.7777777777777778,
             "#fb9f3a"
            ],
            [
             0.8888888888888888,
             "#fdca26"
            ],
            [
             1,
             "#f0f921"
            ]
           ],
           "sequentialminus": [
            [
             0,
             "#0d0887"
            ],
            [
             0.1111111111111111,
             "#46039f"
            ],
            [
             0.2222222222222222,
             "#7201a8"
            ],
            [
             0.3333333333333333,
             "#9c179e"
            ],
            [
             0.4444444444444444,
             "#bd3786"
            ],
            [
             0.5555555555555556,
             "#d8576b"
            ],
            [
             0.6666666666666666,
             "#ed7953"
            ],
            [
             0.7777777777777778,
             "#fb9f3a"
            ],
            [
             0.8888888888888888,
             "#fdca26"
            ],
            [
             1,
             "#f0f921"
            ]
           ]
          },
          "colorway": [
           "#636efa",
           "#EF553B",
           "#00cc96",
           "#ab63fa",
           "#FFA15A",
           "#19d3f3",
           "#FF6692",
           "#B6E880",
           "#FF97FF",
           "#FECB52"
          ],
          "font": {
           "color": "#2a3f5f"
          },
          "geo": {
           "bgcolor": "white",
           "lakecolor": "white",
           "landcolor": "#E5ECF6",
           "showlakes": true,
           "showland": true,
           "subunitcolor": "white"
          },
          "hoverlabel": {
           "align": "left"
          },
          "hovermode": "closest",
          "mapbox": {
           "style": "light"
          },
          "paper_bgcolor": "white",
          "plot_bgcolor": "#E5ECF6",
          "polar": {
           "angularaxis": {
            "gridcolor": "white",
            "linecolor": "white",
            "ticks": ""
           },
           "bgcolor": "#E5ECF6",
           "radialaxis": {
            "gridcolor": "white",
            "linecolor": "white",
            "ticks": ""
           }
          },
          "scene": {
           "xaxis": {
            "backgroundcolor": "#E5ECF6",
            "gridcolor": "white",
            "gridwidth": 2,
            "linecolor": "white",
            "showbackground": true,
            "ticks": "",
            "zerolinecolor": "white"
           },
           "yaxis": {
            "backgroundcolor": "#E5ECF6",
            "gridcolor": "white",
            "gridwidth": 2,
            "linecolor": "white",
            "showbackground": true,
            "ticks": "",
            "zerolinecolor": "white"
           },
           "zaxis": {
            "backgroundcolor": "#E5ECF6",
            "gridcolor": "white",
            "gridwidth": 2,
            "linecolor": "white",
            "showbackground": true,
            "ticks": "",
            "zerolinecolor": "white"
           }
          },
          "shapedefaults": {
           "line": {
            "color": "#2a3f5f"
           }
          },
          "ternary": {
           "aaxis": {
            "gridcolor": "white",
            "linecolor": "white",
            "ticks": ""
           },
           "baxis": {
            "gridcolor": "white",
            "linecolor": "white",
            "ticks": ""
           },
           "bgcolor": "#E5ECF6",
           "caxis": {
            "gridcolor": "white",
            "linecolor": "white",
            "ticks": ""
           }
          },
          "title": {
           "x": 0.05
          },
          "xaxis": {
           "automargin": true,
           "gridcolor": "white",
           "linecolor": "white",
           "ticks": "",
           "title": {
            "standoff": 15
           },
           "zerolinecolor": "white",
           "zerolinewidth": 2
          },
          "yaxis": {
           "automargin": true,
           "gridcolor": "white",
           "linecolor": "white",
           "ticks": "",
           "title": {
            "standoff": 15
           },
           "zerolinecolor": "white",
           "zerolinewidth": 2
          }
         }
        },
        "width": 450
       }
      }
     },
     "metadata": {},
     "output_type": "display_data"
    }
   ],
   "source": [
    "fig = _plot_pie(images_thresholded, \"count\", \"is_thresholded\", text_inside=True)\n",
    "fig.update_layout(\n",
    "    legend=dict(xanchor='left', yanchor='middle', y=0.5, x=1),\n",
    "    margin=dict(l=50, r=0, t=0, b=0),\n",
    "    autosize=True\n",
    ")\n",
    "fig.write_html(\n",
    "    op.join(fig_dir, \"04_images_thresholded.html\"), full_html=True, include_plotlyjs=True\n",
    ")\n",
    "fig.write_image(op.join(fig_dir, \"04_images_thresholded.png\"), scale=6)\n",
    "fig.show()"
   ]
  },
  {
   "cell_type": "markdown",
   "metadata": {},
   "source": [
    "### Image type"
   ]
  },
  {
   "cell_type": "markdown",
   "metadata": {},
   "source": [
    "### Images in MNI\n"
   ]
  },
  {
   "cell_type": "code",
   "execution_count": 41,
   "metadata": {},
   "outputs": [],
   "source": [
    "images_mni = statisticmap_merged_red.groupby(\"not_mni\").size()\n",
    "images_mni = pd.DataFrame(images_mni)\n",
    "images_mni = images_mni.rename(columns={images_mni.columns[0]: \"count\"})\n",
    "images_mni = images_mni.reset_index()\n",
    "images_mni[\"not_mni\"] = images_mni[\"not_mni\"].replace({\"f\": \"MNI\", \"t\": \"Not MNI\"})"
   ]
  },
  {
   "cell_type": "code",
   "execution_count": 42,
   "metadata": {},
   "outputs": [
    {
     "data": {
      "application/vnd.plotly.v1+json": {
       "config": {
        "plotlyServerURL": "https://plot.ly"
       },
       "data": [
        {
         "domain": {
          "x": [
           0,
           1
          ],
          "y": [
           0,
           1
          ]
         },
         "hovertemplate": "not_mni=%{label}<br>count=%{value}<extra></extra>",
         "labels": [
          "MNI",
          "Not MNI"
         ],
         "legendgroup": "",
         "name": "",
         "showlegend": true,
         "textinfo": "value+percent",
         "type": "pie",
         "values": [
          267694,
          2240
         ]
        }
       ],
       "layout": {
        "autosize": true,
        "height": 450,
        "legend": {
         "tracegroupgap": 0,
         "x": 1,
         "xanchor": "left",
         "y": 0.5,
         "yanchor": "middle"
        },
        "margin": {
         "b": 0,
         "l": 50,
         "r": 0,
         "t": 0
        },
        "piecolorway": [
         "#3366CC",
         "#DC3912"
        ],
        "template": {
         "data": {
          "bar": [
           {
            "error_x": {
             "color": "#2a3f5f"
            },
            "error_y": {
             "color": "#2a3f5f"
            },
            "marker": {
             "line": {
              "color": "#E5ECF6",
              "width": 0.5
             },
             "pattern": {
              "fillmode": "overlay",
              "size": 10,
              "solidity": 0.2
             }
            },
            "type": "bar"
           }
          ],
          "barpolar": [
           {
            "marker": {
             "line": {
              "color": "#E5ECF6",
              "width": 0.5
             },
             "pattern": {
              "fillmode": "overlay",
              "size": 10,
              "solidity": 0.2
             }
            },
            "type": "barpolar"
           }
          ],
          "carpet": [
           {
            "aaxis": {
             "endlinecolor": "#2a3f5f",
             "gridcolor": "white",
             "linecolor": "white",
             "minorgridcolor": "white",
             "startlinecolor": "#2a3f5f"
            },
            "baxis": {
             "endlinecolor": "#2a3f5f",
             "gridcolor": "white",
             "linecolor": "white",
             "minorgridcolor": "white",
             "startlinecolor": "#2a3f5f"
            },
            "type": "carpet"
           }
          ],
          "choropleth": [
           {
            "colorbar": {
             "outlinewidth": 0,
             "ticks": ""
            },
            "type": "choropleth"
           }
          ],
          "contour": [
           {
            "colorbar": {
             "outlinewidth": 0,
             "ticks": ""
            },
            "colorscale": [
             [
              0,
              "#0d0887"
             ],
             [
              0.1111111111111111,
              "#46039f"
             ],
             [
              0.2222222222222222,
              "#7201a8"
             ],
             [
              0.3333333333333333,
              "#9c179e"
             ],
             [
              0.4444444444444444,
              "#bd3786"
             ],
             [
              0.5555555555555556,
              "#d8576b"
             ],
             [
              0.6666666666666666,
              "#ed7953"
             ],
             [
              0.7777777777777778,
              "#fb9f3a"
             ],
             [
              0.8888888888888888,
              "#fdca26"
             ],
             [
              1,
              "#f0f921"
             ]
            ],
            "type": "contour"
           }
          ],
          "contourcarpet": [
           {
            "colorbar": {
             "outlinewidth": 0,
             "ticks": ""
            },
            "type": "contourcarpet"
           }
          ],
          "heatmap": [
           {
            "colorbar": {
             "outlinewidth": 0,
             "ticks": ""
            },
            "colorscale": [
             [
              0,
              "#0d0887"
             ],
             [
              0.1111111111111111,
              "#46039f"
             ],
             [
              0.2222222222222222,
              "#7201a8"
             ],
             [
              0.3333333333333333,
              "#9c179e"
             ],
             [
              0.4444444444444444,
              "#bd3786"
             ],
             [
              0.5555555555555556,
              "#d8576b"
             ],
             [
              0.6666666666666666,
              "#ed7953"
             ],
             [
              0.7777777777777778,
              "#fb9f3a"
             ],
             [
              0.8888888888888888,
              "#fdca26"
             ],
             [
              1,
              "#f0f921"
             ]
            ],
            "type": "heatmap"
           }
          ],
          "heatmapgl": [
           {
            "colorbar": {
             "outlinewidth": 0,
             "ticks": ""
            },
            "colorscale": [
             [
              0,
              "#0d0887"
             ],
             [
              0.1111111111111111,
              "#46039f"
             ],
             [
              0.2222222222222222,
              "#7201a8"
             ],
             [
              0.3333333333333333,
              "#9c179e"
             ],
             [
              0.4444444444444444,
              "#bd3786"
             ],
             [
              0.5555555555555556,
              "#d8576b"
             ],
             [
              0.6666666666666666,
              "#ed7953"
             ],
             [
              0.7777777777777778,
              "#fb9f3a"
             ],
             [
              0.8888888888888888,
              "#fdca26"
             ],
             [
              1,
              "#f0f921"
             ]
            ],
            "type": "heatmapgl"
           }
          ],
          "histogram": [
           {
            "marker": {
             "pattern": {
              "fillmode": "overlay",
              "size": 10,
              "solidity": 0.2
             }
            },
            "type": "histogram"
           }
          ],
          "histogram2d": [
           {
            "colorbar": {
             "outlinewidth": 0,
             "ticks": ""
            },
            "colorscale": [
             [
              0,
              "#0d0887"
             ],
             [
              0.1111111111111111,
              "#46039f"
             ],
             [
              0.2222222222222222,
              "#7201a8"
             ],
             [
              0.3333333333333333,
              "#9c179e"
             ],
             [
              0.4444444444444444,
              "#bd3786"
             ],
             [
              0.5555555555555556,
              "#d8576b"
             ],
             [
              0.6666666666666666,
              "#ed7953"
             ],
             [
              0.7777777777777778,
              "#fb9f3a"
             ],
             [
              0.8888888888888888,
              "#fdca26"
             ],
             [
              1,
              "#f0f921"
             ]
            ],
            "type": "histogram2d"
           }
          ],
          "histogram2dcontour": [
           {
            "colorbar": {
             "outlinewidth": 0,
             "ticks": ""
            },
            "colorscale": [
             [
              0,
              "#0d0887"
             ],
             [
              0.1111111111111111,
              "#46039f"
             ],
             [
              0.2222222222222222,
              "#7201a8"
             ],
             [
              0.3333333333333333,
              "#9c179e"
             ],
             [
              0.4444444444444444,
              "#bd3786"
             ],
             [
              0.5555555555555556,
              "#d8576b"
             ],
             [
              0.6666666666666666,
              "#ed7953"
             ],
             [
              0.7777777777777778,
              "#fb9f3a"
             ],
             [
              0.8888888888888888,
              "#fdca26"
             ],
             [
              1,
              "#f0f921"
             ]
            ],
            "type": "histogram2dcontour"
           }
          ],
          "mesh3d": [
           {
            "colorbar": {
             "outlinewidth": 0,
             "ticks": ""
            },
            "type": "mesh3d"
           }
          ],
          "parcoords": [
           {
            "line": {
             "colorbar": {
              "outlinewidth": 0,
              "ticks": ""
             }
            },
            "type": "parcoords"
           }
          ],
          "pie": [
           {
            "automargin": true,
            "type": "pie"
           }
          ],
          "scatter": [
           {
            "fillpattern": {
             "fillmode": "overlay",
             "size": 10,
             "solidity": 0.2
            },
            "type": "scatter"
           }
          ],
          "scatter3d": [
           {
            "line": {
             "colorbar": {
              "outlinewidth": 0,
              "ticks": ""
             }
            },
            "marker": {
             "colorbar": {
              "outlinewidth": 0,
              "ticks": ""
             }
            },
            "type": "scatter3d"
           }
          ],
          "scattercarpet": [
           {
            "marker": {
             "colorbar": {
              "outlinewidth": 0,
              "ticks": ""
             }
            },
            "type": "scattercarpet"
           }
          ],
          "scattergeo": [
           {
            "marker": {
             "colorbar": {
              "outlinewidth": 0,
              "ticks": ""
             }
            },
            "type": "scattergeo"
           }
          ],
          "scattergl": [
           {
            "marker": {
             "colorbar": {
              "outlinewidth": 0,
              "ticks": ""
             }
            },
            "type": "scattergl"
           }
          ],
          "scattermapbox": [
           {
            "marker": {
             "colorbar": {
              "outlinewidth": 0,
              "ticks": ""
             }
            },
            "type": "scattermapbox"
           }
          ],
          "scatterpolar": [
           {
            "marker": {
             "colorbar": {
              "outlinewidth": 0,
              "ticks": ""
             }
            },
            "type": "scatterpolar"
           }
          ],
          "scatterpolargl": [
           {
            "marker": {
             "colorbar": {
              "outlinewidth": 0,
              "ticks": ""
             }
            },
            "type": "scatterpolargl"
           }
          ],
          "scatterternary": [
           {
            "marker": {
             "colorbar": {
              "outlinewidth": 0,
              "ticks": ""
             }
            },
            "type": "scatterternary"
           }
          ],
          "surface": [
           {
            "colorbar": {
             "outlinewidth": 0,
             "ticks": ""
            },
            "colorscale": [
             [
              0,
              "#0d0887"
             ],
             [
              0.1111111111111111,
              "#46039f"
             ],
             [
              0.2222222222222222,
              "#7201a8"
             ],
             [
              0.3333333333333333,
              "#9c179e"
             ],
             [
              0.4444444444444444,
              "#bd3786"
             ],
             [
              0.5555555555555556,
              "#d8576b"
             ],
             [
              0.6666666666666666,
              "#ed7953"
             ],
             [
              0.7777777777777778,
              "#fb9f3a"
             ],
             [
              0.8888888888888888,
              "#fdca26"
             ],
             [
              1,
              "#f0f921"
             ]
            ],
            "type": "surface"
           }
          ],
          "table": [
           {
            "cells": {
             "fill": {
              "color": "#EBF0F8"
             },
             "line": {
              "color": "white"
             }
            },
            "header": {
             "fill": {
              "color": "#C8D4E3"
             },
             "line": {
              "color": "white"
             }
            },
            "type": "table"
           }
          ]
         },
         "layout": {
          "annotationdefaults": {
           "arrowcolor": "#2a3f5f",
           "arrowhead": 0,
           "arrowwidth": 1
          },
          "autotypenumbers": "strict",
          "coloraxis": {
           "colorbar": {
            "outlinewidth": 0,
            "ticks": ""
           }
          },
          "colorscale": {
           "diverging": [
            [
             0,
             "#8e0152"
            ],
            [
             0.1,
             "#c51b7d"
            ],
            [
             0.2,
             "#de77ae"
            ],
            [
             0.3,
             "#f1b6da"
            ],
            [
             0.4,
             "#fde0ef"
            ],
            [
             0.5,
             "#f7f7f7"
            ],
            [
             0.6,
             "#e6f5d0"
            ],
            [
             0.7,
             "#b8e186"
            ],
            [
             0.8,
             "#7fbc41"
            ],
            [
             0.9,
             "#4d9221"
            ],
            [
             1,
             "#276419"
            ]
           ],
           "sequential": [
            [
             0,
             "#0d0887"
            ],
            [
             0.1111111111111111,
             "#46039f"
            ],
            [
             0.2222222222222222,
             "#7201a8"
            ],
            [
             0.3333333333333333,
             "#9c179e"
            ],
            [
             0.4444444444444444,
             "#bd3786"
            ],
            [
             0.5555555555555556,
             "#d8576b"
            ],
            [
             0.6666666666666666,
             "#ed7953"
            ],
            [
             0.7777777777777778,
             "#fb9f3a"
            ],
            [
             0.8888888888888888,
             "#fdca26"
            ],
            [
             1,
             "#f0f921"
            ]
           ],
           "sequentialminus": [
            [
             0,
             "#0d0887"
            ],
            [
             0.1111111111111111,
             "#46039f"
            ],
            [
             0.2222222222222222,
             "#7201a8"
            ],
            [
             0.3333333333333333,
             "#9c179e"
            ],
            [
             0.4444444444444444,
             "#bd3786"
            ],
            [
             0.5555555555555556,
             "#d8576b"
            ],
            [
             0.6666666666666666,
             "#ed7953"
            ],
            [
             0.7777777777777778,
             "#fb9f3a"
            ],
            [
             0.8888888888888888,
             "#fdca26"
            ],
            [
             1,
             "#f0f921"
            ]
           ]
          },
          "colorway": [
           "#636efa",
           "#EF553B",
           "#00cc96",
           "#ab63fa",
           "#FFA15A",
           "#19d3f3",
           "#FF6692",
           "#B6E880",
           "#FF97FF",
           "#FECB52"
          ],
          "font": {
           "color": "#2a3f5f"
          },
          "geo": {
           "bgcolor": "white",
           "lakecolor": "white",
           "landcolor": "#E5ECF6",
           "showlakes": true,
           "showland": true,
           "subunitcolor": "white"
          },
          "hoverlabel": {
           "align": "left"
          },
          "hovermode": "closest",
          "mapbox": {
           "style": "light"
          },
          "paper_bgcolor": "white",
          "plot_bgcolor": "#E5ECF6",
          "polar": {
           "angularaxis": {
            "gridcolor": "white",
            "linecolor": "white",
            "ticks": ""
           },
           "bgcolor": "#E5ECF6",
           "radialaxis": {
            "gridcolor": "white",
            "linecolor": "white",
            "ticks": ""
           }
          },
          "scene": {
           "xaxis": {
            "backgroundcolor": "#E5ECF6",
            "gridcolor": "white",
            "gridwidth": 2,
            "linecolor": "white",
            "showbackground": true,
            "ticks": "",
            "zerolinecolor": "white"
           },
           "yaxis": {
            "backgroundcolor": "#E5ECF6",
            "gridcolor": "white",
            "gridwidth": 2,
            "linecolor": "white",
            "showbackground": true,
            "ticks": "",
            "zerolinecolor": "white"
           },
           "zaxis": {
            "backgroundcolor": "#E5ECF6",
            "gridcolor": "white",
            "gridwidth": 2,
            "linecolor": "white",
            "showbackground": true,
            "ticks": "",
            "zerolinecolor": "white"
           }
          },
          "shapedefaults": {
           "line": {
            "color": "#2a3f5f"
           }
          },
          "ternary": {
           "aaxis": {
            "gridcolor": "white",
            "linecolor": "white",
            "ticks": ""
           },
           "baxis": {
            "gridcolor": "white",
            "linecolor": "white",
            "ticks": ""
           },
           "bgcolor": "#E5ECF6",
           "caxis": {
            "gridcolor": "white",
            "linecolor": "white",
            "ticks": ""
           }
          },
          "title": {
           "x": 0.05
          },
          "xaxis": {
           "automargin": true,
           "gridcolor": "white",
           "linecolor": "white",
           "ticks": "",
           "title": {
            "standoff": 15
           },
           "zerolinecolor": "white",
           "zerolinewidth": 2
          },
          "yaxis": {
           "automargin": true,
           "gridcolor": "white",
           "linecolor": "white",
           "ticks": "",
           "title": {
            "standoff": 15
           },
           "zerolinecolor": "white",
           "zerolinewidth": 2
          }
         }
        },
        "width": 450
       }
      }
     },
     "metadata": {},
     "output_type": "display_data"
    }
   ],
   "source": [
    "fig = _plot_pie(images_mni, \"count\", \"not_mni\")\n",
    "fig.update_layout(\n",
    "    legend=dict(xanchor='left', yanchor='middle', y=0.5, x=1),\n",
    "    margin=dict(l=50, r=0, t=0, b=0),\n",
    "    autosize=True\n",
    ")\n",
    "fig.write_html(op.join(fig_dir, \"05_images_mni.html\"), full_html=True, include_plotlyjs=True)\n",
    "fig.write_image(op.join(fig_dir, \"05_images_mni.png\"), scale=6)\n",
    "fig.show()"
   ]
  },
  {
   "cell_type": "markdown",
   "metadata": {},
   "source": [
    "### Image modality\n"
   ]
  },
  {
   "cell_type": "code",
   "execution_count": 43,
   "metadata": {},
   "outputs": [],
   "source": [
    "image_by_modality = statisticmap_merged_red.groupby(\"modality\").size()\n",
    "image_by_modality = pd.DataFrame(image_by_modality)\n",
    "image_by_modality = image_by_modality.rename(columns={image_by_modality.columns[0]: \"count\"})\n",
    "image_by_modality = image_by_modality.reset_index()"
   ]
  },
  {
   "cell_type": "code",
   "execution_count": 48,
   "metadata": {},
   "outputs": [
    {
     "data": {
      "application/vnd.plotly.v1+json": {
       "config": {
        "plotlyServerURL": "https://plot.ly"
       },
       "data": [
        {
         "domain": {
          "x": [
           0,
           1
          ],
          "y": [
           0,
           1
          ]
         },
         "hovertemplate": "modality=%{label}<br>count=%{value}<extra></extra>",
         "labels": [
          "Diffusion MRI",
          "EEG",
          "MEG",
          "Other",
          "PET FDG",
          "PET other",
          "Structural MRI",
          "fMRI-BOLD",
          "fMRI-CBF",
          "fMRI-CBV"
         ],
         "legendgroup": "",
         "name": "",
         "showlegend": true,
         "textinfo": "value",
         "type": "pie",
         "values": [
          1465,
          40,
          260,
          5480,
          141,
          475,
          4565,
          196732,
          253,
          21
         ]
        }
       ],
       "layout": {
        "autosize": true,
        "height": 450,
        "legend": {
         "tracegroupgap": 0,
         "x": 1,
         "xanchor": "left",
         "y": 0.5,
         "yanchor": "middle"
        },
        "margin": {
         "b": 0,
         "l": 50,
         "r": 0,
         "t": 100
        },
        "piecolorway": [
         "#3366CC",
         "#DC3912",
         "#FF9900",
         "#109618",
         "#990099",
         "#0099C6",
         "#DD4477",
         "#66AA00",
         "#B82E2E",
         "#316395"
        ],
        "template": {
         "data": {
          "bar": [
           {
            "error_x": {
             "color": "#2a3f5f"
            },
            "error_y": {
             "color": "#2a3f5f"
            },
            "marker": {
             "line": {
              "color": "#E5ECF6",
              "width": 0.5
             },
             "pattern": {
              "fillmode": "overlay",
              "size": 10,
              "solidity": 0.2
             }
            },
            "type": "bar"
           }
          ],
          "barpolar": [
           {
            "marker": {
             "line": {
              "color": "#E5ECF6",
              "width": 0.5
             },
             "pattern": {
              "fillmode": "overlay",
              "size": 10,
              "solidity": 0.2
             }
            },
            "type": "barpolar"
           }
          ],
          "carpet": [
           {
            "aaxis": {
             "endlinecolor": "#2a3f5f",
             "gridcolor": "white",
             "linecolor": "white",
             "minorgridcolor": "white",
             "startlinecolor": "#2a3f5f"
            },
            "baxis": {
             "endlinecolor": "#2a3f5f",
             "gridcolor": "white",
             "linecolor": "white",
             "minorgridcolor": "white",
             "startlinecolor": "#2a3f5f"
            },
            "type": "carpet"
           }
          ],
          "choropleth": [
           {
            "colorbar": {
             "outlinewidth": 0,
             "ticks": ""
            },
            "type": "choropleth"
           }
          ],
          "contour": [
           {
            "colorbar": {
             "outlinewidth": 0,
             "ticks": ""
            },
            "colorscale": [
             [
              0,
              "#0d0887"
             ],
             [
              0.1111111111111111,
              "#46039f"
             ],
             [
              0.2222222222222222,
              "#7201a8"
             ],
             [
              0.3333333333333333,
              "#9c179e"
             ],
             [
              0.4444444444444444,
              "#bd3786"
             ],
             [
              0.5555555555555556,
              "#d8576b"
             ],
             [
              0.6666666666666666,
              "#ed7953"
             ],
             [
              0.7777777777777778,
              "#fb9f3a"
             ],
             [
              0.8888888888888888,
              "#fdca26"
             ],
             [
              1,
              "#f0f921"
             ]
            ],
            "type": "contour"
           }
          ],
          "contourcarpet": [
           {
            "colorbar": {
             "outlinewidth": 0,
             "ticks": ""
            },
            "type": "contourcarpet"
           }
          ],
          "heatmap": [
           {
            "colorbar": {
             "outlinewidth": 0,
             "ticks": ""
            },
            "colorscale": [
             [
              0,
              "#0d0887"
             ],
             [
              0.1111111111111111,
              "#46039f"
             ],
             [
              0.2222222222222222,
              "#7201a8"
             ],
             [
              0.3333333333333333,
              "#9c179e"
             ],
             [
              0.4444444444444444,
              "#bd3786"
             ],
             [
              0.5555555555555556,
              "#d8576b"
             ],
             [
              0.6666666666666666,
              "#ed7953"
             ],
             [
              0.7777777777777778,
              "#fb9f3a"
             ],
             [
              0.8888888888888888,
              "#fdca26"
             ],
             [
              1,
              "#f0f921"
             ]
            ],
            "type": "heatmap"
           }
          ],
          "heatmapgl": [
           {
            "colorbar": {
             "outlinewidth": 0,
             "ticks": ""
            },
            "colorscale": [
             [
              0,
              "#0d0887"
             ],
             [
              0.1111111111111111,
              "#46039f"
             ],
             [
              0.2222222222222222,
              "#7201a8"
             ],
             [
              0.3333333333333333,
              "#9c179e"
             ],
             [
              0.4444444444444444,
              "#bd3786"
             ],
             [
              0.5555555555555556,
              "#d8576b"
             ],
             [
              0.6666666666666666,
              "#ed7953"
             ],
             [
              0.7777777777777778,
              "#fb9f3a"
             ],
             [
              0.8888888888888888,
              "#fdca26"
             ],
             [
              1,
              "#f0f921"
             ]
            ],
            "type": "heatmapgl"
           }
          ],
          "histogram": [
           {
            "marker": {
             "pattern": {
              "fillmode": "overlay",
              "size": 10,
              "solidity": 0.2
             }
            },
            "type": "histogram"
           }
          ],
          "histogram2d": [
           {
            "colorbar": {
             "outlinewidth": 0,
             "ticks": ""
            },
            "colorscale": [
             [
              0,
              "#0d0887"
             ],
             [
              0.1111111111111111,
              "#46039f"
             ],
             [
              0.2222222222222222,
              "#7201a8"
             ],
             [
              0.3333333333333333,
              "#9c179e"
             ],
             [
              0.4444444444444444,
              "#bd3786"
             ],
             [
              0.5555555555555556,
              "#d8576b"
             ],
             [
              0.6666666666666666,
              "#ed7953"
             ],
             [
              0.7777777777777778,
              "#fb9f3a"
             ],
             [
              0.8888888888888888,
              "#fdca26"
             ],
             [
              1,
              "#f0f921"
             ]
            ],
            "type": "histogram2d"
           }
          ],
          "histogram2dcontour": [
           {
            "colorbar": {
             "outlinewidth": 0,
             "ticks": ""
            },
            "colorscale": [
             [
              0,
              "#0d0887"
             ],
             [
              0.1111111111111111,
              "#46039f"
             ],
             [
              0.2222222222222222,
              "#7201a8"
             ],
             [
              0.3333333333333333,
              "#9c179e"
             ],
             [
              0.4444444444444444,
              "#bd3786"
             ],
             [
              0.5555555555555556,
              "#d8576b"
             ],
             [
              0.6666666666666666,
              "#ed7953"
             ],
             [
              0.7777777777777778,
              "#fb9f3a"
             ],
             [
              0.8888888888888888,
              "#fdca26"
             ],
             [
              1,
              "#f0f921"
             ]
            ],
            "type": "histogram2dcontour"
           }
          ],
          "mesh3d": [
           {
            "colorbar": {
             "outlinewidth": 0,
             "ticks": ""
            },
            "type": "mesh3d"
           }
          ],
          "parcoords": [
           {
            "line": {
             "colorbar": {
              "outlinewidth": 0,
              "ticks": ""
             }
            },
            "type": "parcoords"
           }
          ],
          "pie": [
           {
            "automargin": true,
            "type": "pie"
           }
          ],
          "scatter": [
           {
            "fillpattern": {
             "fillmode": "overlay",
             "size": 10,
             "solidity": 0.2
            },
            "type": "scatter"
           }
          ],
          "scatter3d": [
           {
            "line": {
             "colorbar": {
              "outlinewidth": 0,
              "ticks": ""
             }
            },
            "marker": {
             "colorbar": {
              "outlinewidth": 0,
              "ticks": ""
             }
            },
            "type": "scatter3d"
           }
          ],
          "scattercarpet": [
           {
            "marker": {
             "colorbar": {
              "outlinewidth": 0,
              "ticks": ""
             }
            },
            "type": "scattercarpet"
           }
          ],
          "scattergeo": [
           {
            "marker": {
             "colorbar": {
              "outlinewidth": 0,
              "ticks": ""
             }
            },
            "type": "scattergeo"
           }
          ],
          "scattergl": [
           {
            "marker": {
             "colorbar": {
              "outlinewidth": 0,
              "ticks": ""
             }
            },
            "type": "scattergl"
           }
          ],
          "scattermapbox": [
           {
            "marker": {
             "colorbar": {
              "outlinewidth": 0,
              "ticks": ""
             }
            },
            "type": "scattermapbox"
           }
          ],
          "scatterpolar": [
           {
            "marker": {
             "colorbar": {
              "outlinewidth": 0,
              "ticks": ""
             }
            },
            "type": "scatterpolar"
           }
          ],
          "scatterpolargl": [
           {
            "marker": {
             "colorbar": {
              "outlinewidth": 0,
              "ticks": ""
             }
            },
            "type": "scatterpolargl"
           }
          ],
          "scatterternary": [
           {
            "marker": {
             "colorbar": {
              "outlinewidth": 0,
              "ticks": ""
             }
            },
            "type": "scatterternary"
           }
          ],
          "surface": [
           {
            "colorbar": {
             "outlinewidth": 0,
             "ticks": ""
            },
            "colorscale": [
             [
              0,
              "#0d0887"
             ],
             [
              0.1111111111111111,
              "#46039f"
             ],
             [
              0.2222222222222222,
              "#7201a8"
             ],
             [
              0.3333333333333333,
              "#9c179e"
             ],
             [
              0.4444444444444444,
              "#bd3786"
             ],
             [
              0.5555555555555556,
              "#d8576b"
             ],
             [
              0.6666666666666666,
              "#ed7953"
             ],
             [
              0.7777777777777778,
              "#fb9f3a"
             ],
             [
              0.8888888888888888,
              "#fdca26"
             ],
             [
              1,
              "#f0f921"
             ]
            ],
            "type": "surface"
           }
          ],
          "table": [
           {
            "cells": {
             "fill": {
              "color": "#EBF0F8"
             },
             "line": {
              "color": "white"
             }
            },
            "header": {
             "fill": {
              "color": "#C8D4E3"
             },
             "line": {
              "color": "white"
             }
            },
            "type": "table"
           }
          ]
         },
         "layout": {
          "annotationdefaults": {
           "arrowcolor": "#2a3f5f",
           "arrowhead": 0,
           "arrowwidth": 1
          },
          "autotypenumbers": "strict",
          "coloraxis": {
           "colorbar": {
            "outlinewidth": 0,
            "ticks": ""
           }
          },
          "colorscale": {
           "diverging": [
            [
             0,
             "#8e0152"
            ],
            [
             0.1,
             "#c51b7d"
            ],
            [
             0.2,
             "#de77ae"
            ],
            [
             0.3,
             "#f1b6da"
            ],
            [
             0.4,
             "#fde0ef"
            ],
            [
             0.5,
             "#f7f7f7"
            ],
            [
             0.6,
             "#e6f5d0"
            ],
            [
             0.7,
             "#b8e186"
            ],
            [
             0.8,
             "#7fbc41"
            ],
            [
             0.9,
             "#4d9221"
            ],
            [
             1,
             "#276419"
            ]
           ],
           "sequential": [
            [
             0,
             "#0d0887"
            ],
            [
             0.1111111111111111,
             "#46039f"
            ],
            [
             0.2222222222222222,
             "#7201a8"
            ],
            [
             0.3333333333333333,
             "#9c179e"
            ],
            [
             0.4444444444444444,
             "#bd3786"
            ],
            [
             0.5555555555555556,
             "#d8576b"
            ],
            [
             0.6666666666666666,
             "#ed7953"
            ],
            [
             0.7777777777777778,
             "#fb9f3a"
            ],
            [
             0.8888888888888888,
             "#fdca26"
            ],
            [
             1,
             "#f0f921"
            ]
           ],
           "sequentialminus": [
            [
             0,
             "#0d0887"
            ],
            [
             0.1111111111111111,
             "#46039f"
            ],
            [
             0.2222222222222222,
             "#7201a8"
            ],
            [
             0.3333333333333333,
             "#9c179e"
            ],
            [
             0.4444444444444444,
             "#bd3786"
            ],
            [
             0.5555555555555556,
             "#d8576b"
            ],
            [
             0.6666666666666666,
             "#ed7953"
            ],
            [
             0.7777777777777778,
             "#fb9f3a"
            ],
            [
             0.8888888888888888,
             "#fdca26"
            ],
            [
             1,
             "#f0f921"
            ]
           ]
          },
          "colorway": [
           "#636efa",
           "#EF553B",
           "#00cc96",
           "#ab63fa",
           "#FFA15A",
           "#19d3f3",
           "#FF6692",
           "#B6E880",
           "#FF97FF",
           "#FECB52"
          ],
          "font": {
           "color": "#2a3f5f"
          },
          "geo": {
           "bgcolor": "white",
           "lakecolor": "white",
           "landcolor": "#E5ECF6",
           "showlakes": true,
           "showland": true,
           "subunitcolor": "white"
          },
          "hoverlabel": {
           "align": "left"
          },
          "hovermode": "closest",
          "mapbox": {
           "style": "light"
          },
          "paper_bgcolor": "white",
          "plot_bgcolor": "#E5ECF6",
          "polar": {
           "angularaxis": {
            "gridcolor": "white",
            "linecolor": "white",
            "ticks": ""
           },
           "bgcolor": "#E5ECF6",
           "radialaxis": {
            "gridcolor": "white",
            "linecolor": "white",
            "ticks": ""
           }
          },
          "scene": {
           "xaxis": {
            "backgroundcolor": "#E5ECF6",
            "gridcolor": "white",
            "gridwidth": 2,
            "linecolor": "white",
            "showbackground": true,
            "ticks": "",
            "zerolinecolor": "white"
           },
           "yaxis": {
            "backgroundcolor": "#E5ECF6",
            "gridcolor": "white",
            "gridwidth": 2,
            "linecolor": "white",
            "showbackground": true,
            "ticks": "",
            "zerolinecolor": "white"
           },
           "zaxis": {
            "backgroundcolor": "#E5ECF6",
            "gridcolor": "white",
            "gridwidth": 2,
            "linecolor": "white",
            "showbackground": true,
            "ticks": "",
            "zerolinecolor": "white"
           }
          },
          "shapedefaults": {
           "line": {
            "color": "#2a3f5f"
           }
          },
          "ternary": {
           "aaxis": {
            "gridcolor": "white",
            "linecolor": "white",
            "ticks": ""
           },
           "baxis": {
            "gridcolor": "white",
            "linecolor": "white",
            "ticks": ""
           },
           "bgcolor": "#E5ECF6",
           "caxis": {
            "gridcolor": "white",
            "linecolor": "white",
            "ticks": ""
           }
          },
          "title": {
           "x": 0.05
          },
          "xaxis": {
           "automargin": true,
           "gridcolor": "white",
           "linecolor": "white",
           "ticks": "",
           "title": {
            "standoff": 15
           },
           "zerolinecolor": "white",
           "zerolinewidth": 2
          },
          "yaxis": {
           "automargin": true,
           "gridcolor": "white",
           "linecolor": "white",
           "ticks": "",
           "title": {
            "standoff": 15
           },
           "zerolinecolor": "white",
           "zerolinewidth": 2
          }
         }
        },
        "width": 450
       }
      }
     },
     "metadata": {},
     "output_type": "display_data"
    }
   ],
   "source": [
    "fig = _plot_pie(image_by_modality, \"count\", \"modality\", textinfo=\"value\")\n",
    "fig.update_layout(\n",
    "    legend=dict(xanchor='left', yanchor='middle', y=0.5, x=1),\n",
    "    margin=dict(l=50, r=0, t=100, b=0),\n",
    "    autosize=True\n",
    ")\n",
    "fig.write_html(\n",
    "    op.join(fig_dir, \"06_images_by_modality.html\"), full_html=True, include_plotlyjs=True\n",
    ")\n",
    "fig.write_image(op.join(fig_dir, \"06_images_by_modality.png\"), scale=6)\n",
    "fig.show()"
   ]
  },
  {
   "cell_type": "markdown",
   "metadata": {},
   "source": [
    "### Map type\n"
   ]
  },
  {
   "cell_type": "code",
   "execution_count": 81,
   "metadata": {},
   "outputs": [
    {
     "name": "stderr",
     "output_type": "stream",
     "text": [
      "/var/folders/m9/_ygtgkg17990695673wz4l78j5bsz9/T/ipykernel_35559/1759541125.py:12: SettingWithCopyWarning:\n",
      "\n",
      "\n",
      "A value is trying to be set on a copy of a slice from a DataFrame.\n",
      "Try using .loc[row_indexer,col_indexer] = value instead\n",
      "\n",
      "See the caveats in the documentation: https://pandas.pydata.org/pandas-docs/stable/user_guide/indexing.html#returning-a-view-versus-a-copy\n",
      "\n"
     ]
    }
   ],
   "source": [
    "statisticmap_fmri_temp = statisticmap_merged_red[statisticmap_merged_red.modality == \"fMRI-BOLD\"]\n",
    "Other_mapping = {\n",
    "    \"P\": \"Other\",\n",
    "    \"F\": \"Other\",\n",
    "    \"IP\": \"Other\",\n",
    "    \"M\": \"Other\",\n",
    "    \"Pa\": \"Other\",\n",
    "    \"A\": \"Other\",\n",
    "    \"V\": \"Other\",\n",
    "    \"X2\": \"Other\",\n",
    "}\n",
    "statisticmap_fmri_temp[\"map_type\"] = statisticmap_fmri_temp[\"map_type\"].replace(Other_mapping)\n",
    "image_by_type = statisticmap_fmri_temp.groupby(\"map_type\").size()\n",
    "image_by_type = pd.DataFrame(image_by_type)\n",
    "image_by_type = image_by_type.rename(columns={image_by_type.columns[0]: \"count\"})\n",
    "image_by_type = image_by_type.reset_index()\n",
    "\n",
    "MAP_TYPE_CHOICES = {\n",
    "    \"T\": \"T map\",\n",
    "    \"Z\": \"Z map\",\n",
    "    \"F\": \"F map\",\n",
    "    \"X2\": \"Chi squared map\",\n",
    "    \"P\": \"P map (given null hypothesis)\",\n",
    "    \"IP\": '1-P map (\"inverted\" probability)',\n",
    "    \"M\": \"multivariate-beta map\",\n",
    "    \"U\": \"univariate-beta map\",\n",
    "    \"R\": \"ROI/mask\",\n",
    "    \"Pa\": \"parcellation\",\n",
    "    \"A\": \"anatomical\",\n",
    "    \"V\": \"variance\",\n",
    "    \"Other\": \"other\",\n",
    "}\n",
    "image_by_type[\"map_type\"] = image_by_type[\"map_type\"].replace(MAP_TYPE_CHOICES)"
   ]
  },
  {
   "cell_type": "code",
   "execution_count": 87,
   "metadata": {},
   "outputs": [
    {
     "data": {
      "text/plain": [
       "map_type\n",
       "A          176\n",
       "F          571\n",
       "IP         383\n",
       "M          383\n",
       "Other    22048\n",
       "P          591\n",
       "Pa         375\n",
       "R         5432\n",
       "T        57071\n",
       "U        13939\n",
       "V           63\n",
       "X2          26\n",
       "Z        95674\n",
       "dtype: int64"
      ]
     },
     "execution_count": 87,
     "metadata": {},
     "output_type": "execute_result"
    }
   ],
   "source": [
    "statisticmap_merged_red[statisticmap_merged_red.modality == \"fMRI-BOLD\"].groupby(\"map_type\").size()"
   ]
  },
  {
   "cell_type": "code",
   "execution_count": 82,
   "metadata": {},
   "outputs": [
    {
     "data": {
      "text/html": [
       "<div>\n",
       "<style scoped>\n",
       "    .dataframe tbody tr th:only-of-type {\n",
       "        vertical-align: middle;\n",
       "    }\n",
       "\n",
       "    .dataframe tbody tr th {\n",
       "        vertical-align: top;\n",
       "    }\n",
       "\n",
       "    .dataframe thead th {\n",
       "        text-align: right;\n",
       "    }\n",
       "</style>\n",
       "<table border=\"1\" class=\"dataframe\">\n",
       "  <thead>\n",
       "    <tr style=\"text-align: right;\">\n",
       "      <th></th>\n",
       "      <th>map_type</th>\n",
       "      <th>count</th>\n",
       "    </tr>\n",
       "  </thead>\n",
       "  <tbody>\n",
       "    <tr>\n",
       "      <th>0</th>\n",
       "      <td>other</td>\n",
       "      <td>24616</td>\n",
       "    </tr>\n",
       "    <tr>\n",
       "      <th>1</th>\n",
       "      <td>ROI/mask</td>\n",
       "      <td>5432</td>\n",
       "    </tr>\n",
       "    <tr>\n",
       "      <th>2</th>\n",
       "      <td>T map</td>\n",
       "      <td>57071</td>\n",
       "    </tr>\n",
       "    <tr>\n",
       "      <th>3</th>\n",
       "      <td>univariate-beta map</td>\n",
       "      <td>13939</td>\n",
       "    </tr>\n",
       "    <tr>\n",
       "      <th>4</th>\n",
       "      <td>Z map</td>\n",
       "      <td>95674</td>\n",
       "    </tr>\n",
       "  </tbody>\n",
       "</table>\n",
       "</div>"
      ],
      "text/plain": [
       "              map_type  count\n",
       "0                other  24616\n",
       "1             ROI/mask   5432\n",
       "2                T map  57071\n",
       "3  univariate-beta map  13939\n",
       "4                Z map  95674"
      ]
     },
     "execution_count": 82,
     "metadata": {},
     "output_type": "execute_result"
    }
   ],
   "source": [
    "image_by_type"
   ]
  },
  {
   "cell_type": "code",
   "execution_count": 86,
   "metadata": {},
   "outputs": [
    {
     "data": {
      "application/vnd.plotly.v1+json": {
       "config": {
        "plotlyServerURL": "https://plot.ly"
       },
       "data": [
        {
         "domain": {
          "x": [
           0,
           1
          ],
          "y": [
           0,
           1
          ]
         },
         "hovertemplate": "map_type=%{label}<br>count=%{value}<extra></extra>",
         "labels": [
          "other",
          "ROI/mask",
          "T map",
          "univariate-beta map",
          "Z map"
         ],
         "legendgroup": "",
         "name": "",
         "showlegend": true,
         "textinfo": "value",
         "type": "pie",
         "values": [
          24616,
          5432,
          57071,
          13939,
          95674
         ]
        }
       ],
       "layout": {
        "autosize": true,
        "height": 330,
        "legend": {
         "tracegroupgap": 0,
         "x": 1,
         "xanchor": "left",
         "y": 0.5,
         "yanchor": "middle"
        },
        "margin": {
         "b": 0,
         "l": 50,
         "r": 0,
         "t": 0
        },
        "piecolorway": [
         "#3366CC",
         "#DC3912",
         "#FF9900",
         "#109618",
         "#990099"
        ],
        "template": {
         "data": {
          "bar": [
           {
            "error_x": {
             "color": "#2a3f5f"
            },
            "error_y": {
             "color": "#2a3f5f"
            },
            "marker": {
             "line": {
              "color": "#E5ECF6",
              "width": 0.5
             },
             "pattern": {
              "fillmode": "overlay",
              "size": 10,
              "solidity": 0.2
             }
            },
            "type": "bar"
           }
          ],
          "barpolar": [
           {
            "marker": {
             "line": {
              "color": "#E5ECF6",
              "width": 0.5
             },
             "pattern": {
              "fillmode": "overlay",
              "size": 10,
              "solidity": 0.2
             }
            },
            "type": "barpolar"
           }
          ],
          "carpet": [
           {
            "aaxis": {
             "endlinecolor": "#2a3f5f",
             "gridcolor": "white",
             "linecolor": "white",
             "minorgridcolor": "white",
             "startlinecolor": "#2a3f5f"
            },
            "baxis": {
             "endlinecolor": "#2a3f5f",
             "gridcolor": "white",
             "linecolor": "white",
             "minorgridcolor": "white",
             "startlinecolor": "#2a3f5f"
            },
            "type": "carpet"
           }
          ],
          "choropleth": [
           {
            "colorbar": {
             "outlinewidth": 0,
             "ticks": ""
            },
            "type": "choropleth"
           }
          ],
          "contour": [
           {
            "colorbar": {
             "outlinewidth": 0,
             "ticks": ""
            },
            "colorscale": [
             [
              0,
              "#0d0887"
             ],
             [
              0.1111111111111111,
              "#46039f"
             ],
             [
              0.2222222222222222,
              "#7201a8"
             ],
             [
              0.3333333333333333,
              "#9c179e"
             ],
             [
              0.4444444444444444,
              "#bd3786"
             ],
             [
              0.5555555555555556,
              "#d8576b"
             ],
             [
              0.6666666666666666,
              "#ed7953"
             ],
             [
              0.7777777777777778,
              "#fb9f3a"
             ],
             [
              0.8888888888888888,
              "#fdca26"
             ],
             [
              1,
              "#f0f921"
             ]
            ],
            "type": "contour"
           }
          ],
          "contourcarpet": [
           {
            "colorbar": {
             "outlinewidth": 0,
             "ticks": ""
            },
            "type": "contourcarpet"
           }
          ],
          "heatmap": [
           {
            "colorbar": {
             "outlinewidth": 0,
             "ticks": ""
            },
            "colorscale": [
             [
              0,
              "#0d0887"
             ],
             [
              0.1111111111111111,
              "#46039f"
             ],
             [
              0.2222222222222222,
              "#7201a8"
             ],
             [
              0.3333333333333333,
              "#9c179e"
             ],
             [
              0.4444444444444444,
              "#bd3786"
             ],
             [
              0.5555555555555556,
              "#d8576b"
             ],
             [
              0.6666666666666666,
              "#ed7953"
             ],
             [
              0.7777777777777778,
              "#fb9f3a"
             ],
             [
              0.8888888888888888,
              "#fdca26"
             ],
             [
              1,
              "#f0f921"
             ]
            ],
            "type": "heatmap"
           }
          ],
          "heatmapgl": [
           {
            "colorbar": {
             "outlinewidth": 0,
             "ticks": ""
            },
            "colorscale": [
             [
              0,
              "#0d0887"
             ],
             [
              0.1111111111111111,
              "#46039f"
             ],
             [
              0.2222222222222222,
              "#7201a8"
             ],
             [
              0.3333333333333333,
              "#9c179e"
             ],
             [
              0.4444444444444444,
              "#bd3786"
             ],
             [
              0.5555555555555556,
              "#d8576b"
             ],
             [
              0.6666666666666666,
              "#ed7953"
             ],
             [
              0.7777777777777778,
              "#fb9f3a"
             ],
             [
              0.8888888888888888,
              "#fdca26"
             ],
             [
              1,
              "#f0f921"
             ]
            ],
            "type": "heatmapgl"
           }
          ],
          "histogram": [
           {
            "marker": {
             "pattern": {
              "fillmode": "overlay",
              "size": 10,
              "solidity": 0.2
             }
            },
            "type": "histogram"
           }
          ],
          "histogram2d": [
           {
            "colorbar": {
             "outlinewidth": 0,
             "ticks": ""
            },
            "colorscale": [
             [
              0,
              "#0d0887"
             ],
             [
              0.1111111111111111,
              "#46039f"
             ],
             [
              0.2222222222222222,
              "#7201a8"
             ],
             [
              0.3333333333333333,
              "#9c179e"
             ],
             [
              0.4444444444444444,
              "#bd3786"
             ],
             [
              0.5555555555555556,
              "#d8576b"
             ],
             [
              0.6666666666666666,
              "#ed7953"
             ],
             [
              0.7777777777777778,
              "#fb9f3a"
             ],
             [
              0.8888888888888888,
              "#fdca26"
             ],
             [
              1,
              "#f0f921"
             ]
            ],
            "type": "histogram2d"
           }
          ],
          "histogram2dcontour": [
           {
            "colorbar": {
             "outlinewidth": 0,
             "ticks": ""
            },
            "colorscale": [
             [
              0,
              "#0d0887"
             ],
             [
              0.1111111111111111,
              "#46039f"
             ],
             [
              0.2222222222222222,
              "#7201a8"
             ],
             [
              0.3333333333333333,
              "#9c179e"
             ],
             [
              0.4444444444444444,
              "#bd3786"
             ],
             [
              0.5555555555555556,
              "#d8576b"
             ],
             [
              0.6666666666666666,
              "#ed7953"
             ],
             [
              0.7777777777777778,
              "#fb9f3a"
             ],
             [
              0.8888888888888888,
              "#fdca26"
             ],
             [
              1,
              "#f0f921"
             ]
            ],
            "type": "histogram2dcontour"
           }
          ],
          "mesh3d": [
           {
            "colorbar": {
             "outlinewidth": 0,
             "ticks": ""
            },
            "type": "mesh3d"
           }
          ],
          "parcoords": [
           {
            "line": {
             "colorbar": {
              "outlinewidth": 0,
              "ticks": ""
             }
            },
            "type": "parcoords"
           }
          ],
          "pie": [
           {
            "automargin": true,
            "type": "pie"
           }
          ],
          "scatter": [
           {
            "fillpattern": {
             "fillmode": "overlay",
             "size": 10,
             "solidity": 0.2
            },
            "type": "scatter"
           }
          ],
          "scatter3d": [
           {
            "line": {
             "colorbar": {
              "outlinewidth": 0,
              "ticks": ""
             }
            },
            "marker": {
             "colorbar": {
              "outlinewidth": 0,
              "ticks": ""
             }
            },
            "type": "scatter3d"
           }
          ],
          "scattercarpet": [
           {
            "marker": {
             "colorbar": {
              "outlinewidth": 0,
              "ticks": ""
             }
            },
            "type": "scattercarpet"
           }
          ],
          "scattergeo": [
           {
            "marker": {
             "colorbar": {
              "outlinewidth": 0,
              "ticks": ""
             }
            },
            "type": "scattergeo"
           }
          ],
          "scattergl": [
           {
            "marker": {
             "colorbar": {
              "outlinewidth": 0,
              "ticks": ""
             }
            },
            "type": "scattergl"
           }
          ],
          "scattermapbox": [
           {
            "marker": {
             "colorbar": {
              "outlinewidth": 0,
              "ticks": ""
             }
            },
            "type": "scattermapbox"
           }
          ],
          "scatterpolar": [
           {
            "marker": {
             "colorbar": {
              "outlinewidth": 0,
              "ticks": ""
             }
            },
            "type": "scatterpolar"
           }
          ],
          "scatterpolargl": [
           {
            "marker": {
             "colorbar": {
              "outlinewidth": 0,
              "ticks": ""
             }
            },
            "type": "scatterpolargl"
           }
          ],
          "scatterternary": [
           {
            "marker": {
             "colorbar": {
              "outlinewidth": 0,
              "ticks": ""
             }
            },
            "type": "scatterternary"
           }
          ],
          "surface": [
           {
            "colorbar": {
             "outlinewidth": 0,
             "ticks": ""
            },
            "colorscale": [
             [
              0,
              "#0d0887"
             ],
             [
              0.1111111111111111,
              "#46039f"
             ],
             [
              0.2222222222222222,
              "#7201a8"
             ],
             [
              0.3333333333333333,
              "#9c179e"
             ],
             [
              0.4444444444444444,
              "#bd3786"
             ],
             [
              0.5555555555555556,
              "#d8576b"
             ],
             [
              0.6666666666666666,
              "#ed7953"
             ],
             [
              0.7777777777777778,
              "#fb9f3a"
             ],
             [
              0.8888888888888888,
              "#fdca26"
             ],
             [
              1,
              "#f0f921"
             ]
            ],
            "type": "surface"
           }
          ],
          "table": [
           {
            "cells": {
             "fill": {
              "color": "#EBF0F8"
             },
             "line": {
              "color": "white"
             }
            },
            "header": {
             "fill": {
              "color": "#C8D4E3"
             },
             "line": {
              "color": "white"
             }
            },
            "type": "table"
           }
          ]
         },
         "layout": {
          "annotationdefaults": {
           "arrowcolor": "#2a3f5f",
           "arrowhead": 0,
           "arrowwidth": 1
          },
          "autotypenumbers": "strict",
          "coloraxis": {
           "colorbar": {
            "outlinewidth": 0,
            "ticks": ""
           }
          },
          "colorscale": {
           "diverging": [
            [
             0,
             "#8e0152"
            ],
            [
             0.1,
             "#c51b7d"
            ],
            [
             0.2,
             "#de77ae"
            ],
            [
             0.3,
             "#f1b6da"
            ],
            [
             0.4,
             "#fde0ef"
            ],
            [
             0.5,
             "#f7f7f7"
            ],
            [
             0.6,
             "#e6f5d0"
            ],
            [
             0.7,
             "#b8e186"
            ],
            [
             0.8,
             "#7fbc41"
            ],
            [
             0.9,
             "#4d9221"
            ],
            [
             1,
             "#276419"
            ]
           ],
           "sequential": [
            [
             0,
             "#0d0887"
            ],
            [
             0.1111111111111111,
             "#46039f"
            ],
            [
             0.2222222222222222,
             "#7201a8"
            ],
            [
             0.3333333333333333,
             "#9c179e"
            ],
            [
             0.4444444444444444,
             "#bd3786"
            ],
            [
             0.5555555555555556,
             "#d8576b"
            ],
            [
             0.6666666666666666,
             "#ed7953"
            ],
            [
             0.7777777777777778,
             "#fb9f3a"
            ],
            [
             0.8888888888888888,
             "#fdca26"
            ],
            [
             1,
             "#f0f921"
            ]
           ],
           "sequentialminus": [
            [
             0,
             "#0d0887"
            ],
            [
             0.1111111111111111,
             "#46039f"
            ],
            [
             0.2222222222222222,
             "#7201a8"
            ],
            [
             0.3333333333333333,
             "#9c179e"
            ],
            [
             0.4444444444444444,
             "#bd3786"
            ],
            [
             0.5555555555555556,
             "#d8576b"
            ],
            [
             0.6666666666666666,
             "#ed7953"
            ],
            [
             0.7777777777777778,
             "#fb9f3a"
            ],
            [
             0.8888888888888888,
             "#fdca26"
            ],
            [
             1,
             "#f0f921"
            ]
           ]
          },
          "colorway": [
           "#636efa",
           "#EF553B",
           "#00cc96",
           "#ab63fa",
           "#FFA15A",
           "#19d3f3",
           "#FF6692",
           "#B6E880",
           "#FF97FF",
           "#FECB52"
          ],
          "font": {
           "color": "#2a3f5f"
          },
          "geo": {
           "bgcolor": "white",
           "lakecolor": "white",
           "landcolor": "#E5ECF6",
           "showlakes": true,
           "showland": true,
           "subunitcolor": "white"
          },
          "hoverlabel": {
           "align": "left"
          },
          "hovermode": "closest",
          "mapbox": {
           "style": "light"
          },
          "paper_bgcolor": "white",
          "plot_bgcolor": "#E5ECF6",
          "polar": {
           "angularaxis": {
            "gridcolor": "white",
            "linecolor": "white",
            "ticks": ""
           },
           "bgcolor": "#E5ECF6",
           "radialaxis": {
            "gridcolor": "white",
            "linecolor": "white",
            "ticks": ""
           }
          },
          "scene": {
           "xaxis": {
            "backgroundcolor": "#E5ECF6",
            "gridcolor": "white",
            "gridwidth": 2,
            "linecolor": "white",
            "showbackground": true,
            "ticks": "",
            "zerolinecolor": "white"
           },
           "yaxis": {
            "backgroundcolor": "#E5ECF6",
            "gridcolor": "white",
            "gridwidth": 2,
            "linecolor": "white",
            "showbackground": true,
            "ticks": "",
            "zerolinecolor": "white"
           },
           "zaxis": {
            "backgroundcolor": "#E5ECF6",
            "gridcolor": "white",
            "gridwidth": 2,
            "linecolor": "white",
            "showbackground": true,
            "ticks": "",
            "zerolinecolor": "white"
           }
          },
          "shapedefaults": {
           "line": {
            "color": "#2a3f5f"
           }
          },
          "ternary": {
           "aaxis": {
            "gridcolor": "white",
            "linecolor": "white",
            "ticks": ""
           },
           "baxis": {
            "gridcolor": "white",
            "linecolor": "white",
            "ticks": ""
           },
           "bgcolor": "#E5ECF6",
           "caxis": {
            "gridcolor": "white",
            "linecolor": "white",
            "ticks": ""
           }
          },
          "title": {
           "x": 0.05
          },
          "xaxis": {
           "automargin": true,
           "gridcolor": "white",
           "linecolor": "white",
           "ticks": "",
           "title": {
            "standoff": 15
           },
           "zerolinecolor": "white",
           "zerolinewidth": 2
          },
          "yaxis": {
           "automargin": true,
           "gridcolor": "white",
           "linecolor": "white",
           "ticks": "",
           "title": {
            "standoff": 15
           },
           "zerolinecolor": "white",
           "zerolinewidth": 2
          }
         }
        },
        "width": 480
       }
      }
     },
     "metadata": {},
     "output_type": "display_data"
    }
   ],
   "source": [
    "fig = _plot_pie(image_by_type, \"count\", \"map_type\", width=1.6, height=1.1, textinfo=\"value\")\n",
    "fig.update_layout(\n",
    "    legend=dict(xanchor='left', yanchor='middle', y=0.5, x=1),\n",
    "    margin=dict(l=50, r=0, t=0, b=0),\n",
    "    autosize=True\n",
    ")\n",
    "fig.write_html(\n",
    "    op.join(fig_dir, \"07_images_by_maptype.html\"), full_html=True, include_plotlyjs=True\n",
    ")\n",
    "fig.write_image(op.join(fig_dir, \"07_images_by_maptype.png\"), scale=6)\n",
    "fig.show()"
   ]
  },
  {
   "cell_type": "markdown",
   "metadata": {},
   "source": [
    "### Analysis level\n"
   ]
  },
  {
   "cell_type": "code",
   "execution_count": 60,
   "metadata": {},
   "outputs": [],
   "source": [
    "image_by_analysis = statisticmap_fmri.groupby(\"analysis_level\").size()\n",
    "image_by_analysis = pd.DataFrame(image_by_analysis)\n",
    "image_by_analysis = image_by_analysis.rename(columns={image_by_analysis.columns[0]: \"count\"})\n",
    "image_by_analysis = image_by_analysis.reset_index()\n",
    "\n",
    "ANALYSIS_LEVEL_CHOICES = {\n",
    "    \"S\": \"single-subject\",\n",
    "    \"G\": \"group\",\n",
    "    \"M\": \"meta-analysis\",\n",
    "    \"Other\": \"other\",\n",
    "}\n",
    "image_by_analysis[\"analysis_level\"] = image_by_analysis[\"analysis_level\"].replace(\n",
    "    ANALYSIS_LEVEL_CHOICES\n",
    ")"
   ]
  },
  {
   "cell_type": "code",
   "execution_count": 81,
   "metadata": {},
   "outputs": [
    {
     "data": {
      "text/html": [
       "<div>\n",
       "<style scoped>\n",
       "    .dataframe tbody tr th:only-of-type {\n",
       "        vertical-align: middle;\n",
       "    }\n",
       "\n",
       "    .dataframe tbody tr th {\n",
       "        vertical-align: top;\n",
       "    }\n",
       "\n",
       "    .dataframe thead th {\n",
       "        text-align: right;\n",
       "    }\n",
       "</style>\n",
       "<table border=\"1\" class=\"dataframe\">\n",
       "  <thead>\n",
       "    <tr style=\"text-align: right;\">\n",
       "      <th></th>\n",
       "      <th>image_ptr_id</th>\n",
       "      <th>map_type</th>\n",
       "      <th>statistic_parameters</th>\n",
       "      <th>smoothness_fwhm</th>\n",
       "      <th>contrast_definition</th>\n",
       "      <th>contrast_definition_cogatlas</th>\n",
       "      <th>modality</th>\n",
       "      <th>cognitive_paradigm_cogatlas_id</th>\n",
       "      <th>ignore_file_warning</th>\n",
       "      <th>is_thresholded</th>\n",
       "      <th>...</th>\n",
       "      <th>waist_hip_ratio</th>\n",
       "      <th>id</th>\n",
       "      <th>name</th>\n",
       "      <th>description</th>\n",
       "      <th>add_date</th>\n",
       "      <th>modify_date</th>\n",
       "      <th>collection_id</th>\n",
       "      <th>polymorphic_ctype_id</th>\n",
       "      <th>is_valid</th>\n",
       "      <th>year</th>\n",
       "    </tr>\n",
       "    <tr>\n",
       "      <th>analysis_level</th>\n",
       "      <th></th>\n",
       "      <th></th>\n",
       "      <th></th>\n",
       "      <th></th>\n",
       "      <th></th>\n",
       "      <th></th>\n",
       "      <th></th>\n",
       "      <th></th>\n",
       "      <th></th>\n",
       "      <th></th>\n",
       "      <th></th>\n",
       "      <th></th>\n",
       "      <th></th>\n",
       "      <th></th>\n",
       "      <th></th>\n",
       "      <th></th>\n",
       "      <th></th>\n",
       "      <th></th>\n",
       "      <th></th>\n",
       "      <th></th>\n",
       "      <th></th>\n",
       "    </tr>\n",
       "  </thead>\n",
       "  <tbody>\n",
       "    <tr>\n",
       "      <th>G</th>\n",
       "      <td>18047</td>\n",
       "      <td>18047</td>\n",
       "      <td>623</td>\n",
       "      <td>1276</td>\n",
       "      <td>2566</td>\n",
       "      <td>0</td>\n",
       "      <td>18047</td>\n",
       "      <td>16020</td>\n",
       "      <td>18047</td>\n",
       "      <td>17660</td>\n",
       "      <td>...</td>\n",
       "      <td>0</td>\n",
       "      <td>18047</td>\n",
       "      <td>18047</td>\n",
       "      <td>12396</td>\n",
       "      <td>18047</td>\n",
       "      <td>18047</td>\n",
       "      <td>18047</td>\n",
       "      <td>18047</td>\n",
       "      <td>18047</td>\n",
       "      <td>18047</td>\n",
       "    </tr>\n",
       "    <tr>\n",
       "      <th>M</th>\n",
       "      <td>1911</td>\n",
       "      <td>1911</td>\n",
       "      <td>1</td>\n",
       "      <td>11</td>\n",
       "      <td>157</td>\n",
       "      <td>0</td>\n",
       "      <td>1911</td>\n",
       "      <td>683</td>\n",
       "      <td>1911</td>\n",
       "      <td>1812</td>\n",
       "      <td>...</td>\n",
       "      <td>0</td>\n",
       "      <td>1911</td>\n",
       "      <td>1911</td>\n",
       "      <td>1307</td>\n",
       "      <td>1911</td>\n",
       "      <td>1911</td>\n",
       "      <td>1911</td>\n",
       "      <td>1911</td>\n",
       "      <td>1911</td>\n",
       "      <td>1911</td>\n",
       "    </tr>\n",
       "    <tr>\n",
       "      <th>Other</th>\n",
       "      <td>1563</td>\n",
       "      <td>1563</td>\n",
       "      <td>0</td>\n",
       "      <td>6</td>\n",
       "      <td>2</td>\n",
       "      <td>0</td>\n",
       "      <td>1563</td>\n",
       "      <td>1419</td>\n",
       "      <td>1563</td>\n",
       "      <td>1503</td>\n",
       "      <td>...</td>\n",
       "      <td>0</td>\n",
       "      <td>1563</td>\n",
       "      <td>1563</td>\n",
       "      <td>1405</td>\n",
       "      <td>1563</td>\n",
       "      <td>1563</td>\n",
       "      <td>1563</td>\n",
       "      <td>1563</td>\n",
       "      <td>1563</td>\n",
       "      <td>1563</td>\n",
       "    </tr>\n",
       "    <tr>\n",
       "      <th>S</th>\n",
       "      <td>158604</td>\n",
       "      <td>158604</td>\n",
       "      <td>0</td>\n",
       "      <td>98</td>\n",
       "      <td>89927</td>\n",
       "      <td>0</td>\n",
       "      <td>158604</td>\n",
       "      <td>144377</td>\n",
       "      <td>158604</td>\n",
       "      <td>158572</td>\n",
       "      <td>...</td>\n",
       "      <td>0</td>\n",
       "      <td>158604</td>\n",
       "      <td>158604</td>\n",
       "      <td>30765</td>\n",
       "      <td>158604</td>\n",
       "      <td>158604</td>\n",
       "      <td>158604</td>\n",
       "      <td>158604</td>\n",
       "      <td>158604</td>\n",
       "      <td>158604</td>\n",
       "    </tr>\n",
       "  </tbody>\n",
       "</table>\n",
       "<p>4 rows × 52 columns</p>\n",
       "</div>"
      ],
      "text/plain": [
       "                image_ptr_id  map_type  statistic_parameters  smoothness_fwhm  \\\n",
       "analysis_level                                                                  \n",
       "G                      18047     18047                   623             1276   \n",
       "M                       1911      1911                     1               11   \n",
       "Other                   1563      1563                     0                6   \n",
       "S                     158604    158604                     0               98   \n",
       "\n",
       "                contrast_definition  contrast_definition_cogatlas  modality  \\\n",
       "analysis_level                                                                \n",
       "G                              2566                             0     18047   \n",
       "M                               157                             0      1911   \n",
       "Other                             2                             0      1563   \n",
       "S                             89927                             0    158604   \n",
       "\n",
       "                cognitive_paradigm_cogatlas_id  ignore_file_warning  \\\n",
       "analysis_level                                                        \n",
       "G                                        16020                18047   \n",
       "M                                          683                 1911   \n",
       "Other                                     1419                 1563   \n",
       "S                                       144377               158604   \n",
       "\n",
       "                is_thresholded  ...  waist_hip_ratio      id    name  \\\n",
       "analysis_level                  ...                                    \n",
       "G                        17660  ...                0   18047   18047   \n",
       "M                         1812  ...                0    1911    1911   \n",
       "Other                     1503  ...                0    1563    1563   \n",
       "S                       158572  ...                0  158604  158604   \n",
       "\n",
       "                description  add_date  modify_date  collection_id  \\\n",
       "analysis_level                                                      \n",
       "G                     12396     18047        18047          18047   \n",
       "M                      1307      1911         1911           1911   \n",
       "Other                  1405      1563         1563           1563   \n",
       "S                     30765    158604       158604         158604   \n",
       "\n",
       "                polymorphic_ctype_id  is_valid    year  \n",
       "analysis_level                                          \n",
       "G                              18047     18047   18047  \n",
       "M                               1911      1911    1911  \n",
       "Other                           1563      1563    1563  \n",
       "S                             158604    158604  158604  \n",
       "\n",
       "[4 rows x 52 columns]"
      ]
     },
     "execution_count": 81,
     "metadata": {},
     "output_type": "execute_result"
    }
   ],
   "source": [
    "statisticmap_fmri.groupby(\"analysis_level\").count()"
   ]
  },
  {
   "cell_type": "code",
   "execution_count": 93,
   "metadata": {},
   "outputs": [
    {
     "data": {
      "text/plain": [
       "(196732, 53)"
      ]
     },
     "execution_count": 93,
     "metadata": {},
     "output_type": "execute_result"
    }
   ],
   "source": [
    "statisticmap_fmri.shape"
   ]
  },
  {
   "cell_type": "code",
   "execution_count": 95,
   "metadata": {},
   "outputs": [
    {
     "data": {
      "text/plain": [
       "collection_id\n",
       "3         2\n",
       "16       30\n",
       "25        1\n",
       "34        1\n",
       "35        1\n",
       "         ..\n",
       "16413     7\n",
       "16415     4\n",
       "16419     1\n",
       "16420     4\n",
       "16436     1\n",
       "Length: 2240, dtype: int64"
      ]
     },
     "execution_count": 95,
     "metadata": {},
     "output_type": "execute_result"
    }
   ],
   "source": [
    "statisticmap_fmri.dropna(subset=\"analysis_level\").groupby(\"collection_id\").size()"
   ]
  },
  {
   "cell_type": "code",
   "execution_count": 61,
   "metadata": {},
   "outputs": [],
   "source": [
    "collection_by_analysis = pd.DataFrame(columns=[\"collection_id\"])\n",
    "for analysis_level in [\"S\", \"G\", \"Other\"]:\n",
    "    analysis_df = pd.DataFrame(\n",
    "        statisticmap_fmri[statisticmap_fmri[\"analysis_level\"] == analysis_level].groupby(\"collection_id\").size()\n",
    "    )\n",
    "    analysis_df = analysis_df.rename(columns={analysis_df.columns[0]: analysis_level})\n",
    "    analysis_df = analysis_df.reset_index()\n",
    "    collection_by_analysis = pd.merge(\n",
    "        collection_by_analysis,\n",
    "        analysis_df,\n",
    "        how=\"outer\",\n",
    "    )"
   ]
  },
  {
   "cell_type": "code",
   "execution_count": 62,
   "metadata": {},
   "outputs": [],
   "source": [
    "has_s = collection_by_analysis[\"S\"].isna() == False\n",
    "has_g = collection_by_analysis[\"G\"].isna() == False\n",
    "# has_m = collection_by_analysis[\"M\"].isna() == False\n",
    "has_o = collection_by_analysis[\"Other\"].isna() == False"
   ]
  },
  {
   "cell_type": "code",
   "execution_count": 63,
   "metadata": {},
   "outputs": [],
   "source": [
    "for i, row in collection_by_analysis.iterrows():\n",
    "    # if has_s[i] and has_g[i] and has_m[i] and has_o[i]:\n",
    "    #    collection_by_analysis.loc[i, \"analysis_level\"] = \"All\"\n",
    "    #elif has_s[i] and has_g[i] and has_m[i]:\n",
    "    #    collection_by_analysis.loc[i, \"analysis_level\"] = \"SGM\"\n",
    "    if has_s[i] and has_g[i]:\n",
    "        collection_by_analysis.loc[i, \"analysis_level\"] = \"SG\"\n",
    "    # elif has_s[i] and has_m[i]:\n",
    "    #     collection_by_analysis.loc[i, \"analysis_level\"] = \"SM\"\n",
    "    # elif has_g[i] and has_m[i]:\n",
    "    #     collection_by_analysis.loc[i, \"analysis_level\"] = \"GM\"\n",
    "    elif has_s[i]:\n",
    "        collection_by_analysis.loc[i, \"analysis_level\"] = \"S\"\n",
    "    elif has_g[i]:\n",
    "        collection_by_analysis.loc[i, \"analysis_level\"] = \"G\"\n",
    "    # elif has_m[i]:\n",
    "    #     collection_by_analysis.loc[i, \"analysis_level\"] = \"M\"\n",
    "    else:\n",
    "        collection_by_analysis.loc[i, \"analysis_level\"] = \"Other\""
   ]
  },
  {
   "cell_type": "code",
   "execution_count": 64,
   "metadata": {},
   "outputs": [],
   "source": [
    "collection_by_analysis_df = collection_by_analysis.groupby(\"analysis_level\").size()\n",
    "collection_by_analysis_df = pd.DataFrame(collection_by_analysis_df)\n",
    "collection_by_analysis_df = collection_by_analysis_df.rename(columns={collection_by_analysis_df.columns[0]: \"count\"})\n",
    "collection_by_analysis_df = collection_by_analysis_df.reset_index()\n",
    "label_mapping = {\n",
    "    \"All\": \"All\",\n",
    "    \"SGM\": \"single-subject & group & meta-analysis\",\n",
    "    \"SG\": \"single-subject & group\",\n",
    "    \"SM\": \"single-subject & meta-analysis\",\n",
    "    \"GM\": \"group & meta-analysis\",\n",
    "    \"S\": \"single-subject\",\n",
    "    \"G\": \"group\",\n",
    "    \"M\": \"meta-analysis\",\n",
    "    \"Other\": \"other\",\n",
    "}\n",
    "collection_by_analysis_df[\"analysis_level\"] = collection_by_analysis_df[\"analysis_level\"].replace(\n",
    "    label_mapping\n",
    ")"
   ]
  },
  {
   "cell_type": "code",
   "execution_count": 91,
   "metadata": {},
   "outputs": [
    {
     "data": {
      "application/vnd.plotly.v1+json": {
       "config": {
        "plotlyServerURL": "https://plot.ly"
       },
       "data": [
        {
         "domain": {
          "x": [
           0,
           1
          ],
          "y": [
           0,
           1
          ]
         },
         "hovertemplate": "analysis_level=%{label}<br>count=%{value}<extra></extra>",
         "labels": [
          "group",
          "other",
          "single-subject",
          "single-subject & group"
         ],
         "legendgroup": "",
         "name": "",
         "showlegend": true,
         "textinfo": "value",
         "type": "pie",
         "values": [
          1803,
          31,
          149,
          41
         ]
        }
       ],
       "layout": {
        "autosize": true,
        "height": 300,
        "legend": {
         "tracegroupgap": 0,
         "x": 1,
         "xanchor": "left",
         "y": 0.5,
         "yanchor": "middle"
        },
        "margin": {
         "b": 0,
         "l": 50,
         "r": 0,
         "t": 0
        },
        "piecolorway": [
         "#3366CC",
         "#DC3912",
         "#FF9900",
         "#109618"
        ],
        "template": {
         "data": {
          "bar": [
           {
            "error_x": {
             "color": "#2a3f5f"
            },
            "error_y": {
             "color": "#2a3f5f"
            },
            "marker": {
             "line": {
              "color": "#E5ECF6",
              "width": 0.5
             },
             "pattern": {
              "fillmode": "overlay",
              "size": 10,
              "solidity": 0.2
             }
            },
            "type": "bar"
           }
          ],
          "barpolar": [
           {
            "marker": {
             "line": {
              "color": "#E5ECF6",
              "width": 0.5
             },
             "pattern": {
              "fillmode": "overlay",
              "size": 10,
              "solidity": 0.2
             }
            },
            "type": "barpolar"
           }
          ],
          "carpet": [
           {
            "aaxis": {
             "endlinecolor": "#2a3f5f",
             "gridcolor": "white",
             "linecolor": "white",
             "minorgridcolor": "white",
             "startlinecolor": "#2a3f5f"
            },
            "baxis": {
             "endlinecolor": "#2a3f5f",
             "gridcolor": "white",
             "linecolor": "white",
             "minorgridcolor": "white",
             "startlinecolor": "#2a3f5f"
            },
            "type": "carpet"
           }
          ],
          "choropleth": [
           {
            "colorbar": {
             "outlinewidth": 0,
             "ticks": ""
            },
            "type": "choropleth"
           }
          ],
          "contour": [
           {
            "colorbar": {
             "outlinewidth": 0,
             "ticks": ""
            },
            "colorscale": [
             [
              0,
              "#0d0887"
             ],
             [
              0.1111111111111111,
              "#46039f"
             ],
             [
              0.2222222222222222,
              "#7201a8"
             ],
             [
              0.3333333333333333,
              "#9c179e"
             ],
             [
              0.4444444444444444,
              "#bd3786"
             ],
             [
              0.5555555555555556,
              "#d8576b"
             ],
             [
              0.6666666666666666,
              "#ed7953"
             ],
             [
              0.7777777777777778,
              "#fb9f3a"
             ],
             [
              0.8888888888888888,
              "#fdca26"
             ],
             [
              1,
              "#f0f921"
             ]
            ],
            "type": "contour"
           }
          ],
          "contourcarpet": [
           {
            "colorbar": {
             "outlinewidth": 0,
             "ticks": ""
            },
            "type": "contourcarpet"
           }
          ],
          "heatmap": [
           {
            "colorbar": {
             "outlinewidth": 0,
             "ticks": ""
            },
            "colorscale": [
             [
              0,
              "#0d0887"
             ],
             [
              0.1111111111111111,
              "#46039f"
             ],
             [
              0.2222222222222222,
              "#7201a8"
             ],
             [
              0.3333333333333333,
              "#9c179e"
             ],
             [
              0.4444444444444444,
              "#bd3786"
             ],
             [
              0.5555555555555556,
              "#d8576b"
             ],
             [
              0.6666666666666666,
              "#ed7953"
             ],
             [
              0.7777777777777778,
              "#fb9f3a"
             ],
             [
              0.8888888888888888,
              "#fdca26"
             ],
             [
              1,
              "#f0f921"
             ]
            ],
            "type": "heatmap"
           }
          ],
          "heatmapgl": [
           {
            "colorbar": {
             "outlinewidth": 0,
             "ticks": ""
            },
            "colorscale": [
             [
              0,
              "#0d0887"
             ],
             [
              0.1111111111111111,
              "#46039f"
             ],
             [
              0.2222222222222222,
              "#7201a8"
             ],
             [
              0.3333333333333333,
              "#9c179e"
             ],
             [
              0.4444444444444444,
              "#bd3786"
             ],
             [
              0.5555555555555556,
              "#d8576b"
             ],
             [
              0.6666666666666666,
              "#ed7953"
             ],
             [
              0.7777777777777778,
              "#fb9f3a"
             ],
             [
              0.8888888888888888,
              "#fdca26"
             ],
             [
              1,
              "#f0f921"
             ]
            ],
            "type": "heatmapgl"
           }
          ],
          "histogram": [
           {
            "marker": {
             "pattern": {
              "fillmode": "overlay",
              "size": 10,
              "solidity": 0.2
             }
            },
            "type": "histogram"
           }
          ],
          "histogram2d": [
           {
            "colorbar": {
             "outlinewidth": 0,
             "ticks": ""
            },
            "colorscale": [
             [
              0,
              "#0d0887"
             ],
             [
              0.1111111111111111,
              "#46039f"
             ],
             [
              0.2222222222222222,
              "#7201a8"
             ],
             [
              0.3333333333333333,
              "#9c179e"
             ],
             [
              0.4444444444444444,
              "#bd3786"
             ],
             [
              0.5555555555555556,
              "#d8576b"
             ],
             [
              0.6666666666666666,
              "#ed7953"
             ],
             [
              0.7777777777777778,
              "#fb9f3a"
             ],
             [
              0.8888888888888888,
              "#fdca26"
             ],
             [
              1,
              "#f0f921"
             ]
            ],
            "type": "histogram2d"
           }
          ],
          "histogram2dcontour": [
           {
            "colorbar": {
             "outlinewidth": 0,
             "ticks": ""
            },
            "colorscale": [
             [
              0,
              "#0d0887"
             ],
             [
              0.1111111111111111,
              "#46039f"
             ],
             [
              0.2222222222222222,
              "#7201a8"
             ],
             [
              0.3333333333333333,
              "#9c179e"
             ],
             [
              0.4444444444444444,
              "#bd3786"
             ],
             [
              0.5555555555555556,
              "#d8576b"
             ],
             [
              0.6666666666666666,
              "#ed7953"
             ],
             [
              0.7777777777777778,
              "#fb9f3a"
             ],
             [
              0.8888888888888888,
              "#fdca26"
             ],
             [
              1,
              "#f0f921"
             ]
            ],
            "type": "histogram2dcontour"
           }
          ],
          "mesh3d": [
           {
            "colorbar": {
             "outlinewidth": 0,
             "ticks": ""
            },
            "type": "mesh3d"
           }
          ],
          "parcoords": [
           {
            "line": {
             "colorbar": {
              "outlinewidth": 0,
              "ticks": ""
             }
            },
            "type": "parcoords"
           }
          ],
          "pie": [
           {
            "automargin": true,
            "type": "pie"
           }
          ],
          "scatter": [
           {
            "fillpattern": {
             "fillmode": "overlay",
             "size": 10,
             "solidity": 0.2
            },
            "type": "scatter"
           }
          ],
          "scatter3d": [
           {
            "line": {
             "colorbar": {
              "outlinewidth": 0,
              "ticks": ""
             }
            },
            "marker": {
             "colorbar": {
              "outlinewidth": 0,
              "ticks": ""
             }
            },
            "type": "scatter3d"
           }
          ],
          "scattercarpet": [
           {
            "marker": {
             "colorbar": {
              "outlinewidth": 0,
              "ticks": ""
             }
            },
            "type": "scattercarpet"
           }
          ],
          "scattergeo": [
           {
            "marker": {
             "colorbar": {
              "outlinewidth": 0,
              "ticks": ""
             }
            },
            "type": "scattergeo"
           }
          ],
          "scattergl": [
           {
            "marker": {
             "colorbar": {
              "outlinewidth": 0,
              "ticks": ""
             }
            },
            "type": "scattergl"
           }
          ],
          "scattermapbox": [
           {
            "marker": {
             "colorbar": {
              "outlinewidth": 0,
              "ticks": ""
             }
            },
            "type": "scattermapbox"
           }
          ],
          "scatterpolar": [
           {
            "marker": {
             "colorbar": {
              "outlinewidth": 0,
              "ticks": ""
             }
            },
            "type": "scatterpolar"
           }
          ],
          "scatterpolargl": [
           {
            "marker": {
             "colorbar": {
              "outlinewidth": 0,
              "ticks": ""
             }
            },
            "type": "scatterpolargl"
           }
          ],
          "scatterternary": [
           {
            "marker": {
             "colorbar": {
              "outlinewidth": 0,
              "ticks": ""
             }
            },
            "type": "scatterternary"
           }
          ],
          "surface": [
           {
            "colorbar": {
             "outlinewidth": 0,
             "ticks": ""
            },
            "colorscale": [
             [
              0,
              "#0d0887"
             ],
             [
              0.1111111111111111,
              "#46039f"
             ],
             [
              0.2222222222222222,
              "#7201a8"
             ],
             [
              0.3333333333333333,
              "#9c179e"
             ],
             [
              0.4444444444444444,
              "#bd3786"
             ],
             [
              0.5555555555555556,
              "#d8576b"
             ],
             [
              0.6666666666666666,
              "#ed7953"
             ],
             [
              0.7777777777777778,
              "#fb9f3a"
             ],
             [
              0.8888888888888888,
              "#fdca26"
             ],
             [
              1,
              "#f0f921"
             ]
            ],
            "type": "surface"
           }
          ],
          "table": [
           {
            "cells": {
             "fill": {
              "color": "#EBF0F8"
             },
             "line": {
              "color": "white"
             }
            },
            "header": {
             "fill": {
              "color": "#C8D4E3"
             },
             "line": {
              "color": "white"
             }
            },
            "type": "table"
           }
          ]
         },
         "layout": {
          "annotationdefaults": {
           "arrowcolor": "#2a3f5f",
           "arrowhead": 0,
           "arrowwidth": 1
          },
          "autotypenumbers": "strict",
          "coloraxis": {
           "colorbar": {
            "outlinewidth": 0,
            "ticks": ""
           }
          },
          "colorscale": {
           "diverging": [
            [
             0,
             "#8e0152"
            ],
            [
             0.1,
             "#c51b7d"
            ],
            [
             0.2,
             "#de77ae"
            ],
            [
             0.3,
             "#f1b6da"
            ],
            [
             0.4,
             "#fde0ef"
            ],
            [
             0.5,
             "#f7f7f7"
            ],
            [
             0.6,
             "#e6f5d0"
            ],
            [
             0.7,
             "#b8e186"
            ],
            [
             0.8,
             "#7fbc41"
            ],
            [
             0.9,
             "#4d9221"
            ],
            [
             1,
             "#276419"
            ]
           ],
           "sequential": [
            [
             0,
             "#0d0887"
            ],
            [
             0.1111111111111111,
             "#46039f"
            ],
            [
             0.2222222222222222,
             "#7201a8"
            ],
            [
             0.3333333333333333,
             "#9c179e"
            ],
            [
             0.4444444444444444,
             "#bd3786"
            ],
            [
             0.5555555555555556,
             "#d8576b"
            ],
            [
             0.6666666666666666,
             "#ed7953"
            ],
            [
             0.7777777777777778,
             "#fb9f3a"
            ],
            [
             0.8888888888888888,
             "#fdca26"
            ],
            [
             1,
             "#f0f921"
            ]
           ],
           "sequentialminus": [
            [
             0,
             "#0d0887"
            ],
            [
             0.1111111111111111,
             "#46039f"
            ],
            [
             0.2222222222222222,
             "#7201a8"
            ],
            [
             0.3333333333333333,
             "#9c179e"
            ],
            [
             0.4444444444444444,
             "#bd3786"
            ],
            [
             0.5555555555555556,
             "#d8576b"
            ],
            [
             0.6666666666666666,
             "#ed7953"
            ],
            [
             0.7777777777777778,
             "#fb9f3a"
            ],
            [
             0.8888888888888888,
             "#fdca26"
            ],
            [
             1,
             "#f0f921"
            ]
           ]
          },
          "colorway": [
           "#636efa",
           "#EF553B",
           "#00cc96",
           "#ab63fa",
           "#FFA15A",
           "#19d3f3",
           "#FF6692",
           "#B6E880",
           "#FF97FF",
           "#FECB52"
          ],
          "font": {
           "color": "#2a3f5f"
          },
          "geo": {
           "bgcolor": "white",
           "lakecolor": "white",
           "landcolor": "#E5ECF6",
           "showlakes": true,
           "showland": true,
           "subunitcolor": "white"
          },
          "hoverlabel": {
           "align": "left"
          },
          "hovermode": "closest",
          "mapbox": {
           "style": "light"
          },
          "paper_bgcolor": "white",
          "plot_bgcolor": "#E5ECF6",
          "polar": {
           "angularaxis": {
            "gridcolor": "white",
            "linecolor": "white",
            "ticks": ""
           },
           "bgcolor": "#E5ECF6",
           "radialaxis": {
            "gridcolor": "white",
            "linecolor": "white",
            "ticks": ""
           }
          },
          "scene": {
           "xaxis": {
            "backgroundcolor": "#E5ECF6",
            "gridcolor": "white",
            "gridwidth": 2,
            "linecolor": "white",
            "showbackground": true,
            "ticks": "",
            "zerolinecolor": "white"
           },
           "yaxis": {
            "backgroundcolor": "#E5ECF6",
            "gridcolor": "white",
            "gridwidth": 2,
            "linecolor": "white",
            "showbackground": true,
            "ticks": "",
            "zerolinecolor": "white"
           },
           "zaxis": {
            "backgroundcolor": "#E5ECF6",
            "gridcolor": "white",
            "gridwidth": 2,
            "linecolor": "white",
            "showbackground": true,
            "ticks": "",
            "zerolinecolor": "white"
           }
          },
          "shapedefaults": {
           "line": {
            "color": "#2a3f5f"
           }
          },
          "ternary": {
           "aaxis": {
            "gridcolor": "white",
            "linecolor": "white",
            "ticks": ""
           },
           "baxis": {
            "gridcolor": "white",
            "linecolor": "white",
            "ticks": ""
           },
           "bgcolor": "#E5ECF6",
           "caxis": {
            "gridcolor": "white",
            "linecolor": "white",
            "ticks": ""
           }
          },
          "title": {
           "x": 0.05
          },
          "xaxis": {
           "automargin": true,
           "gridcolor": "white",
           "linecolor": "white",
           "ticks": "",
           "title": {
            "standoff": 15
           },
           "zerolinecolor": "white",
           "zerolinewidth": 2
          },
          "yaxis": {
           "automargin": true,
           "gridcolor": "white",
           "linecolor": "white",
           "ticks": "",
           "title": {
            "standoff": 15
           },
           "zerolinecolor": "white",
           "zerolinewidth": 2
          }
         }
        },
        "width": 450
       }
      }
     },
     "metadata": {},
     "output_type": "display_data"
    }
   ],
   "source": [
    "fig = _plot_pie(collection_by_analysis_df, \"count\", \"analysis_level\", width=1.5, height=1, textinfo=\"value\")\n",
    "fig.update_layout(\n",
    "    legend=dict(xanchor='left', yanchor='middle', y=0.5, x=1),\n",
    "    margin=dict(l=50, r=0, t=0, b=0),\n",
    "    autosize=True\n",
    ")\n",
    "fig.write_html(\n",
    "    op.join(fig_dir, \"08_collection_by_analysis.html\"), full_html=True, include_plotlyjs=True\n",
    ")\n",
    "fig.write_image(op.join(fig_dir, \"08_collection_by_analysis.png\"), scale=6)\n",
    "fig.show()"
   ]
  },
  {
   "cell_type": "code",
   "execution_count": 77,
   "metadata": {},
   "outputs": [
    {
     "data": {
      "application/vnd.plotly.v1+json": {
       "config": {
        "plotlyServerURL": "https://plot.ly"
       },
       "data": [
        {
         "domain": {
          "x": [
           0,
           1
          ],
          "y": [
           0,
           1
          ]
         },
         "hovertemplate": "analysis_level=%{label}<br>count=%{value}<extra></extra>",
         "labels": [
          "group",
          "meta-analysis",
          "other",
          "single-subject"
         ],
         "legendgroup": "",
         "name": "",
         "showlegend": true,
         "textinfo": "value",
         "type": "pie",
         "values": [
          18047,
          1911,
          1563,
          158604
         ]
        }
       ],
       "layout": {
        "autosize": true,
        "height": 300,
        "legend": {
         "tracegroupgap": 0,
         "x": 1,
         "xanchor": "left",
         "y": 0.5,
         "yanchor": "middle"
        },
        "margin": {
         "b": 0,
         "l": 50,
         "r": 0,
         "t": 0
        },
        "piecolorway": [
         "#3366CC",
         "#DC3912",
         "#FF9900",
         "#109618"
        ],
        "template": {
         "data": {
          "bar": [
           {
            "error_x": {
             "color": "#2a3f5f"
            },
            "error_y": {
             "color": "#2a3f5f"
            },
            "marker": {
             "line": {
              "color": "#E5ECF6",
              "width": 0.5
             },
             "pattern": {
              "fillmode": "overlay",
              "size": 10,
              "solidity": 0.2
             }
            },
            "type": "bar"
           }
          ],
          "barpolar": [
           {
            "marker": {
             "line": {
              "color": "#E5ECF6",
              "width": 0.5
             },
             "pattern": {
              "fillmode": "overlay",
              "size": 10,
              "solidity": 0.2
             }
            },
            "type": "barpolar"
           }
          ],
          "carpet": [
           {
            "aaxis": {
             "endlinecolor": "#2a3f5f",
             "gridcolor": "white",
             "linecolor": "white",
             "minorgridcolor": "white",
             "startlinecolor": "#2a3f5f"
            },
            "baxis": {
             "endlinecolor": "#2a3f5f",
             "gridcolor": "white",
             "linecolor": "white",
             "minorgridcolor": "white",
             "startlinecolor": "#2a3f5f"
            },
            "type": "carpet"
           }
          ],
          "choropleth": [
           {
            "colorbar": {
             "outlinewidth": 0,
             "ticks": ""
            },
            "type": "choropleth"
           }
          ],
          "contour": [
           {
            "colorbar": {
             "outlinewidth": 0,
             "ticks": ""
            },
            "colorscale": [
             [
              0,
              "#0d0887"
             ],
             [
              0.1111111111111111,
              "#46039f"
             ],
             [
              0.2222222222222222,
              "#7201a8"
             ],
             [
              0.3333333333333333,
              "#9c179e"
             ],
             [
              0.4444444444444444,
              "#bd3786"
             ],
             [
              0.5555555555555556,
              "#d8576b"
             ],
             [
              0.6666666666666666,
              "#ed7953"
             ],
             [
              0.7777777777777778,
              "#fb9f3a"
             ],
             [
              0.8888888888888888,
              "#fdca26"
             ],
             [
              1,
              "#f0f921"
             ]
            ],
            "type": "contour"
           }
          ],
          "contourcarpet": [
           {
            "colorbar": {
             "outlinewidth": 0,
             "ticks": ""
            },
            "type": "contourcarpet"
           }
          ],
          "heatmap": [
           {
            "colorbar": {
             "outlinewidth": 0,
             "ticks": ""
            },
            "colorscale": [
             [
              0,
              "#0d0887"
             ],
             [
              0.1111111111111111,
              "#46039f"
             ],
             [
              0.2222222222222222,
              "#7201a8"
             ],
             [
              0.3333333333333333,
              "#9c179e"
             ],
             [
              0.4444444444444444,
              "#bd3786"
             ],
             [
              0.5555555555555556,
              "#d8576b"
             ],
             [
              0.6666666666666666,
              "#ed7953"
             ],
             [
              0.7777777777777778,
              "#fb9f3a"
             ],
             [
              0.8888888888888888,
              "#fdca26"
             ],
             [
              1,
              "#f0f921"
             ]
            ],
            "type": "heatmap"
           }
          ],
          "heatmapgl": [
           {
            "colorbar": {
             "outlinewidth": 0,
             "ticks": ""
            },
            "colorscale": [
             [
              0,
              "#0d0887"
             ],
             [
              0.1111111111111111,
              "#46039f"
             ],
             [
              0.2222222222222222,
              "#7201a8"
             ],
             [
              0.3333333333333333,
              "#9c179e"
             ],
             [
              0.4444444444444444,
              "#bd3786"
             ],
             [
              0.5555555555555556,
              "#d8576b"
             ],
             [
              0.6666666666666666,
              "#ed7953"
             ],
             [
              0.7777777777777778,
              "#fb9f3a"
             ],
             [
              0.8888888888888888,
              "#fdca26"
             ],
             [
              1,
              "#f0f921"
             ]
            ],
            "type": "heatmapgl"
           }
          ],
          "histogram": [
           {
            "marker": {
             "pattern": {
              "fillmode": "overlay",
              "size": 10,
              "solidity": 0.2
             }
            },
            "type": "histogram"
           }
          ],
          "histogram2d": [
           {
            "colorbar": {
             "outlinewidth": 0,
             "ticks": ""
            },
            "colorscale": [
             [
              0,
              "#0d0887"
             ],
             [
              0.1111111111111111,
              "#46039f"
             ],
             [
              0.2222222222222222,
              "#7201a8"
             ],
             [
              0.3333333333333333,
              "#9c179e"
             ],
             [
              0.4444444444444444,
              "#bd3786"
             ],
             [
              0.5555555555555556,
              "#d8576b"
             ],
             [
              0.6666666666666666,
              "#ed7953"
             ],
             [
              0.7777777777777778,
              "#fb9f3a"
             ],
             [
              0.8888888888888888,
              "#fdca26"
             ],
             [
              1,
              "#f0f921"
             ]
            ],
            "type": "histogram2d"
           }
          ],
          "histogram2dcontour": [
           {
            "colorbar": {
             "outlinewidth": 0,
             "ticks": ""
            },
            "colorscale": [
             [
              0,
              "#0d0887"
             ],
             [
              0.1111111111111111,
              "#46039f"
             ],
             [
              0.2222222222222222,
              "#7201a8"
             ],
             [
              0.3333333333333333,
              "#9c179e"
             ],
             [
              0.4444444444444444,
              "#bd3786"
             ],
             [
              0.5555555555555556,
              "#d8576b"
             ],
             [
              0.6666666666666666,
              "#ed7953"
             ],
             [
              0.7777777777777778,
              "#fb9f3a"
             ],
             [
              0.8888888888888888,
              "#fdca26"
             ],
             [
              1,
              "#f0f921"
             ]
            ],
            "type": "histogram2dcontour"
           }
          ],
          "mesh3d": [
           {
            "colorbar": {
             "outlinewidth": 0,
             "ticks": ""
            },
            "type": "mesh3d"
           }
          ],
          "parcoords": [
           {
            "line": {
             "colorbar": {
              "outlinewidth": 0,
              "ticks": ""
             }
            },
            "type": "parcoords"
           }
          ],
          "pie": [
           {
            "automargin": true,
            "type": "pie"
           }
          ],
          "scatter": [
           {
            "fillpattern": {
             "fillmode": "overlay",
             "size": 10,
             "solidity": 0.2
            },
            "type": "scatter"
           }
          ],
          "scatter3d": [
           {
            "line": {
             "colorbar": {
              "outlinewidth": 0,
              "ticks": ""
             }
            },
            "marker": {
             "colorbar": {
              "outlinewidth": 0,
              "ticks": ""
             }
            },
            "type": "scatter3d"
           }
          ],
          "scattercarpet": [
           {
            "marker": {
             "colorbar": {
              "outlinewidth": 0,
              "ticks": ""
             }
            },
            "type": "scattercarpet"
           }
          ],
          "scattergeo": [
           {
            "marker": {
             "colorbar": {
              "outlinewidth": 0,
              "ticks": ""
             }
            },
            "type": "scattergeo"
           }
          ],
          "scattergl": [
           {
            "marker": {
             "colorbar": {
              "outlinewidth": 0,
              "ticks": ""
             }
            },
            "type": "scattergl"
           }
          ],
          "scattermapbox": [
           {
            "marker": {
             "colorbar": {
              "outlinewidth": 0,
              "ticks": ""
             }
            },
            "type": "scattermapbox"
           }
          ],
          "scatterpolar": [
           {
            "marker": {
             "colorbar": {
              "outlinewidth": 0,
              "ticks": ""
             }
            },
            "type": "scatterpolar"
           }
          ],
          "scatterpolargl": [
           {
            "marker": {
             "colorbar": {
              "outlinewidth": 0,
              "ticks": ""
             }
            },
            "type": "scatterpolargl"
           }
          ],
          "scatterternary": [
           {
            "marker": {
             "colorbar": {
              "outlinewidth": 0,
              "ticks": ""
             }
            },
            "type": "scatterternary"
           }
          ],
          "surface": [
           {
            "colorbar": {
             "outlinewidth": 0,
             "ticks": ""
            },
            "colorscale": [
             [
              0,
              "#0d0887"
             ],
             [
              0.1111111111111111,
              "#46039f"
             ],
             [
              0.2222222222222222,
              "#7201a8"
             ],
             [
              0.3333333333333333,
              "#9c179e"
             ],
             [
              0.4444444444444444,
              "#bd3786"
             ],
             [
              0.5555555555555556,
              "#d8576b"
             ],
             [
              0.6666666666666666,
              "#ed7953"
             ],
             [
              0.7777777777777778,
              "#fb9f3a"
             ],
             [
              0.8888888888888888,
              "#fdca26"
             ],
             [
              1,
              "#f0f921"
             ]
            ],
            "type": "surface"
           }
          ],
          "table": [
           {
            "cells": {
             "fill": {
              "color": "#EBF0F8"
             },
             "line": {
              "color": "white"
             }
            },
            "header": {
             "fill": {
              "color": "#C8D4E3"
             },
             "line": {
              "color": "white"
             }
            },
            "type": "table"
           }
          ]
         },
         "layout": {
          "annotationdefaults": {
           "arrowcolor": "#2a3f5f",
           "arrowhead": 0,
           "arrowwidth": 1
          },
          "autotypenumbers": "strict",
          "coloraxis": {
           "colorbar": {
            "outlinewidth": 0,
            "ticks": ""
           }
          },
          "colorscale": {
           "diverging": [
            [
             0,
             "#8e0152"
            ],
            [
             0.1,
             "#c51b7d"
            ],
            [
             0.2,
             "#de77ae"
            ],
            [
             0.3,
             "#f1b6da"
            ],
            [
             0.4,
             "#fde0ef"
            ],
            [
             0.5,
             "#f7f7f7"
            ],
            [
             0.6,
             "#e6f5d0"
            ],
            [
             0.7,
             "#b8e186"
            ],
            [
             0.8,
             "#7fbc41"
            ],
            [
             0.9,
             "#4d9221"
            ],
            [
             1,
             "#276419"
            ]
           ],
           "sequential": [
            [
             0,
             "#0d0887"
            ],
            [
             0.1111111111111111,
             "#46039f"
            ],
            [
             0.2222222222222222,
             "#7201a8"
            ],
            [
             0.3333333333333333,
             "#9c179e"
            ],
            [
             0.4444444444444444,
             "#bd3786"
            ],
            [
             0.5555555555555556,
             "#d8576b"
            ],
            [
             0.6666666666666666,
             "#ed7953"
            ],
            [
             0.7777777777777778,
             "#fb9f3a"
            ],
            [
             0.8888888888888888,
             "#fdca26"
            ],
            [
             1,
             "#f0f921"
            ]
           ],
           "sequentialminus": [
            [
             0,
             "#0d0887"
            ],
            [
             0.1111111111111111,
             "#46039f"
            ],
            [
             0.2222222222222222,
             "#7201a8"
            ],
            [
             0.3333333333333333,
             "#9c179e"
            ],
            [
             0.4444444444444444,
             "#bd3786"
            ],
            [
             0.5555555555555556,
             "#d8576b"
            ],
            [
             0.6666666666666666,
             "#ed7953"
            ],
            [
             0.7777777777777778,
             "#fb9f3a"
            ],
            [
             0.8888888888888888,
             "#fdca26"
            ],
            [
             1,
             "#f0f921"
            ]
           ]
          },
          "colorway": [
           "#636efa",
           "#EF553B",
           "#00cc96",
           "#ab63fa",
           "#FFA15A",
           "#19d3f3",
           "#FF6692",
           "#B6E880",
           "#FF97FF",
           "#FECB52"
          ],
          "font": {
           "color": "#2a3f5f"
          },
          "geo": {
           "bgcolor": "white",
           "lakecolor": "white",
           "landcolor": "#E5ECF6",
           "showlakes": true,
           "showland": true,
           "subunitcolor": "white"
          },
          "hoverlabel": {
           "align": "left"
          },
          "hovermode": "closest",
          "mapbox": {
           "style": "light"
          },
          "paper_bgcolor": "white",
          "plot_bgcolor": "#E5ECF6",
          "polar": {
           "angularaxis": {
            "gridcolor": "white",
            "linecolor": "white",
            "ticks": ""
           },
           "bgcolor": "#E5ECF6",
           "radialaxis": {
            "gridcolor": "white",
            "linecolor": "white",
            "ticks": ""
           }
          },
          "scene": {
           "xaxis": {
            "backgroundcolor": "#E5ECF6",
            "gridcolor": "white",
            "gridwidth": 2,
            "linecolor": "white",
            "showbackground": true,
            "ticks": "",
            "zerolinecolor": "white"
           },
           "yaxis": {
            "backgroundcolor": "#E5ECF6",
            "gridcolor": "white",
            "gridwidth": 2,
            "linecolor": "white",
            "showbackground": true,
            "ticks": "",
            "zerolinecolor": "white"
           },
           "zaxis": {
            "backgroundcolor": "#E5ECF6",
            "gridcolor": "white",
            "gridwidth": 2,
            "linecolor": "white",
            "showbackground": true,
            "ticks": "",
            "zerolinecolor": "white"
           }
          },
          "shapedefaults": {
           "line": {
            "color": "#2a3f5f"
           }
          },
          "ternary": {
           "aaxis": {
            "gridcolor": "white",
            "linecolor": "white",
            "ticks": ""
           },
           "baxis": {
            "gridcolor": "white",
            "linecolor": "white",
            "ticks": ""
           },
           "bgcolor": "#E5ECF6",
           "caxis": {
            "gridcolor": "white",
            "linecolor": "white",
            "ticks": ""
           }
          },
          "title": {
           "x": 0.05
          },
          "xaxis": {
           "automargin": true,
           "gridcolor": "white",
           "linecolor": "white",
           "ticks": "",
           "title": {
            "standoff": 15
           },
           "zerolinecolor": "white",
           "zerolinewidth": 2
          },
          "yaxis": {
           "automargin": true,
           "gridcolor": "white",
           "linecolor": "white",
           "ticks": "",
           "title": {
            "standoff": 15
           },
           "zerolinecolor": "white",
           "zerolinewidth": 2
          }
         }
        },
        "width": 390
       }
      }
     },
     "metadata": {},
     "output_type": "display_data"
    }
   ],
   "source": [
    "fig = _plot_pie(image_by_analysis, \"count\", \"analysis_level\", width=1.3, height=1, textinfo=\"value\")\n",
    "fig.update_layout(\n",
    "    legend=dict(xanchor='left', yanchor='middle', y=0.5, x=1),\n",
    "    margin=dict(l=50, r=0, t=0, b=0),\n",
    "    autosize=True\n",
    ")\n",
    "fig.write_html(\n",
    "    op.join(fig_dir, \"08_images_by_analysis.html\"), full_html=True, include_plotlyjs=True\n",
    ")\n",
    "fig.write_image(op.join(fig_dir, \"08_images_by_analysis.png\"), scale=6)\n",
    "fig.show()"
   ]
  },
  {
   "cell_type": "markdown",
   "metadata": {},
   "source": [
    "### Cognitive atlas task representation\n"
   ]
  },
  {
   "cell_type": "code",
   "execution_count": 36,
   "metadata": {},
   "outputs": [],
   "source": [
    "statisticmap_fmri_cogat = statisticmap_fmri.dropna(subset=[\"cognitive_paradigm_cogatlas_id\"])[\n",
    "    [\"cognitive_paradigm_cogatlas_id\", \"image_ptr_id\"]\n",
    "]\n",
    "statisticmap_fmri_cogat = pd.merge(\n",
    "    statisticmap_fmri_cogat,\n",
    "    cogat_task,\n",
    "    how=\"left\",\n",
    "    left_on=\"cognitive_paradigm_cogatlas_id\",\n",
    "    right_on=\"cog_atlas_id\",\n",
    ")"
   ]
  },
  {
   "cell_type": "code",
   "execution_count": 37,
   "metadata": {},
   "outputs": [
    {
     "data": {
      "image/png": "[encoded data removed]",
      "text/plain": [
       "<Figure size 800x300 with 1 Axes>"
      ]
     },
     "metadata": {},
     "output_type": "display_data"
    }
   ],
   "source": [
    "width, height = 8, 3\n",
    "fig, ax = plt.subplots(figsize=(width, height))\n",
    "\n",
    "frequencies_dict = dict(statisticmap_fmri_cogat.groupby(\"name\").size())\n",
    "\n",
    "wc = WordCloud(\n",
    "    width=width * DPI,\n",
    "    height=height * DPI,\n",
    "    background_color=\"white\",\n",
    "    random_state=0,\n",
    "    colormap=\"Reds\",\n",
    ")\n",
    "wc.generate_from_frequencies(frequencies=frequencies_dict)\n",
    "ax.imshow(wc)\n",
    "\n",
    "ax.get_xaxis().set_ticks([])\n",
    "ax.get_yaxis().set_ticks([])\n",
    "for spine in ax.spines.values():\n",
    "    spine.set_visible(False)\n",
    "\n",
    "\n",
    "fig.savefig(op.join(fig_dir, \"09_cogat_count.png\"), bbox_inches=\"tight\", dpi=DPI)\n",
    "plt.show()"
   ]
  },
  {
   "cell_type": "markdown",
   "metadata": {},
   "source": [
    "### Image by modalities and map type\n"
   ]
  },
  {
   "cell_type": "code",
   "execution_count": 38,
   "metadata": {},
   "outputs": [],
   "source": [
    "# Initialize the list for sunburst plot\n",
    "labels = [\"NeuroVault\"]\n",
    "parents = [\"\"]\n",
    "values = [statisticmap_merged_red.shape[0]]\n",
    "statisticmap_with_filled = statisticmap_merged_red.copy()\n",
    "statisticmap_with_filled[\"modality\"] = statisticmap_with_filled[\"modality\"].fillna(\"Missing\")\n",
    "statisticmap_with_filled[\"map_type\"] = statisticmap_with_filled[\"map_type\"].replace(\n",
    "    {\"Other\": \"Others\"}\n",
    ")\n",
    "modalities = statisticmap_with_filled.modality.unique()\n",
    "for modality in modalities:\n",
    "    labels.append(modality)\n",
    "    parents.append(\"NeuroVault\")\n",
    "    values.append(statisticmap_with_filled[statisticmap_with_filled.modality == modality].shape[0])\n",
    "    if modality == \"fMRI-BOLD\":\n",
    "        map_types = statisticmap_with_filled.map_type.unique()\n",
    "        for map_type in map_types:\n",
    "            labels.append(map_type)\n",
    "            parents.append(modality)\n",
    "            values.append(\n",
    "                statisticmap_with_filled.query(\n",
    "                    f'modality == \"fMRI-BOLD\" & map_type == \"{map_type}\"'\n",
    "                ).shape[0]\n",
    "            )"
   ]
  },
  {
   "cell_type": "code",
   "execution_count": 39,
   "metadata": {},
   "outputs": [
    {
     "data": {
      "application/vnd.plotly.v1+json": {
       "config": {
        "plotlyServerURL": "https://plot.ly"
       },
       "data": [
        {
         "branchvalues": "total",
         "labels": [
          "NeuroVault",
          "fMRI-BOLD",
          "Z",
          "U",
          "R",
          "Others",
          "T",
          "M",
          "Pa",
          "P",
          "F",
          "A",
          "X2",
          null,
          "V",
          "IP",
          "Missing",
          "Structural MRI",
          "MEG",
          "Other",
          "Diffusion MRI",
          "PET other",
          "PET FDG",
          "EEG",
          "fMRI-CBF",
          "fMRI-CBV"
         ],
         "parents": [
          "",
          "NeuroVault",
          "fMRI-BOLD",
          "fMRI-BOLD",
          "fMRI-BOLD",
          "fMRI-BOLD",
          "fMRI-BOLD",
          "fMRI-BOLD",
          "fMRI-BOLD",
          "fMRI-BOLD",
          "fMRI-BOLD",
          "fMRI-BOLD",
          "fMRI-BOLD",
          "fMRI-BOLD",
          "fMRI-BOLD",
          "fMRI-BOLD",
          "NeuroVault",
          "NeuroVault",
          "NeuroVault",
          "NeuroVault",
          "NeuroVault",
          "NeuroVault",
          "NeuroVault",
          "NeuroVault",
          "NeuroVault",
          "NeuroVault"
         ],
         "type": "sunburst",
         "values": [
          269934,
          196732,
          95674,
          13939,
          5432,
          22048,
          57071,
          383,
          375,
          591,
          571,
          176,
          26,
          0,
          63,
          383,
          60502,
          4565,
          260,
          5480,
          1465,
          475,
          141,
          40,
          253,
          21
         ]
        }
       ],
       "layout": {
        "margin": {
         "b": 0,
         "l": 0,
         "r": 0,
         "t": 0
        },
        "template": {
         "data": {
          "bar": [
           {
            "error_x": {
             "color": "#2a3f5f"
            },
            "error_y": {
             "color": "#2a3f5f"
            },
            "marker": {
             "line": {
              "color": "#E5ECF6",
              "width": 0.5
             },
             "pattern": {
              "fillmode": "overlay",
              "size": 10,
              "solidity": 0.2
             }
            },
            "type": "bar"
           }
          ],
          "barpolar": [
           {
            "marker": {
             "line": {
              "color": "#E5ECF6",
              "width": 0.5
             },
             "pattern": {
              "fillmode": "overlay",
              "size": 10,
              "solidity": 0.2
             }
            },
            "type": "barpolar"
           }
          ],
          "carpet": [
           {
            "aaxis": {
             "endlinecolor": "#2a3f5f",
             "gridcolor": "white",
             "linecolor": "white",
             "minorgridcolor": "white",
             "startlinecolor": "#2a3f5f"
            },
            "baxis": {
             "endlinecolor": "#2a3f5f",
             "gridcolor": "white",
             "linecolor": "white",
             "minorgridcolor": "white",
             "startlinecolor": "#2a3f5f"
            },
            "type": "carpet"
           }
          ],
          "choropleth": [
           {
            "colorbar": {
             "outlinewidth": 0,
             "ticks": ""
            },
            "type": "choropleth"
           }
          ],
          "contour": [
           {
            "colorbar": {
             "outlinewidth": 0,
             "ticks": ""
            },
            "colorscale": [
             [
              0,
              "#0d0887"
             ],
             [
              0.1111111111111111,
              "#46039f"
             ],
             [
              0.2222222222222222,
              "#7201a8"
             ],
             [
              0.3333333333333333,
              "#9c179e"
             ],
             [
              0.4444444444444444,
              "#bd3786"
             ],
             [
              0.5555555555555556,
              "#d8576b"
             ],
             [
              0.6666666666666666,
              "#ed7953"
             ],
             [
              0.7777777777777778,
              "#fb9f3a"
             ],
             [
              0.8888888888888888,
              "#fdca26"
             ],
             [
              1,
              "#f0f921"
             ]
            ],
            "type": "contour"
           }
          ],
          "contourcarpet": [
           {
            "colorbar": {
             "outlinewidth": 0,
             "ticks": ""
            },
            "type": "contourcarpet"
           }
          ],
          "heatmap": [
           {
            "colorbar": {
             "outlinewidth": 0,
             "ticks": ""
            },
            "colorscale": [
             [
              0,
              "#0d0887"
             ],
             [
              0.1111111111111111,
              "#46039f"
             ],
             [
              0.2222222222222222,
              "#7201a8"
             ],
             [
              0.3333333333333333,
              "#9c179e"
             ],
             [
              0.4444444444444444,
              "#bd3786"
             ],
             [
              0.5555555555555556,
              "#d8576b"
             ],
             [
              0.6666666666666666,
              "#ed7953"
             ],
             [
              0.7777777777777778,
              "#fb9f3a"
             ],
             [
              0.8888888888888888,
              "#fdca26"
             ],
             [
              1,
              "#f0f921"
             ]
            ],
            "type": "heatmap"
           }
          ],
          "heatmapgl": [
           {
            "colorbar": {
             "outlinewidth": 0,
             "ticks": ""
            },
            "colorscale": [
             [
              0,
              "#0d0887"
             ],
             [
              0.1111111111111111,
              "#46039f"
             ],
             [
              0.2222222222222222,
              "#7201a8"
             ],
             [
              0.3333333333333333,
              "#9c179e"
             ],
             [
              0.4444444444444444,
              "#bd3786"
             ],
             [
              0.5555555555555556,
              "#d8576b"
             ],
             [
              0.6666666666666666,
              "#ed7953"
             ],
             [
              0.7777777777777778,
              "#fb9f3a"
             ],
             [
              0.8888888888888888,
              "#fdca26"
             ],
             [
              1,
              "#f0f921"
             ]
            ],
            "type": "heatmapgl"
           }
          ],
          "histogram": [
           {
            "marker": {
             "pattern": {
              "fillmode": "overlay",
              "size": 10,
              "solidity": 0.2
             }
            },
            "type": "histogram"
           }
          ],
          "histogram2d": [
           {
            "colorbar": {
             "outlinewidth": 0,
             "ticks": ""
            },
            "colorscale": [
             [
              0,
              "#0d0887"
             ],
             [
              0.1111111111111111,
              "#46039f"
             ],
             [
              0.2222222222222222,
              "#7201a8"
             ],
             [
              0.3333333333333333,
              "#9c179e"
             ],
             [
              0.4444444444444444,
              "#bd3786"
             ],
             [
              0.5555555555555556,
              "#d8576b"
             ],
             [
              0.6666666666666666,
              "#ed7953"
             ],
             [
              0.7777777777777778,
              "#fb9f3a"
             ],
             [
              0.8888888888888888,
              "#fdca26"
             ],
             [
              1,
              "#f0f921"
             ]
            ],
            "type": "histogram2d"
           }
          ],
          "histogram2dcontour": [
           {
            "colorbar": {
             "outlinewidth": 0,
             "ticks": ""
            },
            "colorscale": [
             [
              0,
              "#0d0887"
             ],
             [
              0.1111111111111111,
              "#46039f"
             ],
             [
              0.2222222222222222,
              "#7201a8"
             ],
             [
              0.3333333333333333,
              "#9c179e"
             ],
             [
              0.4444444444444444,
              "#bd3786"
             ],
             [
              0.5555555555555556,
              "#d8576b"
             ],
             [
              0.6666666666666666,
              "#ed7953"
             ],
             [
              0.7777777777777778,
              "#fb9f3a"
             ],
             [
              0.8888888888888888,
              "#fdca26"
             ],
             [
              1,
              "#f0f921"
             ]
            ],
            "type": "histogram2dcontour"
           }
          ],
          "mesh3d": [
           {
            "colorbar": {
             "outlinewidth": 0,
             "ticks": ""
            },
            "type": "mesh3d"
           }
          ],
          "parcoords": [
           {
            "line": {
             "colorbar": {
              "outlinewidth": 0,
              "ticks": ""
             }
            },
            "type": "parcoords"
           }
          ],
          "pie": [
           {
            "automargin": true,
            "type": "pie"
           }
          ],
          "scatter": [
           {
            "fillpattern": {
             "fillmode": "overlay",
             "size": 10,
             "solidity": 0.2
            },
            "type": "scatter"
           }
          ],
          "scatter3d": [
           {
            "line": {
             "colorbar": {
              "outlinewidth": 0,
              "ticks": ""
             }
            },
            "marker": {
             "colorbar": {
              "outlinewidth": 0,
              "ticks": ""
             }
            },
            "type": "scatter3d"
           }
          ],
          "scattercarpet": [
           {
            "marker": {
             "colorbar": {
              "outlinewidth": 0,
              "ticks": ""
             }
            },
            "type": "scattercarpet"
           }
          ],
          "scattergeo": [
           {
            "marker": {
             "colorbar": {
              "outlinewidth": 0,
              "ticks": ""
             }
            },
            "type": "scattergeo"
           }
          ],
          "scattergl": [
           {
            "marker": {
             "colorbar": {
              "outlinewidth": 0,
              "ticks": ""
             }
            },
            "type": "scattergl"
           }
          ],
          "scattermapbox": [
           {
            "marker": {
             "colorbar": {
              "outlinewidth": 0,
              "ticks": ""
             }
            },
            "type": "scattermapbox"
           }
          ],
          "scatterpolar": [
           {
            "marker": {
             "colorbar": {
              "outlinewidth": 0,
              "ticks": ""
             }
            },
            "type": "scatterpolar"
           }
          ],
          "scatterpolargl": [
           {
            "marker": {
             "colorbar": {
              "outlinewidth": 0,
              "ticks": ""
             }
            },
            "type": "scatterpolargl"
           }
          ],
          "scatterternary": [
           {
            "marker": {
             "colorbar": {
              "outlinewidth": 0,
              "ticks": ""
             }
            },
            "type": "scatterternary"
           }
          ],
          "surface": [
           {
            "colorbar": {
             "outlinewidth": 0,
             "ticks": ""
            },
            "colorscale": [
             [
              0,
              "#0d0887"
             ],
             [
              0.1111111111111111,
              "#46039f"
             ],
             [
              0.2222222222222222,
              "#7201a8"
             ],
             [
              0.3333333333333333,
              "#9c179e"
             ],
             [
              0.4444444444444444,
              "#bd3786"
             ],
             [
              0.5555555555555556,
              "#d8576b"
             ],
             [
              0.6666666666666666,
              "#ed7953"
             ],
             [
              0.7777777777777778,
              "#fb9f3a"
             ],
             [
              0.8888888888888888,
              "#fdca26"
             ],
             [
              1,
              "#f0f921"
             ]
            ],
            "type": "surface"
           }
          ],
          "table": [
           {
            "cells": {
             "fill": {
              "color": "#EBF0F8"
             },
             "line": {
              "color": "white"
             }
            },
            "header": {
             "fill": {
              "color": "#C8D4E3"
             },
             "line": {
              "color": "white"
             }
            },
            "type": "table"
           }
          ]
         },
         "layout": {
          "annotationdefaults": {
           "arrowcolor": "#2a3f5f",
           "arrowhead": 0,
           "arrowwidth": 1
          },
          "autotypenumbers": "strict",
          "coloraxis": {
           "colorbar": {
            "outlinewidth": 0,
            "ticks": ""
           }
          },
          "colorscale": {
           "diverging": [
            [
             0,
             "#8e0152"
            ],
            [
             0.1,
             "#c51b7d"
            ],
            [
             0.2,
             "#de77ae"
            ],
            [
             0.3,
             "#f1b6da"
            ],
            [
             0.4,
             "#fde0ef"
            ],
            [
             0.5,
             "#f7f7f7"
            ],
            [
             0.6,
             "#e6f5d0"
            ],
            [
             0.7,
             "#b8e186"
            ],
            [
             0.8,
             "#7fbc41"
            ],
            [
             0.9,
             "#4d9221"
            ],
            [
             1,
             "#276419"
            ]
           ],
           "sequential": [
            [
             0,
             "#0d0887"
            ],
            [
             0.1111111111111111,
             "#46039f"
            ],
            [
             0.2222222222222222,
             "#7201a8"
            ],
            [
             0.3333333333333333,
             "#9c179e"
            ],
            [
             0.4444444444444444,
             "#bd3786"
            ],
            [
             0.5555555555555556,
             "#d8576b"
            ],
            [
             0.6666666666666666,
             "#ed7953"
            ],
            [
             0.7777777777777778,
             "#fb9f3a"
            ],
            [
             0.8888888888888888,
             "#fdca26"
            ],
            [
             1,
             "#f0f921"
            ]
           ],
           "sequentialminus": [
            [
             0,
             "#0d0887"
            ],
            [
             0.1111111111111111,
             "#46039f"
            ],
            [
             0.2222222222222222,
             "#7201a8"
            ],
            [
             0.3333333333333333,
             "#9c179e"
            ],
            [
             0.4444444444444444,
             "#bd3786"
            ],
            [
             0.5555555555555556,
             "#d8576b"
            ],
            [
             0.6666666666666666,
             "#ed7953"
            ],
            [
             0.7777777777777778,
             "#fb9f3a"
            ],
            [
             0.8888888888888888,
             "#fdca26"
            ],
            [
             1,
             "#f0f921"
            ]
           ]
          },
          "colorway": [
           "#636efa",
           "#EF553B",
           "#00cc96",
           "#ab63fa",
           "#FFA15A",
           "#19d3f3",
           "#FF6692",
           "#B6E880",
           "#FF97FF",
           "#FECB52"
          ],
          "font": {
           "color": "#2a3f5f"
          },
          "geo": {
           "bgcolor": "white",
           "lakecolor": "white",
           "landcolor": "#E5ECF6",
           "showlakes": true,
           "showland": true,
           "subunitcolor": "white"
          },
          "hoverlabel": {
           "align": "left"
          },
          "hovermode": "closest",
          "mapbox": {
           "style": "light"
          },
          "paper_bgcolor": "white",
          "plot_bgcolor": "#E5ECF6",
          "polar": {
           "angularaxis": {
            "gridcolor": "white",
            "linecolor": "white",
            "ticks": ""
           },
           "bgcolor": "#E5ECF6",
           "radialaxis": {
            "gridcolor": "white",
            "linecolor": "white",
            "ticks": ""
           }
          },
          "scene": {
           "xaxis": {
            "backgroundcolor": "#E5ECF6",
            "gridcolor": "white",
            "gridwidth": 2,
            "linecolor": "white",
            "showbackground": true,
            "ticks": "",
            "zerolinecolor": "white"
           },
           "yaxis": {
            "backgroundcolor": "#E5ECF6",
            "gridcolor": "white",
            "gridwidth": 2,
            "linecolor": "white",
            "showbackground": true,
            "ticks": "",
            "zerolinecolor": "white"
           },
           "zaxis": {
            "backgroundcolor": "#E5ECF6",
            "gridcolor": "white",
            "gridwidth": 2,
            "linecolor": "white",
            "showbackground": true,
            "ticks": "",
            "zerolinecolor": "white"
           }
          },
          "shapedefaults": {
           "line": {
            "color": "#2a3f5f"
           }
          },
          "ternary": {
           "aaxis": {
            "gridcolor": "white",
            "linecolor": "white",
            "ticks": ""
           },
           "baxis": {
            "gridcolor": "white",
            "linecolor": "white",
            "ticks": ""
           },
           "bgcolor": "#E5ECF6",
           "caxis": {
            "gridcolor": "white",
            "linecolor": "white",
            "ticks": ""
           }
          },
          "title": {
           "x": 0.05
          },
          "xaxis": {
           "automargin": true,
           "gridcolor": "white",
           "linecolor": "white",
           "ticks": "",
           "title": {
            "standoff": 15
           },
           "zerolinecolor": "white",
           "zerolinewidth": 2
          },
          "yaxis": {
           "automargin": true,
           "gridcolor": "white",
           "linecolor": "white",
           "ticks": "",
           "title": {
            "standoff": 15
           },
           "zerolinecolor": "white",
           "zerolinewidth": 2
          }
         }
        }
       }
      }
     },
     "metadata": {},
     "output_type": "display_data"
    }
   ],
   "source": [
    "import plotly.graph_objects as go\n",
    "\n",
    "fig = go.Figure(\n",
    "    go.Sunburst(\n",
    "        labels=labels,\n",
    "        parents=parents,\n",
    "        values=values,\n",
    "        branchvalues=\"total\",\n",
    "    )\n",
    ")\n",
    "fig.update_layout(margin=dict(t=0, l=0, r=0, b=0))\n",
    "fig.write_html(op.join(fig_dir, \"10_images_sunburst.html\"), full_html=True, include_plotlyjs=True)\n",
    "fig.show()"
   ]
  },
  {
   "cell_type": "markdown",
   "metadata": {},
   "source": [
    "# Collections with linked to PubMed\n"
   ]
  },
  {
   "cell_type": "code",
   "execution_count": 69,
   "metadata": {},
   "outputs": [],
   "source": [
    "coll_per_source = collections_pmid_df.groupby(\"source\").size().sort_values(ascending=False)\n",
    "coll_per_source = pd.DataFrame(coll_per_source)\n",
    "coll_per_source = coll_per_source.rename(columns={coll_per_source.columns[0]: \"count\"})\n",
    "coll_per_source = coll_per_source.reset_index()\n",
    "new_row = pd.DataFrame(\n",
    "    {\"source\": [\"PMIDs Missing\"], \"count\": [len(collections) - len(collections_pmid_df)]}\n",
    ")\n",
    "coll_per_source = pd.merge(coll_per_source, new_row, how=\"outer\")"
   ]
  },
  {
   "cell_type": "code",
   "execution_count": 70,
   "metadata": {},
   "outputs": [],
   "source": [
    "mapping = {\n",
    "    \"neurovault\": \"DOI in NV\",\n",
    "    \"pubmed\": \"Title matching PubMed\",\n",
    "    \"pubget\": \"Pubget search\",\n",
    "    \"metadata\": \"DOI in description\",\n",
    "    \"neurosynth\": \"Neurosynth Scraping\",\n",
    "}\n",
    "coll_per_source[\"source\"] = coll_per_source[\"source\"].replace(mapping)"
   ]
  },
  {
   "cell_type": "code",
   "execution_count": 79,
   "metadata": {},
   "outputs": [
    {
     "data": {
      "application/vnd.plotly.v1+json": {
       "config": {
        "plotlyServerURL": "https://plot.ly"
       },
       "data": [
        {
         "domain": {
          "x": [
           0,
           1
          ],
          "y": [
           0,
           1
          ]
         },
         "hovertemplate": "source=%{label}<br>count=%{value}<extra></extra>",
         "labels": [
          "DOI in NV",
          "Title matching PubMed",
          "Pubget search",
          "DOI in description",
          "Neurosynth Scraping",
          "PMIDs Missing"
         ],
         "legendgroup": "",
         "name": "",
         "showlegend": true,
         "textinfo": "value",
         "type": "pie",
         "values": [
          896,
          338,
          194,
          27,
          26,
          4400
         ]
        }
       ],
       "layout": {
        "autosize": true,
        "height": 300,
        "legend": {
         "tracegroupgap": 0,
         "x": 1,
         "xanchor": "left",
         "y": 0.5,
         "yanchor": "middle"
        },
        "margin": {
         "b": 0,
         "l": 50,
         "r": 0,
         "t": 0
        },
        "piecolorway": [
         "rgb(103,0,31)",
         "rgb(178,24,43)",
         "rgb(214,96,77)",
         "rgb(244,165,130)",
         "rgb(253,219,199)",
         "rgb(247,247,247)",
         "rgb(209,229,240)",
         "rgb(146,197,222)",
         "rgb(67,147,195)",
         "rgb(33,102,172)",
         "rgb(5,48,97)"
        ],
        "template": {
         "data": {
          "bar": [
           {
            "error_x": {
             "color": "#2a3f5f"
            },
            "error_y": {
             "color": "#2a3f5f"
            },
            "marker": {
             "line": {
              "color": "#E5ECF6",
              "width": 0.5
             },
             "pattern": {
              "fillmode": "overlay",
              "size": 10,
              "solidity": 0.2
             }
            },
            "type": "bar"
           }
          ],
          "barpolar": [
           {
            "marker": {
             "line": {
              "color": "#E5ECF6",
              "width": 0.5
             },
             "pattern": {
              "fillmode": "overlay",
              "size": 10,
              "solidity": 0.2
             }
            },
            "type": "barpolar"
           }
          ],
          "carpet": [
           {
            "aaxis": {
             "endlinecolor": "#2a3f5f",
             "gridcolor": "white",
             "linecolor": "white",
             "minorgridcolor": "white",
             "startlinecolor": "#2a3f5f"
            },
            "baxis": {
             "endlinecolor": "#2a3f5f",
             "gridcolor": "white",
             "linecolor": "white",
             "minorgridcolor": "white",
             "startlinecolor": "#2a3f5f"
            },
            "type": "carpet"
           }
          ],
          "choropleth": [
           {
            "colorbar": {
             "outlinewidth": 0,
             "ticks": ""
            },
            "type": "choropleth"
           }
          ],
          "contour": [
           {
            "colorbar": {
             "outlinewidth": 0,
             "ticks": ""
            },
            "colorscale": [
             [
              0,
              "#0d0887"
             ],
             [
              0.1111111111111111,
              "#46039f"
             ],
             [
              0.2222222222222222,
              "#7201a8"
             ],
             [
              0.3333333333333333,
              "#9c179e"
             ],
             [
              0.4444444444444444,
              "#bd3786"
             ],
             [
              0.5555555555555556,
              "#d8576b"
             ],
             [
              0.6666666666666666,
              "#ed7953"
             ],
             [
              0.7777777777777778,
              "#fb9f3a"
             ],
             [
              0.8888888888888888,
              "#fdca26"
             ],
             [
              1,
              "#f0f921"
             ]
            ],
            "type": "contour"
           }
          ],
          "contourcarpet": [
           {
            "colorbar": {
             "outlinewidth": 0,
             "ticks": ""
            },
            "type": "contourcarpet"
           }
          ],
          "heatmap": [
           {
            "colorbar": {
             "outlinewidth": 0,
             "ticks": ""
            },
            "colorscale": [
             [
              0,
              "#0d0887"
             ],
             [
              0.1111111111111111,
              "#46039f"
             ],
             [
              0.2222222222222222,
              "#7201a8"
             ],
             [
              0.3333333333333333,
              "#9c179e"
             ],
             [
              0.4444444444444444,
              "#bd3786"
             ],
             [
              0.5555555555555556,
              "#d8576b"
             ],
             [
              0.6666666666666666,
              "#ed7953"
             ],
             [
              0.7777777777777778,
              "#fb9f3a"
             ],
             [
              0.8888888888888888,
              "#fdca26"
             ],
             [
              1,
              "#f0f921"
             ]
            ],
            "type": "heatmap"
           }
          ],
          "heatmapgl": [
           {
            "colorbar": {
             "outlinewidth": 0,
             "ticks": ""
            },
            "colorscale": [
             [
              0,
              "#0d0887"
             ],
             [
              0.1111111111111111,
              "#46039f"
             ],
             [
              0.2222222222222222,
              "#7201a8"
             ],
             [
              0.3333333333333333,
              "#9c179e"
             ],
             [
              0.4444444444444444,
              "#bd3786"
             ],
             [
              0.5555555555555556,
              "#d8576b"
             ],
             [
              0.6666666666666666,
              "#ed7953"
             ],
             [
              0.7777777777777778,
              "#fb9f3a"
             ],
             [
              0.8888888888888888,
              "#fdca26"
             ],
             [
              1,
              "#f0f921"
             ]
            ],
            "type": "heatmapgl"
           }
          ],
          "histogram": [
           {
            "marker": {
             "pattern": {
              "fillmode": "overlay",
              "size": 10,
              "solidity": 0.2
             }
            },
            "type": "histogram"
           }
          ],
          "histogram2d": [
           {
            "colorbar": {
             "outlinewidth": 0,
             "ticks": ""
            },
            "colorscale": [
             [
              0,
              "#0d0887"
             ],
             [
              0.1111111111111111,
              "#46039f"
             ],
             [
              0.2222222222222222,
              "#7201a8"
             ],
             [
              0.3333333333333333,
              "#9c179e"
             ],
             [
              0.4444444444444444,
              "#bd3786"
             ],
             [
              0.5555555555555556,
              "#d8576b"
             ],
             [
              0.6666666666666666,
              "#ed7953"
             ],
             [
              0.7777777777777778,
              "#fb9f3a"
             ],
             [
              0.8888888888888888,
              "#fdca26"
             ],
             [
              1,
              "#f0f921"
             ]
            ],
            "type": "histogram2d"
           }
          ],
          "histogram2dcontour": [
           {
            "colorbar": {
             "outlinewidth": 0,
             "ticks": ""
            },
            "colorscale": [
             [
              0,
              "#0d0887"
             ],
             [
              0.1111111111111111,
              "#46039f"
             ],
             [
              0.2222222222222222,
              "#7201a8"
             ],
             [
              0.3333333333333333,
              "#9c179e"
             ],
             [
              0.4444444444444444,
              "#bd3786"
             ],
             [
              0.5555555555555556,
              "#d8576b"
             ],
             [
              0.6666666666666666,
              "#ed7953"
             ],
             [
              0.7777777777777778,
              "#fb9f3a"
             ],
             [
              0.8888888888888888,
              "#fdca26"
             ],
             [
              1,
              "#f0f921"
             ]
            ],
            "type": "histogram2dcontour"
           }
          ],
          "mesh3d": [
           {
            "colorbar": {
             "outlinewidth": 0,
             "ticks": ""
            },
            "type": "mesh3d"
           }
          ],
          "parcoords": [
           {
            "line": {
             "colorbar": {
              "outlinewidth": 0,
              "ticks": ""
             }
            },
            "type": "parcoords"
           }
          ],
          "pie": [
           {
            "automargin": true,
            "type": "pie"
           }
          ],
          "scatter": [
           {
            "fillpattern": {
             "fillmode": "overlay",
             "size": 10,
             "solidity": 0.2
            },
            "type": "scatter"
           }
          ],
          "scatter3d": [
           {
            "line": {
             "colorbar": {
              "outlinewidth": 0,
              "ticks": ""
             }
            },
            "marker": {
             "colorbar": {
              "outlinewidth": 0,
              "ticks": ""
             }
            },
            "type": "scatter3d"
           }
          ],
          "scattercarpet": [
           {
            "marker": {
             "colorbar": {
              "outlinewidth": 0,
              "ticks": ""
             }
            },
            "type": "scattercarpet"
           }
          ],
          "scattergeo": [
           {
            "marker": {
             "colorbar": {
              "outlinewidth": 0,
              "ticks": ""
             }
            },
            "type": "scattergeo"
           }
          ],
          "scattergl": [
           {
            "marker": {
             "colorbar": {
              "outlinewidth": 0,
              "ticks": ""
             }
            },
            "type": "scattergl"
           }
          ],
          "scattermapbox": [
           {
            "marker": {
             "colorbar": {
              "outlinewidth": 0,
              "ticks": ""
             }
            },
            "type": "scattermapbox"
           }
          ],
          "scatterpolar": [
           {
            "marker": {
             "colorbar": {
              "outlinewidth": 0,
              "ticks": ""
             }
            },
            "type": "scatterpolar"
           }
          ],
          "scatterpolargl": [
           {
            "marker": {
             "colorbar": {
              "outlinewidth": 0,
              "ticks": ""
             }
            },
            "type": "scatterpolargl"
           }
          ],
          "scatterternary": [
           {
            "marker": {
             "colorbar": {
              "outlinewidth": 0,
              "ticks": ""
             }
            },
            "type": "scatterternary"
           }
          ],
          "surface": [
           {
            "colorbar": {
             "outlinewidth": 0,
             "ticks": ""
            },
            "colorscale": [
             [
              0,
              "#0d0887"
             ],
             [
              0.1111111111111111,
              "#46039f"
             ],
             [
              0.2222222222222222,
              "#7201a8"
             ],
             [
              0.3333333333333333,
              "#9c179e"
             ],
             [
              0.4444444444444444,
              "#bd3786"
             ],
             [
              0.5555555555555556,
              "#d8576b"
             ],
             [
              0.6666666666666666,
              "#ed7953"
             ],
             [
              0.7777777777777778,
              "#fb9f3a"
             ],
             [
              0.8888888888888888,
              "#fdca26"
             ],
             [
              1,
              "#f0f921"
             ]
            ],
            "type": "surface"
           }
          ],
          "table": [
           {
            "cells": {
             "fill": {
              "color": "#EBF0F8"
             },
             "line": {
              "color": "white"
             }
            },
            "header": {
             "fill": {
              "color": "#C8D4E3"
             },
             "line": {
              "color": "white"
             }
            },
            "type": "table"
           }
          ]
         },
         "layout": {
          "annotationdefaults": {
           "arrowcolor": "#2a3f5f",
           "arrowhead": 0,
           "arrowwidth": 1
          },
          "autotypenumbers": "strict",
          "coloraxis": {
           "colorbar": {
            "outlinewidth": 0,
            "ticks": ""
           }
          },
          "colorscale": {
           "diverging": [
            [
             0,
             "#8e0152"
            ],
            [
             0.1,
             "#c51b7d"
            ],
            [
             0.2,
             "#de77ae"
            ],
            [
             0.3,
             "#f1b6da"
            ],
            [
             0.4,
             "#fde0ef"
            ],
            [
             0.5,
             "#f7f7f7"
            ],
            [
             0.6,
             "#e6f5d0"
            ],
            [
             0.7,
             "#b8e186"
            ],
            [
             0.8,
             "#7fbc41"
            ],
            [
             0.9,
             "#4d9221"
            ],
            [
             1,
             "#276419"
            ]
           ],
           "sequential": [
            [
             0,
             "#0d0887"
            ],
            [
             0.1111111111111111,
             "#46039f"
            ],
            [
             0.2222222222222222,
             "#7201a8"
            ],
            [
             0.3333333333333333,
             "#9c179e"
            ],
            [
             0.4444444444444444,
             "#bd3786"
            ],
            [
             0.5555555555555556,
             "#d8576b"
            ],
            [
             0.6666666666666666,
             "#ed7953"
            ],
            [
             0.7777777777777778,
             "#fb9f3a"
            ],
            [
             0.8888888888888888,
             "#fdca26"
            ],
            [
             1,
             "#f0f921"
            ]
           ],
           "sequentialminus": [
            [
             0,
             "#0d0887"
            ],
            [
             0.1111111111111111,
             "#46039f"
            ],
            [
             0.2222222222222222,
             "#7201a8"
            ],
            [
             0.3333333333333333,
             "#9c179e"
            ],
            [
             0.4444444444444444,
             "#bd3786"
            ],
            [
             0.5555555555555556,
             "#d8576b"
            ],
            [
             0.6666666666666666,
             "#ed7953"
            ],
            [
             0.7777777777777778,
             "#fb9f3a"
            ],
            [
             0.8888888888888888,
             "#fdca26"
            ],
            [
             1,
             "#f0f921"
            ]
           ]
          },
          "colorway": [
           "#636efa",
           "#EF553B",
           "#00cc96",
           "#ab63fa",
           "#FFA15A",
           "#19d3f3",
           "#FF6692",
           "#B6E880",
           "#FF97FF",
           "#FECB52"
          ],
          "font": {
           "color": "#2a3f5f"
          },
          "geo": {
           "bgcolor": "white",
           "lakecolor": "white",
           "landcolor": "#E5ECF6",
           "showlakes": true,
           "showland": true,
           "subunitcolor": "white"
          },
          "hoverlabel": {
           "align": "left"
          },
          "hovermode": "closest",
          "mapbox": {
           "style": "light"
          },
          "paper_bgcolor": "white",
          "plot_bgcolor": "#E5ECF6",
          "polar": {
           "angularaxis": {
            "gridcolor": "white",
            "linecolor": "white",
            "ticks": ""
           },
           "bgcolor": "#E5ECF6",
           "radialaxis": {
            "gridcolor": "white",
            "linecolor": "white",
            "ticks": ""
           }
          },
          "scene": {
           "xaxis": {
            "backgroundcolor": "#E5ECF6",
            "gridcolor": "white",
            "gridwidth": 2,
            "linecolor": "white",
            "showbackground": true,
            "ticks": "",
            "zerolinecolor": "white"
           },
           "yaxis": {
            "backgroundcolor": "#E5ECF6",
            "gridcolor": "white",
            "gridwidth": 2,
            "linecolor": "white",
            "showbackground": true,
            "ticks": "",
            "zerolinecolor": "white"
           },
           "zaxis": {
            "backgroundcolor": "#E5ECF6",
            "gridcolor": "white",
            "gridwidth": 2,
            "linecolor": "white",
            "showbackground": true,
            "ticks": "",
            "zerolinecolor": "white"
           }
          },
          "shapedefaults": {
           "line": {
            "color": "#2a3f5f"
           }
          },
          "ternary": {
           "aaxis": {
            "gridcolor": "white",
            "linecolor": "white",
            "ticks": ""
           },
           "baxis": {
            "gridcolor": "white",
            "linecolor": "white",
            "ticks": ""
           },
           "bgcolor": "#E5ECF6",
           "caxis": {
            "gridcolor": "white",
            "linecolor": "white",
            "ticks": ""
           }
          },
          "title": {
           "x": 0.05
          },
          "xaxis": {
           "automargin": true,
           "gridcolor": "white",
           "linecolor": "white",
           "ticks": "",
           "title": {
            "standoff": 15
           },
           "zerolinecolor": "white",
           "zerolinewidth": 2
          },
          "yaxis": {
           "automargin": true,
           "gridcolor": "white",
           "linecolor": "white",
           "ticks": "",
           "title": {
            "standoff": 15
           },
           "zerolinecolor": "white",
           "zerolinewidth": 2
          }
         }
        },
        "width": 450
       }
      }
     },
     "metadata": {},
     "output_type": "display_data"
    }
   ],
   "source": [
    "fig = px.pie(\n",
    "    coll_per_source,\n",
    "    values=\"count\",\n",
    "    names=\"source\",\n",
    "    color_discrete_sequence=px.colors.sequential.RdBu,\n",
    ")\n",
    "fig.update_traces(textinfo=\"value\")\n",
    "fig.update_layout(\n",
    "    legend=dict(xanchor='left', yanchor='middle', y=0.5, x=1),\n",
    "    margin=dict(l=50, r=0, t=0, b=0),\n",
    "    height=1 * DPI,\n",
    "    width=1.5 * DPI,\n",
    "    autosize=True,\n",
    ")\n",
    "fig.write_html(op.join(fig_dir, \"11_collections_pmid.html\"), full_html=True, include_plotlyjs=True)\n",
    "fig.write_image(op.join(fig_dir, \"11_collections_pmid.png\"), scale=6)\n",
    "fig.show()"
   ]
  },
  {
   "cell_type": "markdown",
   "metadata": {},
   "source": [
    "### Cognitive atlas task representation\n"
   ]
  },
  {
   "cell_type": "code",
   "execution_count": 45,
   "metadata": {},
   "outputs": [
    {
     "data": {
      "image/png": "[encoded data removed]",
      "text/plain": [
       "<Figure size 800x300 with 1 Axes>"
      ]
     },
     "metadata": {},
     "output_type": "display_data"
    }
   ],
   "source": [
    "width, height = 8, 3\n",
    "fig, ax = plt.subplots(figsize=(width, height))\n",
    "\n",
    "frequencies_dict = dict(\n",
    "    statisticmap_colelctions.groupby(\"cognitive_paradigm_cogatlas_name\").size()\n",
    ")\n",
    "\n",
    "wc = WordCloud(\n",
    "    width=width * DPI,\n",
    "    height=height * DPI,\n",
    "    background_color=\"white\",\n",
    "    random_state=0,\n",
    "    colormap=\"Reds\",\n",
    ")\n",
    "wc.generate_from_frequencies(frequencies=frequencies_dict)\n",
    "ax.imshow(wc)\n",
    "\n",
    "ax.get_xaxis().set_ticks([])\n",
    "ax.get_yaxis().set_ticks([])\n",
    "for spine in ax.spines.values():\n",
    "    spine.set_visible(False)\n",
    "\n",
    "\n",
    "fig.savefig(op.join(fig_dir, \"12_cogat_count_pubmed.png\"), bbox_inches=\"tight\", dpi=DPI)\n",
    "plt.show()"
   ]
  },
  {
   "cell_type": "markdown",
   "metadata": {},
   "source": [
    "### NeuroVault reuse\n"
   ]
  },
  {
   "cell_type": "code",
   "execution_count": 101,
   "metadata": {},
   "outputs": [
    {
     "data": {
      "text/html": [
       "<div>\n",
       "<style scoped>\n",
       "    .dataframe tbody tr th:only-of-type {\n",
       "        vertical-align: middle;\n",
       "    }\n",
       "\n",
       "    .dataframe tbody tr th {\n",
       "        vertical-align: top;\n",
       "    }\n",
       "\n",
       "    .dataframe thead th {\n",
       "        text-align: right;\n",
       "    }\n",
       "</style>\n",
       "<table border=\"1\" class=\"dataframe\">\n",
       "  <thead>\n",
       "    <tr style=\"text-align: right;\">\n",
       "      <th></th>\n",
       "      <th>pmid</th>\n",
       "      <th>pmcid</th>\n",
       "      <th>secondary_doi</th>\n",
       "      <th>collection_id</th>\n",
       "    </tr>\n",
       "  </thead>\n",
       "  <tbody>\n",
       "    <tr>\n",
       "      <th>0</th>\n",
       "      <td>31772347</td>\n",
       "      <td>6879500</td>\n",
       "      <td>10.1038/s41598-019-53985-7</td>\n",
       "      <td>4501.0</td>\n",
       "    </tr>\n",
       "    <tr>\n",
       "      <th>1</th>\n",
       "      <td>26322322</td>\n",
       "      <td>4543077</td>\n",
       "      <td>10.1016/j.dib.2015.07.028</td>\n",
       "      <td>550.0</td>\n",
       "    </tr>\n",
       "    <tr>\n",
       "      <th>2</th>\n",
       "      <td>36952384</td>\n",
       "      <td>10068819</td>\n",
       "      <td>10.1073/pnas.2120288120</td>\n",
       "      <td>3731.0</td>\n",
       "    </tr>\n",
       "    <tr>\n",
       "      <th>3</th>\n",
       "      <td>34296157</td>\n",
       "      <td>8152844</td>\n",
       "      <td>10.1093/texcom/tgab008</td>\n",
       "      <td>262.0</td>\n",
       "    </tr>\n",
       "    <tr>\n",
       "      <th>4</th>\n",
       "      <td>26884746</td>\n",
       "      <td>4738700</td>\n",
       "      <td>10.1155/2016/2094601</td>\n",
       "      <td>786.0</td>\n",
       "    </tr>\n",
       "    <tr>\n",
       "      <th>...</th>\n",
       "      <td>...</td>\n",
       "      <td>...</td>\n",
       "      <td>...</td>\n",
       "      <td>...</td>\n",
       "    </tr>\n",
       "    <tr>\n",
       "      <th>661</th>\n",
       "      <td>35343102</td>\n",
       "      <td>9131432</td>\n",
       "      <td>10.1002/advs.202105336</td>\n",
       "      <td>11813.0</td>\n",
       "    </tr>\n",
       "    <tr>\n",
       "      <th>662</th>\n",
       "      <td>30793072</td>\n",
       "      <td>6326731</td>\n",
       "      <td>10.1162/netn_a_00050</td>\n",
       "      <td>3179.0</td>\n",
       "    </tr>\n",
       "    <tr>\n",
       "      <th>663</th>\n",
       "      <td>28018192</td>\n",
       "      <td>5147411</td>\n",
       "      <td>10.3389/fnhum.2016.00610</td>\n",
       "      <td>1508.0</td>\n",
       "    </tr>\n",
       "    <tr>\n",
       "      <th>664</th>\n",
       "      <td>36617994</td>\n",
       "      <td>10028637</td>\n",
       "      <td>10.1002/hbm.26199</td>\n",
       "      <td>9576.0</td>\n",
       "    </tr>\n",
       "    <tr>\n",
       "      <th>665</th>\n",
       "      <td>33343310</td>\n",
       "      <td>7746820</td>\n",
       "      <td>10.3389/fnbeh.2020.578676</td>\n",
       "      <td>8408.0</td>\n",
       "    </tr>\n",
       "  </tbody>\n",
       "</table>\n",
       "<p>662 rows × 4 columns</p>\n",
       "</div>"
      ],
      "text/plain": [
       "         pmid     pmcid               secondary_doi  collection_id\n",
       "0    31772347   6879500  10.1038/s41598-019-53985-7         4501.0\n",
       "1    26322322   4543077   10.1016/j.dib.2015.07.028          550.0\n",
       "2    36952384  10068819     10.1073/pnas.2120288120         3731.0\n",
       "3    34296157   8152844      10.1093/texcom/tgab008          262.0\n",
       "4    26884746   4738700        10.1155/2016/2094601          786.0\n",
       "..        ...       ...                         ...            ...\n",
       "661  35343102   9131432      10.1002/advs.202105336        11813.0\n",
       "662  30793072   6326731        10.1162/netn_a_00050         3179.0\n",
       "663  28018192   5147411    10.3389/fnhum.2016.00610         1508.0\n",
       "664  36617994  10028637           10.1002/hbm.26199         9576.0\n",
       "665  33343310   7746820   10.3389/fnbeh.2020.578676         8408.0\n",
       "\n",
       "[662 rows x 4 columns]"
      ]
     },
     "execution_count": 101,
     "metadata": {},
     "output_type": "execute_result"
    }
   ],
   "source": [
    "pubget_metadata_fn = op.join(\n",
    "    pubget_dir,\n",
    "    query_neurovault,\n",
    "    \"subset_allArticles_extractedData\",\n",
    "    \"metadata.csv\",\n",
    ")\n",
    "pubget_nv_fn = op.join(\n",
    "    pubget_dir,\n",
    "    query_neurovault,\n",
    "    \"subset_allArticles_extractedData\",\n",
    "    \"neurovault_collections.csv\",\n",
    ")\n",
    "pubget_nv_df = pd.read_csv(pubget_nv_fn)\n",
    "pubget_metadata_df = pd.read_csv(pubget_metadata_fn)\n",
    "\n",
    "# Convert private_token to collection_id\n",
    "collection_ids = pubget_nv_df[\"collection_id\"].to_list()\n",
    "pubget_nv_df[\"collection_id\"] = [\n",
    "    _convert_collection_id(id_, collections) for id_ in collection_ids\n",
    "]\n",
    "\n",
    "# Get PMIDs and PMCIDs from metadata\n",
    "pubget_nv_df = pd.merge(pubget_nv_df, pubget_metadata_df[[\"pmcid\", \"pmid\", \"doi\"]], on=\"pmcid\")\n",
    "pubget_nv_df = pubget_nv_df.reindex(columns=[\"pmid\", \"pmcid\", \"doi\", \"collection_id\"])\n",
    "pubget_nv_df = pubget_nv_df.rename(columns={\"doi\": \"secondary_doi\"})\n",
    "pubget_nv_df[\"pmid\"] = pubget_nv_df[\"pmid\"].astype(\"Int64\")\n",
    "pubget_nv_df = pubget_nv_df.dropna(\n",
    "    subset=[\"collection_id\"]\n",
    ")  # Some private collections couldnt be mapped to public ones\n",
    "\n",
    "# Get collections found by pubget\n",
    "collections_pmid_nnan_df = collections_pmid_df.dropna(subset=[\"pmid\"])\n",
    "pubget_nv_df"
   ]
  },
  {
   "cell_type": "code",
   "execution_count": 102,
   "metadata": {},
   "outputs": [
    {
     "data": {
      "text/html": [
       "<div>\n",
       "<style scoped>\n",
       "    .dataframe tbody tr th:only-of-type {\n",
       "        vertical-align: middle;\n",
       "    }\n",
       "\n",
       "    .dataframe tbody tr th {\n",
       "        vertical-align: top;\n",
       "    }\n",
       "\n",
       "    .dataframe thead th {\n",
       "        text-align: right;\n",
       "    }\n",
       "</style>\n",
       "<table border=\"1\" class=\"dataframe\">\n",
       "  <thead>\n",
       "    <tr style=\"text-align: right;\">\n",
       "      <th></th>\n",
       "      <th>pmid</th>\n",
       "      <th>secondary_doi</th>\n",
       "      <th>collection_id</th>\n",
       "    </tr>\n",
       "  </thead>\n",
       "  <tbody>\n",
       "    <tr>\n",
       "      <th>0</th>\n",
       "      <td>25935068</td>\n",
       "      <td>10.1016/j.biopsych.2015.03.027</td>\n",
       "      <td>394</td>\n",
       "    </tr>\n",
       "    <tr>\n",
       "      <th>1</th>\n",
       "      <td>27845254</td>\n",
       "      <td>10.1016/j.neuroimage.2016.11.009</td>\n",
       "      <td>1904</td>\n",
       "    </tr>\n",
       "    <tr>\n",
       "      <th>2</th>\n",
       "      <td>27845254</td>\n",
       "      <td>10.1016/j.neuroimage.2016.11.009</td>\n",
       "      <td>1904</td>\n",
       "    </tr>\n",
       "    <tr>\n",
       "      <th>3</th>\n",
       "      <td>27851996</td>\n",
       "      <td>10.1016/j.neuroimage.2016.11.019</td>\n",
       "      <td>978</td>\n",
       "    </tr>\n",
       "    <tr>\n",
       "      <th>4</th>\n",
       "      <td>27864079</td>\n",
       "      <td>10.1016/j.neuroimage.2016.11.029</td>\n",
       "      <td>1949</td>\n",
       "    </tr>\n",
       "    <tr>\n",
       "      <th>...</th>\n",
       "      <td>...</td>\n",
       "      <td>...</td>\n",
       "      <td>...</td>\n",
       "    </tr>\n",
       "    <tr>\n",
       "      <th>185</th>\n",
       "      <td>36513365</td>\n",
       "      <td>10.1093/cercor/bhac479</td>\n",
       "      <td>13248</td>\n",
       "    </tr>\n",
       "    <tr>\n",
       "      <th>186</th>\n",
       "      <td>36639935</td>\n",
       "      <td>10.1093/scan/nsac062</td>\n",
       "      <td>9265</td>\n",
       "    </tr>\n",
       "    <tr>\n",
       "      <th>187</th>\n",
       "      <td>36721902</td>\n",
       "      <td>10.1093/cercor/bhac522</td>\n",
       "      <td>10011</td>\n",
       "    </tr>\n",
       "    <tr>\n",
       "      <th>188</th>\n",
       "      <td>36812783</td>\n",
       "      <td>10.1016/j.neurobiolaging.2023.01.011</td>\n",
       "      <td>12828</td>\n",
       "    </tr>\n",
       "    <tr>\n",
       "      <th>189</th>\n",
       "      <td>36871908</td>\n",
       "      <td>10.1016/j.jad.2023.02.146</td>\n",
       "      <td>1206</td>\n",
       "    </tr>\n",
       "  </tbody>\n",
       "</table>\n",
       "<p>190 rows × 3 columns</p>\n",
       "</div>"
      ],
      "text/plain": [
       "         pmid                         secondary_doi  collection_id\n",
       "0    25935068        10.1016/j.biopsych.2015.03.027            394\n",
       "1    27845254      10.1016/j.neuroimage.2016.11.009           1904\n",
       "2    27845254      10.1016/j.neuroimage.2016.11.009           1904\n",
       "3    27851996      10.1016/j.neuroimage.2016.11.019            978\n",
       "4    27864079      10.1016/j.neuroimage.2016.11.029           1949\n",
       "..        ...                                   ...            ...\n",
       "185  36513365                10.1093/cercor/bhac479          13248\n",
       "186  36639935                  10.1093/scan/nsac062           9265\n",
       "187  36721902                10.1093/cercor/bhac522          10011\n",
       "188  36812783  10.1016/j.neurobiolaging.2023.01.011          12828\n",
       "189  36871908             10.1016/j.jad.2023.02.146           1206\n",
       "\n",
       "[190 rows x 3 columns]"
      ]
     },
     "execution_count": 102,
     "metadata": {},
     "output_type": "execute_result"
    }
   ],
   "source": [
    "neurosynth_nv_fn = op.join(data_dir, \"neurosynth\", \"neurovault_collections.csv\")\n",
    "neurosynth_metadata_fn = op.join(data_dir, \"neurosynth\", \"metadata.csv\")\n",
    "neurosynth_nv_df = pd.read_csv(neurosynth_nv_fn)\n",
    "neurosynth_metadata_df = pd.read_csv(neurosynth_metadata_fn)\n",
    "\n",
    "# Convert private_token to collection_id\n",
    "collection_ids = neurosynth_nv_df[\"collection_id\"].to_list()\n",
    "neurosynth_nv_df[\"collection_id\"] = [\n",
    "    _convert_collection_id(id_, collections) for id_ in collection_ids\n",
    "]\n",
    "\n",
    "# Get PMIDs and PMCIDs from metadata\n",
    "neurosynth_nv_df = pd.merge(neurosynth_nv_df, neurosynth_metadata_df[[\"pmid\", \"doi\"]], on=\"pmid\")\n",
    "neurosynth_nv_df = neurosynth_nv_df.reindex(columns=[\"pmid\", \"doi\", \"collection_id\"])\n",
    "neurosynth_nv_df = neurosynth_nv_df.rename(columns={\"doi\": \"secondary_doi\"})\n",
    "neurosynth_nv_df[\"pmid\"] = neurosynth_nv_df[\"pmid\"].astype(\"Int64\")\n",
    "neurosynth_nv_df = neurosynth_nv_df.dropna(\n",
    "    subset=[\"collection_id\"]\n",
    ")  # Some private collections couldnt be mapped to public ones\n",
    "neurosynth_nv_df"
   ]
  },
  {
   "cell_type": "code",
   "execution_count": 108,
   "metadata": {},
   "outputs": [
    {
     "data": {
      "text/plain": [
       "collection_id\n",
       "262.0     20\n",
       "4683.0     8\n",
       "3731.0     6\n",
       "2671.0     6\n",
       "1549.0     6\n",
       "5914.0     6\n",
       "3145.0     6\n",
       "2462.0     5\n",
       "503.0      4\n",
       "7731.0     4\n",
       "dtype: int64"
      ]
     },
     "execution_count": 108,
     "metadata": {},
     "output_type": "execute_result"
    }
   ],
   "source": [
    "pd.merge(pubget_nv_df, neurosynth_nv_df, how=\"outer\", on=[\"pmid\", \"collection_id\"]).groupby(\"collection_id\").size().sort_values(ascending=False).head(10)"
   ]
  },
  {
   "cell_type": "code",
   "execution_count": 107,
   "metadata": {},
   "outputs": [
    {
     "data": {
      "text/plain": [
       "collection_id\n",
       "262.0     20\n",
       "4683.0     8\n",
       "3731.0     6\n",
       "2671.0     6\n",
       "5914.0     6\n",
       "1549.0     6\n",
       "3145.0     6\n",
       "2462.0     5\n",
       "503.0      4\n",
       "6546.0     4\n",
       "dtype: int64"
      ]
     },
     "execution_count": 107,
     "metadata": {},
     "output_type": "execute_result"
    }
   ],
   "source": [
    "pd.concat([pubget_nv_df, neurosynth_nv_df]).groupby(\"collection_id\").size().sort_values(ascending=False).head(10)"
   ]
  },
  {
   "cell_type": "code",
   "execution_count": 96,
   "metadata": {},
   "outputs": [
    {
     "data": {
      "text/html": [
       "<div>\n",
       "<style scoped>\n",
       "    .dataframe tbody tr th:only-of-type {\n",
       "        vertical-align: middle;\n",
       "    }\n",
       "\n",
       "    .dataframe tbody tr th {\n",
       "        vertical-align: top;\n",
       "    }\n",
       "\n",
       "    .dataframe thead th {\n",
       "        text-align: right;\n",
       "    }\n",
       "</style>\n",
       "<table border=\"1\" class=\"dataframe\">\n",
       "  <thead>\n",
       "    <tr style=\"text-align: right;\">\n",
       "      <th></th>\n",
       "      <th>pmid</th>\n",
       "      <th>pmcid</th>\n",
       "      <th>secondary_doi</th>\n",
       "      <th>collection_id</th>\n",
       "    </tr>\n",
       "  </thead>\n",
       "  <tbody>\n",
       "    <tr>\n",
       "      <th>0</th>\n",
       "      <td>31772347</td>\n",
       "      <td>6879500</td>\n",
       "      <td>10.1038/s41598-019-53985-7</td>\n",
       "      <td>4501.0</td>\n",
       "    </tr>\n",
       "    <tr>\n",
       "      <th>1</th>\n",
       "      <td>26322322</td>\n",
       "      <td>4543077</td>\n",
       "      <td>10.1016/j.dib.2015.07.028</td>\n",
       "      <td>550.0</td>\n",
       "    </tr>\n",
       "    <tr>\n",
       "      <th>2</th>\n",
       "      <td>36952384</td>\n",
       "      <td>10068819</td>\n",
       "      <td>10.1073/pnas.2120288120</td>\n",
       "      <td>3731.0</td>\n",
       "    </tr>\n",
       "    <tr>\n",
       "      <th>3</th>\n",
       "      <td>34296157</td>\n",
       "      <td>8152844</td>\n",
       "      <td>10.1093/texcom/tgab008</td>\n",
       "      <td>262.0</td>\n",
       "    </tr>\n",
       "    <tr>\n",
       "      <th>4</th>\n",
       "      <td>26884746</td>\n",
       "      <td>4738700</td>\n",
       "      <td>10.1155/2016/2094601</td>\n",
       "      <td>786.0</td>\n",
       "    </tr>\n",
       "    <tr>\n",
       "      <th>...</th>\n",
       "      <td>...</td>\n",
       "      <td>...</td>\n",
       "      <td>...</td>\n",
       "      <td>...</td>\n",
       "    </tr>\n",
       "    <tr>\n",
       "      <th>661</th>\n",
       "      <td>35343102</td>\n",
       "      <td>9131432</td>\n",
       "      <td>10.1002/advs.202105336</td>\n",
       "      <td>11813.0</td>\n",
       "    </tr>\n",
       "    <tr>\n",
       "      <th>662</th>\n",
       "      <td>30793072</td>\n",
       "      <td>6326731</td>\n",
       "      <td>10.1162/netn_a_00050</td>\n",
       "      <td>3179.0</td>\n",
       "    </tr>\n",
       "    <tr>\n",
       "      <th>663</th>\n",
       "      <td>28018192</td>\n",
       "      <td>5147411</td>\n",
       "      <td>10.3389/fnhum.2016.00610</td>\n",
       "      <td>1508.0</td>\n",
       "    </tr>\n",
       "    <tr>\n",
       "      <th>664</th>\n",
       "      <td>36617994</td>\n",
       "      <td>10028637</td>\n",
       "      <td>10.1002/hbm.26199</td>\n",
       "      <td>9576.0</td>\n",
       "    </tr>\n",
       "    <tr>\n",
       "      <th>665</th>\n",
       "      <td>33343310</td>\n",
       "      <td>7746820</td>\n",
       "      <td>10.3389/fnbeh.2020.578676</td>\n",
       "      <td>8408.0</td>\n",
       "    </tr>\n",
       "  </tbody>\n",
       "</table>\n",
       "<p>660 rows × 4 columns</p>\n",
       "</div>"
      ],
      "text/plain": [
       "         pmid     pmcid               secondary_doi  collection_id\n",
       "0    31772347   6879500  10.1038/s41598-019-53985-7         4501.0\n",
       "1    26322322   4543077   10.1016/j.dib.2015.07.028          550.0\n",
       "2    36952384  10068819     10.1073/pnas.2120288120         3731.0\n",
       "3    34296157   8152844      10.1093/texcom/tgab008          262.0\n",
       "4    26884746   4738700        10.1155/2016/2094601          786.0\n",
       "..        ...       ...                         ...            ...\n",
       "661  35343102   9131432      10.1002/advs.202105336        11813.0\n",
       "662  30793072   6326731        10.1162/netn_a_00050         3179.0\n",
       "663  28018192   5147411    10.3389/fnhum.2016.00610         1508.0\n",
       "664  36617994  10028637           10.1002/hbm.26199         9576.0\n",
       "665  33343310   7746820   10.3389/fnbeh.2020.578676         8408.0\n",
       "\n",
       "[660 rows x 4 columns]"
      ]
     },
     "execution_count": 96,
     "metadata": {},
     "output_type": "execute_result"
    }
   ],
   "source": [
    "nv_coll = collections_pmid_nnan_df[\"collection_id\"].to_list()\n",
    "pubget_nv_coll = pubget_nv_df[\"collection_id\"].to_list()\n",
    "matching_ids = np.intersect1d(nv_coll, pubget_nv_coll)"
   ]
  },
  {
   "cell_type": "code",
   "execution_count": 97,
   "metadata": {},
   "outputs": [],
   "source": [
    "nv_reuse_coll = []\n",
    "matching_ids = matching_ids.astype(\"int64\")\n",
    "for coll_id in matching_ids:\n",
    "    # PMID per colleciton in collections_pmid_nnan_df is unique, select the first one\n",
    "\n",
    "    nv_pmid = collections_pmid_nnan_df[collections_pmid_nnan_df[\"collection_id\"] == coll_id][\n",
    "        \"pmid\"\n",
    "    ].values[0]\n",
    "    pg_pmids = pubget_nv_df[pubget_nv_df[\"collection_id\"] == coll_id][\"pmid\"]\n",
    "    sub_coll = []\n",
    "    for pmid in pg_pmids:\n",
    "        if pmid != nv_pmid:\n",
    "            sub_coll.append(coll_id)\n",
    "    nv_reuse_coll.extend(list(set(sub_coll)))\n",
    "\n",
    "nv_reuse_df = pd.DataFrame()\n",
    "nv_reuse_df[\"reused\"] = [\"Reused\", \"Not Reused\"]\n",
    "nv_reuse_df[\"count\"] = [len(nv_reuse_coll), len(collections_pmid_df) - len(nv_reuse_coll)]"
   ]
  },
  {
   "cell_type": "code",
   "execution_count": 98,
   "metadata": {},
   "outputs": [
    {
     "data": {
      "text/html": [
       "<div>\n",
       "<style scoped>\n",
       "    .dataframe tbody tr th:only-of-type {\n",
       "        vertical-align: middle;\n",
       "    }\n",
       "\n",
       "    .dataframe tbody tr th {\n",
       "        vertical-align: top;\n",
       "    }\n",
       "\n",
       "    .dataframe thead th {\n",
       "        text-align: right;\n",
       "    }\n",
       "</style>\n",
       "<table border=\"1\" class=\"dataframe\">\n",
       "  <thead>\n",
       "    <tr style=\"text-align: right;\">\n",
       "      <th></th>\n",
       "      <th>reused</th>\n",
       "      <th>count</th>\n",
       "    </tr>\n",
       "  </thead>\n",
       "  <tbody>\n",
       "    <tr>\n",
       "      <th>0</th>\n",
       "      <td>Reused</td>\n",
       "      <td>69</td>\n",
       "    </tr>\n",
       "    <tr>\n",
       "      <th>1</th>\n",
       "      <td>Not Reused</td>\n",
       "      <td>1412</td>\n",
       "    </tr>\n",
       "  </tbody>\n",
       "</table>\n",
       "</div>"
      ],
      "text/plain": [
       "       reused  count\n",
       "0      Reused     69\n",
       "1  Not Reused   1412"
      ]
     },
     "execution_count": 98,
     "metadata": {},
     "output_type": "execute_result"
    }
   ],
   "source": [
    "nv_reuse_df"
   ]
  },
  {
   "cell_type": "code",
   "execution_count": 128,
   "metadata": {},
   "outputs": [],
   "source": [
    "from collections import Counter\n",
    "\n",
    "def find_duplicates(nums):\n",
    "    counter = Counter(nums)\n",
    "    duplicates = {num: count for num, count in counter.items() if count > 1}\n",
    "    return duplicates\n",
    "\n",
    "duplicates = find_duplicates(nv_reuse_coll)"
   ]
  },
  {
   "cell_type": "code",
   "execution_count": 133,
   "metadata": {},
   "outputs": [
    {
     "data": {
      "text/plain": [
       "Counter({13: 1,\n",
       "         33: 1,\n",
       "         59: 1,\n",
       "         63: 1,\n",
       "         262: 1,\n",
       "         264: 1,\n",
       "         394: 1,\n",
       "         445: 1,\n",
       "         474: 1,\n",
       "         503: 1,\n",
       "         550: 1,\n",
       "         659: 1,\n",
       "         860: 1,\n",
       "         1003: 1,\n",
       "         1206: 1,\n",
       "         1276: 1,\n",
       "         1380: 1,\n",
       "         1549: 1,\n",
       "         1598: 1,\n",
       "         1626: 1,\n",
       "         1653: 1,\n",
       "         1866: 1,\n",
       "         1871: 1,\n",
       "         1952: 1,\n",
       "         2099: 1,\n",
       "         2216: 1,\n",
       "         2462: 1,\n",
       "         2694: 1,\n",
       "         2860: 1,\n",
       "         3035: 1,\n",
       "         3145: 1,\n",
       "         3245: 1,\n",
       "         3324: 1,\n",
       "         3713: 1,\n",
       "         3731: 1,\n",
       "         3739: 1,\n",
       "         4031: 1,\n",
       "         4032: 1,\n",
       "         4048: 1,\n",
       "         4083: 1,\n",
       "         4092: 1,\n",
       "         4099: 1,\n",
       "         4100: 1,\n",
       "         4110: 1,\n",
       "         4162: 1,\n",
       "         4258: 1,\n",
       "         4337: 1,\n",
       "         4563: 1,\n",
       "         4752: 1,\n",
       "         5377: 1,\n",
       "         5706: 1,\n",
       "         6009: 1,\n",
       "         6088: 1,\n",
       "         6618: 1,\n",
       "         6746: 1,\n",
       "         7103: 1,\n",
       "         7114: 1,\n",
       "         7735: 1,\n",
       "         8400: 1,\n",
       "         9056: 1,\n",
       "         9085: 1,\n",
       "         9985: 1,\n",
       "         10477: 1,\n",
       "         11908: 1,\n",
       "         12205: 1,\n",
       "         12296: 1,\n",
       "         12842: 1,\n",
       "         13053: 1,\n",
       "         15564: 1})"
      ]
     },
     "execution_count": 133,
     "metadata": {},
     "output_type": "execute_result"
    }
   ],
   "source": [
    "Counter(nv_reuse_coll)"
   ]
  },
  {
   "cell_type": "code",
   "execution_count": 129,
   "metadata": {},
   "outputs": [
    {
     "data": {
      "text/plain": [
       "{}"
      ]
     },
     "execution_count": 129,
     "metadata": {},
     "output_type": "execute_result"
    }
   ],
   "source": [
    "duplicates"
   ]
  },
  {
   "cell_type": "code",
   "execution_count": 126,
   "metadata": {},
   "outputs": [
    {
     "data": {
      "text/html": [
       "<div>\n",
       "<style scoped>\n",
       "    .dataframe tbody tr th:only-of-type {\n",
       "        vertical-align: middle;\n",
       "    }\n",
       "\n",
       "    .dataframe tbody tr th {\n",
       "        vertical-align: top;\n",
       "    }\n",
       "\n",
       "    .dataframe thead th {\n",
       "        text-align: right;\n",
       "    }\n",
       "</style>\n",
       "<table border=\"1\" class=\"dataframe\">\n",
       "  <thead>\n",
       "    <tr style=\"text-align: right;\">\n",
       "      <th></th>\n",
       "      <th>reused</th>\n",
       "      <th>count</th>\n",
       "    </tr>\n",
       "  </thead>\n",
       "  <tbody>\n",
       "    <tr>\n",
       "      <th>0</th>\n",
       "      <td>Reused</td>\n",
       "      <td>69</td>\n",
       "    </tr>\n",
       "    <tr>\n",
       "      <th>1</th>\n",
       "      <td>Not Reused</td>\n",
       "      <td>1412</td>\n",
       "    </tr>\n",
       "  </tbody>\n",
       "</table>\n",
       "</div>"
      ],
      "text/plain": [
       "       reused  count\n",
       "0      Reused     69\n",
       "1  Not Reused   1412"
      ]
     },
     "execution_count": 126,
     "metadata": {},
     "output_type": "execute_result"
    }
   ],
   "source": [
    "nv_reuse_df"
   ]
  },
  {
   "cell_type": "code",
   "execution_count": null,
   "metadata": {},
   "outputs": [],
   "source": [
    "fig = _plot_pie(nv_reuse_df, \"count\", \"reused\", reversed=True)\n",
    "fig.write_html(\n",
    "    op.join(fig_dir, \"13_collections_reused.html\"), full_html=True, include_plotlyjs=True\n",
    ")\n",
    "fig.write_image(op.join(fig_dir, \"13_collections_reused.png\"), scale=6)\n",
    "fig.show()"
   ]
  },
  {
   "cell_type": "markdown",
   "metadata": {},
   "source": [
    "### Distributions of number of images, collections and cognitive atlas tasks\n"
   ]
  },
  {
   "cell_type": "code",
   "execution_count": null,
   "metadata": {},
   "outputs": [],
   "source": [
    "pmid_vs_img = statisticmap_colelctions.groupby(\"pmid\").size().sort_values(ascending=True)\n",
    "pmid_vs_coll = statisticmap_colelctions.groupby(\"pmid\").apply(_n_colls)[pmid_vs_img.index]\n",
    "coll_vs_img = statisticmap_colelctions.groupby(\"collection_id\").size().sort_values(ascending=True)\n",
    "coll_vs_cogat = (\n",
    "    statisticmap_colelctions.groupby(\"collection_id\").apply(_n_cogats).sort_values(ascending=True)\n",
    ")\n",
    "cogat_vs_img = statisticmap_colelctions.cognitive_paradigm_cogatlas_name.value_counts(\n",
    "    dropna=False\n",
    ").sort_values(ascending=True)\n",
    "cogat_vs_coll = statisticmap_colelctions.groupby(\"cognitive_paradigm_cogatlas_name\").apply(\n",
    "    _n_colls\n",
    ")[cogat_vs_img.index]"
   ]
  },
  {
   "cell_type": "code",
   "execution_count": null,
   "metadata": {},
   "outputs": [],
   "source": [
    "coll_vs_img.sort_values(ascending=False).to_csv(op.join(fig_dir, \"14_coll_vs_img.csv\"))"
   ]
  },
  {
   "cell_type": "code",
   "execution_count": null,
   "metadata": {},
   "outputs": [],
   "source": [
    "from plotly.subplots import make_subplots\n",
    "\n",
    "figures = [\n",
    "    _plot_hist(cogat_vs_coll, \"N Collections\"),\n",
    "    _plot_hist(cogat_vs_img, \"N Images\"),\n",
    "]\n",
    "fig = make_subplots(rows=1, cols=len(figures))\n",
    "\n",
    "for i, figure in enumerate(figures):\n",
    "    for trace in range(len(figure[\"data\"])):\n",
    "        fig.append_trace(figure[\"data\"][trace], row=1, col=i + 1)\n",
    "\n",
    "fig[\"layout\"][\"xaxis\"].update(title=\"N Collections\")  # , type=\"log\"\n",
    "fig[\"layout\"][\"xaxis2\"].update(title=\"N Images\")\n",
    "fig[\"layout\"][\"yaxis\"].update(title=\"Cognitive Paradigms\")\n",
    "fig[\"layout\"][\"yaxis2\"].update(showticklabels=False)\n",
    "\n",
    "fig.update_layout(\n",
    "    height=30 * 30,\n",
    ")\n",
    "\n",
    "fig.write_html(\n",
    "    op.join(fig_dir, \"14_cogat_vs_coll-img.html\"), full_html=True, include_plotlyjs=True\n",
    ")\n",
    "fig.show()"
   ]
  },
  {
   "cell_type": "code",
   "execution_count": null,
   "metadata": {},
   "outputs": [],
   "source": [
    "from plotly.subplots import make_subplots\n",
    "\n",
    "figures = [\n",
    "    _plot_hist(pmid_vs_coll, \"N Collections\"),\n",
    "    _plot_hist(pmid_vs_img, \"N Images\"),\n",
    "]\n",
    "fig = make_subplots(rows=1, cols=len(figures))\n",
    "\n",
    "for i, figure in enumerate(figures):\n",
    "    for trace in range(len(figure[\"data\"])):\n",
    "        fig.append_trace(figure[\"data\"][trace], row=1, col=i + 1)\n",
    "\n",
    "fig[\"layout\"][\"xaxis\"].update(title=\"N Collections\")  # , type=\"log\"\n",
    "fig[\"layout\"][\"xaxis2\"].update(title=\"N Images\")\n",
    "fig[\"layout\"][\"yaxis\"].update(title=\"PMID\")\n",
    "fig[\"layout\"][\"yaxis2\"].update(showticklabels=False)\n",
    "\n",
    "fig.update_layout(\n",
    "    height=30 * 30,\n",
    ")\n",
    "\n",
    "fig.write_html(op.join(fig_dir, \"15_pmid_vs_coll-img.html\"), full_html=True, include_plotlyjs=True)\n",
    "fig.show()"
   ]
  },
  {
   "cell_type": "markdown",
   "metadata": {},
   "source": [
    "### Distribution of words from abstracts of publications\n"
   ]
  },
  {
   "cell_type": "code",
   "execution_count": null,
   "metadata": {},
   "outputs": [],
   "source": [
    "cogat_dir = op.join(data_dir, \"cogat\")\n",
    "\n",
    "vocabulary = _cogat_vocabulary(cogat_dir)\n",
    "\n",
    "nq_counts_df = _generate_counts(\n",
    "    pmid_text,\n",
    "    id_col=\"pmid\",\n",
    "    vocabulary=vocabulary,\n",
    "    text_column=\"abstract\",\n",
    "    tfidf=False,\n",
    "    max_df=len(pmid_text) - 2,\n",
    "    min_df=2,\n",
    ")"
   ]
  },
  {
   "cell_type": "code",
   "execution_count": null,
   "metadata": {},
   "outputs": [],
   "source": [
    "def plot_top_words(model, feature_names, n_top_words, title):\n",
    "    fig, axes = plt.subplots(6, 5, figsize=(30, 30), sharex=True)\n",
    "    axes = axes.flatten()\n",
    "    for topic_idx, topic in enumerate(model.components_):\n",
    "        top_features_ind = topic.argsort()[: -n_top_words - 1 : -1]\n",
    "        top_features = [feature_names[i] for i in top_features_ind]\n",
    "        weights = topic[top_features_ind]\n",
    "\n",
    "        ax = axes[topic_idx]\n",
    "        ax.barh(top_features, weights, height=0.7)\n",
    "        ax.set_title(f\"Topic {topic_idx +1}\", fontdict={\"fontsize\": 30})\n",
    "        ax.invert_yaxis()\n",
    "        ax.tick_params(axis=\"both\", which=\"major\", labelsize=20)\n",
    "        for i in \"top right left\".split():\n",
    "            ax.spines[i].set_visible(False)\n",
    "        fig.suptitle(title, fontsize=40)\n",
    "\n",
    "    plt.subplots_adjust(top=0.90, bottom=0.05, wspace=0.90, hspace=0.3)\n",
    "    return fig, axes"
   ]
  },
  {
   "cell_type": "code",
   "execution_count": null,
   "metadata": {},
   "outputs": [],
   "source": [
    "from sklearn.decomposition import LatentDirichletAllocation\n",
    "\n",
    "model = LatentDirichletAllocation(\n",
    "    n_components=30,\n",
    "    max_iter=1000,\n",
    "    learning_method=\"batch\",\n",
    "    doc_topic_prior=None,\n",
    "    topic_word_prior=0.001,\n",
    ")\n",
    "doc_topic_weights = model.fit_transform(nq_counts_df)"
   ]
  },
  {
   "cell_type": "code",
   "execution_count": null,
   "metadata": {},
   "outputs": [],
   "source": [
    "vocabulary = nq_counts_df.columns.to_numpy()\n",
    "fig, _ = plot_top_words(model, vocabulary, 10, \"Topics in LDA model\")\n",
    "fig.savefig(op.join(fig_dir, \"16_lda_topics.png\"), bbox_inches=\"tight\", dpi=DPI)"
   ]
  },
  {
   "cell_type": "code",
   "execution_count": null,
   "metadata": {},
   "outputs": [],
   "source": [
    "width, height = 8, 3\n",
    "fig, ax = plt.subplots(figsize=(width, height))\n",
    "\n",
    "frequencies_dict = dict(nq_counts_df.mean(axis=0))\n",
    "\n",
    "wc = WordCloud(\n",
    "    width=width * DPI,\n",
    "    height=height * DPI,\n",
    "    background_color=\"white\",\n",
    "    random_state=0,\n",
    "    colormap=\"Reds\",\n",
    ")\n",
    "wc.generate_from_frequencies(frequencies=frequencies_dict)\n",
    "ax.imshow(wc)\n",
    "\n",
    "ax.get_xaxis().set_ticks([])\n",
    "ax.get_yaxis().set_ticks([])\n",
    "for spine in ax.spines.values():\n",
    "    spine.set_visible(False)\n",
    "\n",
    "\n",
    "fig.savefig(op.join(fig_dir, \"17_word_count_pubmed.png\"), bbox_inches=\"tight\", dpi=DPI)\n",
    "plt.show()"
   ]
  },
  {
   "cell_type": "markdown",
   "metadata": {},
   "source": [
    "### Collections with unique task and multiple images\n"
   ]
  },
  {
   "cell_type": "code",
   "execution_count": null,
   "metadata": {},
   "outputs": [],
   "source": [
    "coll_with_1cogat = coll_vs_cogat[coll_vs_cogat == 1]\n",
    "img_per_coll_with_1cogat = coll_vs_img[coll_vs_img.index.isin(coll_with_1cogat.index)]\n",
    "coll_with_1cogat_mimages = img_per_coll_with_1cogat[img_per_coll_with_1cogat > 1]\n",
    "coll_with_1cogat_mimages\n",
    "\n",
    "coll_with_1cogat_mimages_df = pd.DataFrame(coll_with_1cogat_mimages)\n",
    "coll_with_1cogat_mimages_df = coll_with_1cogat_mimages_df.rename(\n",
    "    columns={coll_with_1cogat_mimages_df.columns[0]: \"n_images\"}\n",
    ")\n",
    "coll_with_1cogat_mimages_df.to_csv(op.join(data_dir, \"nv_colls_with_1cogat_mimages.csv\"))"
   ]
  },
  {
   "cell_type": "code",
   "execution_count": null,
   "metadata": {},
   "outputs": [],
   "source": []
  }
 ],
 "metadata": {
  "kernelspec": {
   "display_name": "Python 3",
   "language": "python",
   "name": "python3"
  },
  "language_info": {
   "codemirror_mode": {
    "name": "ipython",
    "version": 3
   },
   "file_extension": ".py",
   "mimetype": "text/x-python",
   "name": "python",
   "nbconvert_exporter": "python",
   "pygments_lexer": "ipython3",
   "version": "3.10.13"
  }
 },
 "nbformat": 4,
 "nbformat_minor": 2
}
