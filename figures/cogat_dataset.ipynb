{
 "cells": [
  {
   "cell_type": "code",
   "execution_count": 1,
   "metadata": {},
   "outputs": [],
   "source": [
    "import os.path as op\n",
    "import json\n",
    "\n",
    "import pandas as pd\n",
    "from nimare.dataset import Dataset\n",
    "import plotly.graph_objects as go\n",
    "import plotly.express as px\n",
    "\n",
    "import numpy as np"
   ]
  },
  {
   "cell_type": "code",
   "execution_count": 2,
   "metadata": {},
   "outputs": [],
   "source": [
    "results_dir = '../results/ibma'\n",
    "data_dir = '../data'"
   ]
  },
  {
   "cell_type": "code",
   "execution_count": 4,
   "metadata": {},
   "outputs": [],
   "source": [
    "def _wrap_label(s, index=3):\n",
    "    parts = s.split(' ', index)\n",
    "    return ' '.join(parts[:index]) + '<br>' + parts[index]"
   ]
  },
  {
   "cell_type": "code",
   "execution_count": 5,
   "metadata": {},
   "outputs": [],
   "source": [
    "cogat_df = pd.read_csv(op.join(data_dir, \"cogat_terms.csv\"))\n",
    "task_names = cogat_df[\"cogat_nm\"].tolist()\n",
    "task_names.reverse()\n",
    "n_tasks = len(task_names)\n",
    "\n",
    "with open(op.join(data_dir, \"cogat_terms.json\"), 'r') as f:\n",
    "    cogat_dict = json.load(f)"
   ]
  },
  {
   "cell_type": "code",
   "execution_count": 6,
   "metadata": {},
   "outputs": [],
   "source": [
    "p_data_df = pd.read_csv(op.join(data_dir, \"maps_count.csv\"))\n",
    "\n",
    "pivot_org_df = p_data_df.pivot(index='task', columns='map', values='count')\n",
    "pivot_org_df = pivot_org_df[[\"Z\", \"T\", \"Other\", \"Not Available\"]]\n",
    "df_sorted_org_df = pivot_org_df.loc[task_names]\n",
    "df_sorted_org_df.index = [cogat_dict[label] for label in df_sorted_org_df.index]\n",
    "df_sorted_org_df.index = [_wrap_label(label) if label.count(' ') >= 3 else label for label in df_sorted_org_df.index]"
   ]
  },
  {
   "cell_type": "code",
   "execution_count": 7,
   "metadata": {},
   "outputs": [
    {
     "data": {
      "application/vnd.plotly.v1+json": {
       "config": {
        "plotlyServerURL": "https://plot.ly"
       },
       "data": [
        {
         "alignmentgroup": "True",
         "hovertemplate": "variable=Z<br>value=%{x}<br>index=%{y}<extra></extra>",
         "legendgroup": "Z",
         "marker": {
          "color": "#393E46",
          "pattern": {
           "shape": ""
          }
         },
         "name": "Z",
         "offsetgroup": "Z",
         "orientation": "h",
         "showlegend": true,
         "textposition": "auto",
         "type": "bar",
         "x": [
          0,
          5,
          0,
          1,
          4,
          10,
          2,
          5,
          12,
          8,
          21,
          0,
          10,
          25,
          2,
          23,
          11,
          12,
          2,
          0,
          0,
          0,
          23,
          25,
          10,
          17,
          1,
          4,
          17,
          0,
          18,
          2,
          16,
          46,
          6,
          14,
          32,
          37,
          29,
          3,
          60,
          19,
          31,
          4,
          46,
          59,
          71,
          105,
          360
         ],
         "xaxis": "x",
         "y": [
          "Adult ADHD Clinical<br>Diagnostic Scale",
          "Emotion Regulation Task",
          "Food viewing (passive)",
          "film viewing",
          "abstract/concrete task",
          "visual attention task",
          "mentalizing task",
          "episodic recall",
          "choice task between<br>risky and non-risky options",
          "autobiographical memory task",
          "theory of mind<br>task",
          "action observation task",
          "mental imagery task",
          "problem solving task",
          "emotion expression identification",
          "working memory fMRI<br>task paradigm",
          "multi-attribute reward-guided decision<br>task",
          "semantic task",
          "face matching task",
          "Other evaluation task",
          "instrumental learning task",
          "pain monitor/discrimination task",
          "2nd-order rule acquisition",
          "multi-attribute decision making<br>task",
          "perceptual discrimination task",
          "passive viewing",
          "language processing fMRI<br>task paradigm",
          "phasic pain stimulation",
          "2-stage decision task",
          "cyberball task",
          "gambling fMRI task<br>paradigm",
          "balloon analogue risk<br>task",
          "n-back task",
          "stop signal task",
          "motor fMRI task<br>paradigm",
          "emotion processing fMRI<br>task paradigm",
          "gambling task",
          "social decision-making task",
          "pavlovian conditioning task",
          "emotional regulation task",
          "go/no-go task",
          "monetary incentive delay<br>task",
          "movie watching task",
          "social cognition (theory<br>of mind) fMRI task paradigm",
          "social judgment task",
          "audio narrative",
          "rest eyes closed",
          "mixed gambles task",
          "rest eyes open"
         ],
         "yaxis": "y"
        },
        {
         "alignmentgroup": "True",
         "hovertemplate": "variable=T<br>value=%{x}<br>index=%{y}<extra></extra>",
         "legendgroup": "T",
         "marker": {
          "color": "#6D9886",
          "pattern": {
           "shape": ""
          }
         },
         "name": "T",
         "offsetgroup": "T",
         "orientation": "h",
         "showlegend": true,
         "textposition": "auto",
         "type": "bar",
         "x": [
          12,
          8,
          16,
          17,
          15,
          10,
          0,
          18,
          3,
          13,
          3,
          25,
          15,
          0,
          25,
          5,
          17,
          17,
          31,
          35,
          37,
          38,
          18,
          12,
          35,
          37,
          55,
          53,
          33,
          62,
          40,
          68,
          47,
          34,
          76,
          71,
          34,
          53,
          61,
          94,
          32,
          78,
          86,
          125,
          133,
          134,
          165,
          255,
          344
         ],
         "xaxis": "x",
         "y": [
          "Adult ADHD Clinical<br>Diagnostic Scale",
          "Emotion Regulation Task",
          "Food viewing (passive)",
          "film viewing",
          "abstract/concrete task",
          "visual attention task",
          "mentalizing task",
          "episodic recall",
          "choice task between<br>risky and non-risky options",
          "autobiographical memory task",
          "theory of mind<br>task",
          "action observation task",
          "mental imagery task",
          "problem solving task",
          "emotion expression identification",
          "working memory fMRI<br>task paradigm",
          "multi-attribute reward-guided decision<br>task",
          "semantic task",
          "face matching task",
          "Other evaluation task",
          "instrumental learning task",
          "pain monitor/discrimination task",
          "2nd-order rule acquisition",
          "multi-attribute decision making<br>task",
          "perceptual discrimination task",
          "passive viewing",
          "language processing fMRI<br>task paradigm",
          "phasic pain stimulation",
          "2-stage decision task",
          "cyberball task",
          "gambling fMRI task<br>paradigm",
          "balloon analogue risk<br>task",
          "n-back task",
          "stop signal task",
          "motor fMRI task<br>paradigm",
          "emotion processing fMRI<br>task paradigm",
          "gambling task",
          "social decision-making task",
          "pavlovian conditioning task",
          "emotional regulation task",
          "go/no-go task",
          "monetary incentive delay<br>task",
          "movie watching task",
          "social cognition (theory<br>of mind) fMRI task paradigm",
          "social judgment task",
          "audio narrative",
          "rest eyes closed",
          "mixed gambles task",
          "rest eyes open"
         ],
         "yaxis": "y"
        },
        {
         "alignmentgroup": "True",
         "hovertemplate": "variable=Other<br>value=%{x}<br>index=%{y}<extra></extra>",
         "legendgroup": "Other",
         "marker": {
          "color": "#F2E7D5",
          "pattern": {
           "shape": ""
          }
         },
         "name": "Other",
         "offsetgroup": "Other",
         "orientation": "h",
         "showlegend": true,
         "textposition": "auto",
         "type": "bar",
         "x": [
          0,
          0,
          0,
          0,
          0,
          0,
          19,
          0,
          8,
          3,
          0,
          0,
          0,
          0,
          0,
          0,
          0,
          3,
          0,
          0,
          0,
          0,
          0,
          7,
          0,
          0,
          0,
          0,
          9,
          0,
          9,
          0,
          7,
          0,
          0,
          0,
          23,
          0,
          0,
          0,
          6,
          5,
          0,
          0,
          0,
          0,
          39,
          68,
          78
         ],
         "xaxis": "x",
         "y": [
          "Adult ADHD Clinical<br>Diagnostic Scale",
          "Emotion Regulation Task",
          "Food viewing (passive)",
          "film viewing",
          "abstract/concrete task",
          "visual attention task",
          "mentalizing task",
          "episodic recall",
          "choice task between<br>risky and non-risky options",
          "autobiographical memory task",
          "theory of mind<br>task",
          "action observation task",
          "mental imagery task",
          "problem solving task",
          "emotion expression identification",
          "working memory fMRI<br>task paradigm",
          "multi-attribute reward-guided decision<br>task",
          "semantic task",
          "face matching task",
          "Other evaluation task",
          "instrumental learning task",
          "pain monitor/discrimination task",
          "2nd-order rule acquisition",
          "multi-attribute decision making<br>task",
          "perceptual discrimination task",
          "passive viewing",
          "language processing fMRI<br>task paradigm",
          "phasic pain stimulation",
          "2-stage decision task",
          "cyberball task",
          "gambling fMRI task<br>paradigm",
          "balloon analogue risk<br>task",
          "n-back task",
          "stop signal task",
          "motor fMRI task<br>paradigm",
          "emotion processing fMRI<br>task paradigm",
          "gambling task",
          "social decision-making task",
          "pavlovian conditioning task",
          "emotional regulation task",
          "go/no-go task",
          "monetary incentive delay<br>task",
          "movie watching task",
          "social cognition (theory<br>of mind) fMRI task paradigm",
          "social judgment task",
          "audio narrative",
          "rest eyes closed",
          "mixed gambles task",
          "rest eyes open"
         ],
         "yaxis": "y"
        },
        {
         "alignmentgroup": "True",
         "hovertemplate": "variable=Not Available<br>value=%{x}<br>index=%{y}<extra></extra>",
         "legendgroup": "Not Available",
         "marker": {
          "color": "#F7F7F7",
          "pattern": {
           "shape": ""
          }
         },
         "name": "Not Available",
         "offsetgroup": "Not Available",
         "orientation": "h",
         "showlegend": true,
         "textposition": "auto",
         "type": "bar",
         "x": [
          0,
          22,
          14,
          52,
          15,
          0,
          27,
          3,
          31,
          3,
          5,
          10,
          12,
          54,
          14,
          7,
          26,
          29,
          2,
          92,
          3,
          7,
          71,
          20,
          13,
          63,
          13,
          37,
          57,
          14,
          24,
          41,
          40,
          11,
          4,
          24,
          54,
          14,
          51,
          24,
          45,
          145,
          67,
          25,
          38,
          10,
          130,
          221,
          1546
         ],
         "xaxis": "x",
         "y": [
          "Adult ADHD Clinical<br>Diagnostic Scale",
          "Emotion Regulation Task",
          "Food viewing (passive)",
          "film viewing",
          "abstract/concrete task",
          "visual attention task",
          "mentalizing task",
          "episodic recall",
          "choice task between<br>risky and non-risky options",
          "autobiographical memory task",
          "theory of mind<br>task",
          "action observation task",
          "mental imagery task",
          "problem solving task",
          "emotion expression identification",
          "working memory fMRI<br>task paradigm",
          "multi-attribute reward-guided decision<br>task",
          "semantic task",
          "face matching task",
          "Other evaluation task",
          "instrumental learning task",
          "pain monitor/discrimination task",
          "2nd-order rule acquisition",
          "multi-attribute decision making<br>task",
          "perceptual discrimination task",
          "passive viewing",
          "language processing fMRI<br>task paradigm",
          "phasic pain stimulation",
          "2-stage decision task",
          "cyberball task",
          "gambling fMRI task<br>paradigm",
          "balloon analogue risk<br>task",
          "n-back task",
          "stop signal task",
          "motor fMRI task<br>paradigm",
          "emotion processing fMRI<br>task paradigm",
          "gambling task",
          "social decision-making task",
          "pavlovian conditioning task",
          "emotional regulation task",
          "go/no-go task",
          "monetary incentive delay<br>task",
          "movie watching task",
          "social cognition (theory<br>of mind) fMRI task paradigm",
          "social judgment task",
          "audio narrative",
          "rest eyes closed",
          "mixed gambles task",
          "rest eyes open"
         ],
         "yaxis": "y"
        }
       ],
       "layout": {
        "barmode": "relative",
        "height": 1470,
        "legend": {
         "title": {
          "text": "variable"
         },
         "tracegroupgap": 0
        },
        "margin": {
         "t": 60
        },
        "template": {
         "data": {
          "bar": [
           {
            "error_x": {
             "color": "#2a3f5f"
            },
            "error_y": {
             "color": "#2a3f5f"
            },
            "marker": {
             "line": {
              "color": "#E5ECF6",
              "width": 0.5
             },
             "pattern": {
              "fillmode": "overlay",
              "size": 10,
              "solidity": 0.2
             }
            },
            "type": "bar"
           }
          ],
          "barpolar": [
           {
            "marker": {
             "line": {
              "color": "#E5ECF6",
              "width": 0.5
             },
             "pattern": {
              "fillmode": "overlay",
              "size": 10,
              "solidity": 0.2
             }
            },
            "type": "barpolar"
           }
          ],
          "carpet": [
           {
            "aaxis": {
             "endlinecolor": "#2a3f5f",
             "gridcolor": "white",
             "linecolor": "white",
             "minorgridcolor": "white",
             "startlinecolor": "#2a3f5f"
            },
            "baxis": {
             "endlinecolor": "#2a3f5f",
             "gridcolor": "white",
             "linecolor": "white",
             "minorgridcolor": "white",
             "startlinecolor": "#2a3f5f"
            },
            "type": "carpet"
           }
          ],
          "choropleth": [
           {
            "colorbar": {
             "outlinewidth": 0,
             "ticks": ""
            },
            "type": "choropleth"
           }
          ],
          "contour": [
           {
            "colorbar": {
             "outlinewidth": 0,
             "ticks": ""
            },
            "colorscale": [
             [
              0,
              "#0d0887"
             ],
             [
              0.1111111111111111,
              "#46039f"
             ],
             [
              0.2222222222222222,
              "#7201a8"
             ],
             [
              0.3333333333333333,
              "#9c179e"
             ],
             [
              0.4444444444444444,
              "#bd3786"
             ],
             [
              0.5555555555555556,
              "#d8576b"
             ],
             [
              0.6666666666666666,
              "#ed7953"
             ],
             [
              0.7777777777777778,
              "#fb9f3a"
             ],
             [
              0.8888888888888888,
              "#fdca26"
             ],
             [
              1,
              "#f0f921"
             ]
            ],
            "type": "contour"
           }
          ],
          "contourcarpet": [
           {
            "colorbar": {
             "outlinewidth": 0,
             "ticks": ""
            },
            "type": "contourcarpet"
           }
          ],
          "heatmap": [
           {
            "colorbar": {
             "outlinewidth": 0,
             "ticks": ""
            },
            "colorscale": [
             [
              0,
              "#0d0887"
             ],
             [
              0.1111111111111111,
              "#46039f"
             ],
             [
              0.2222222222222222,
              "#7201a8"
             ],
             [
              0.3333333333333333,
              "#9c179e"
             ],
             [
              0.4444444444444444,
              "#bd3786"
             ],
             [
              0.5555555555555556,
              "#d8576b"
             ],
             [
              0.6666666666666666,
              "#ed7953"
             ],
             [
              0.7777777777777778,
              "#fb9f3a"
             ],
             [
              0.8888888888888888,
              "#fdca26"
             ],
             [
              1,
              "#f0f921"
             ]
            ],
            "type": "heatmap"
           }
          ],
          "heatmapgl": [
           {
            "colorbar": {
             "outlinewidth": 0,
             "ticks": ""
            },
            "colorscale": [
             [
              0,
              "#0d0887"
             ],
             [
              0.1111111111111111,
              "#46039f"
             ],
             [
              0.2222222222222222,
              "#7201a8"
             ],
             [
              0.3333333333333333,
              "#9c179e"
             ],
             [
              0.4444444444444444,
              "#bd3786"
             ],
             [
              0.5555555555555556,
              "#d8576b"
             ],
             [
              0.6666666666666666,
              "#ed7953"
             ],
             [
              0.7777777777777778,
              "#fb9f3a"
             ],
             [
              0.8888888888888888,
              "#fdca26"
             ],
             [
              1,
              "#f0f921"
             ]
            ],
            "type": "heatmapgl"
           }
          ],
          "histogram": [
           {
            "marker": {
             "pattern": {
              "fillmode": "overlay",
              "size": 10,
              "solidity": 0.2
             }
            },
            "type": "histogram"
           }
          ],
          "histogram2d": [
           {
            "colorbar": {
             "outlinewidth": 0,
             "ticks": ""
            },
            "colorscale": [
             [
              0,
              "#0d0887"
             ],
             [
              0.1111111111111111,
              "#46039f"
             ],
             [
              0.2222222222222222,
              "#7201a8"
             ],
             [
              0.3333333333333333,
              "#9c179e"
             ],
             [
              0.4444444444444444,
              "#bd3786"
             ],
             [
              0.5555555555555556,
              "#d8576b"
             ],
             [
              0.6666666666666666,
              "#ed7953"
             ],
             [
              0.7777777777777778,
              "#fb9f3a"
             ],
             [
              0.8888888888888888,
              "#fdca26"
             ],
             [
              1,
              "#f0f921"
             ]
            ],
            "type": "histogram2d"
           }
          ],
          "histogram2dcontour": [
           {
            "colorbar": {
             "outlinewidth": 0,
             "ticks": ""
            },
            "colorscale": [
             [
              0,
              "#0d0887"
             ],
             [
              0.1111111111111111,
              "#46039f"
             ],
             [
              0.2222222222222222,
              "#7201a8"
             ],
             [
              0.3333333333333333,
              "#9c179e"
             ],
             [
              0.4444444444444444,
              "#bd3786"
             ],
             [
              0.5555555555555556,
              "#d8576b"
             ],
             [
              0.6666666666666666,
              "#ed7953"
             ],
             [
              0.7777777777777778,
              "#fb9f3a"
             ],
             [
              0.8888888888888888,
              "#fdca26"
             ],
             [
              1,
              "#f0f921"
             ]
            ],
            "type": "histogram2dcontour"
           }
          ],
          "mesh3d": [
           {
            "colorbar": {
             "outlinewidth": 0,
             "ticks": ""
            },
            "type": "mesh3d"
           }
          ],
          "parcoords": [
           {
            "line": {
             "colorbar": {
              "outlinewidth": 0,
              "ticks": ""
             }
            },
            "type": "parcoords"
           }
          ],
          "pie": [
           {
            "automargin": true,
            "type": "pie"
           }
          ],
          "scatter": [
           {
            "fillpattern": {
             "fillmode": "overlay",
             "size": 10,
             "solidity": 0.2
            },
            "type": "scatter"
           }
          ],
          "scatter3d": [
           {
            "line": {
             "colorbar": {
              "outlinewidth": 0,
              "ticks": ""
             }
            },
            "marker": {
             "colorbar": {
              "outlinewidth": 0,
              "ticks": ""
             }
            },
            "type": "scatter3d"
           }
          ],
          "scattercarpet": [
           {
            "marker": {
             "colorbar": {
              "outlinewidth": 0,
              "ticks": ""
             }
            },
            "type": "scattercarpet"
           }
          ],
          "scattergeo": [
           {
            "marker": {
             "colorbar": {
              "outlinewidth": 0,
              "ticks": ""
             }
            },
            "type": "scattergeo"
           }
          ],
          "scattergl": [
           {
            "marker": {
             "colorbar": {
              "outlinewidth": 0,
              "ticks": ""
             }
            },
            "type": "scattergl"
           }
          ],
          "scattermapbox": [
           {
            "marker": {
             "colorbar": {
              "outlinewidth": 0,
              "ticks": ""
             }
            },
            "type": "scattermapbox"
           }
          ],
          "scatterpolar": [
           {
            "marker": {
             "colorbar": {
              "outlinewidth": 0,
              "ticks": ""
             }
            },
            "type": "scatterpolar"
           }
          ],
          "scatterpolargl": [
           {
            "marker": {
             "colorbar": {
              "outlinewidth": 0,
              "ticks": ""
             }
            },
            "type": "scatterpolargl"
           }
          ],
          "scatterternary": [
           {
            "marker": {
             "colorbar": {
              "outlinewidth": 0,
              "ticks": ""
             }
            },
            "type": "scatterternary"
           }
          ],
          "surface": [
           {
            "colorbar": {
             "outlinewidth": 0,
             "ticks": ""
            },
            "colorscale": [
             [
              0,
              "#0d0887"
             ],
             [
              0.1111111111111111,
              "#46039f"
             ],
             [
              0.2222222222222222,
              "#7201a8"
             ],
             [
              0.3333333333333333,
              "#9c179e"
             ],
             [
              0.4444444444444444,
              "#bd3786"
             ],
             [
              0.5555555555555556,
              "#d8576b"
             ],
             [
              0.6666666666666666,
              "#ed7953"
             ],
             [
              0.7777777777777778,
              "#fb9f3a"
             ],
             [
              0.8888888888888888,
              "#fdca26"
             ],
             [
              1,
              "#f0f921"
             ]
            ],
            "type": "surface"
           }
          ],
          "table": [
           {
            "cells": {
             "fill": {
              "color": "#EBF0F8"
             },
             "line": {
              "color": "white"
             }
            },
            "header": {
             "fill": {
              "color": "#C8D4E3"
             },
             "line": {
              "color": "white"
             }
            },
            "type": "table"
           }
          ]
         },
         "layout": {
          "annotationdefaults": {
           "arrowcolor": "#2a3f5f",
           "arrowhead": 0,
           "arrowwidth": 1
          },
          "autotypenumbers": "strict",
          "coloraxis": {
           "colorbar": {
            "outlinewidth": 0,
            "ticks": ""
           }
          },
          "colorscale": {
           "diverging": [
            [
             0,
             "#8e0152"
            ],
            [
             0.1,
             "#c51b7d"
            ],
            [
             0.2,
             "#de77ae"
            ],
            [
             0.3,
             "#f1b6da"
            ],
            [
             0.4,
             "#fde0ef"
            ],
            [
             0.5,
             "#f7f7f7"
            ],
            [
             0.6,
             "#e6f5d0"
            ],
            [
             0.7,
             "#b8e186"
            ],
            [
             0.8,
             "#7fbc41"
            ],
            [
             0.9,
             "#4d9221"
            ],
            [
             1,
             "#276419"
            ]
           ],
           "sequential": [
            [
             0,
             "#0d0887"
            ],
            [
             0.1111111111111111,
             "#46039f"
            ],
            [
             0.2222222222222222,
             "#7201a8"
            ],
            [
             0.3333333333333333,
             "#9c179e"
            ],
            [
             0.4444444444444444,
             "#bd3786"
            ],
            [
             0.5555555555555556,
             "#d8576b"
            ],
            [
             0.6666666666666666,
             "#ed7953"
            ],
            [
             0.7777777777777778,
             "#fb9f3a"
            ],
            [
             0.8888888888888888,
             "#fdca26"
            ],
            [
             1,
             "#f0f921"
            ]
           ],
           "sequentialminus": [
            [
             0,
             "#0d0887"
            ],
            [
             0.1111111111111111,
             "#46039f"
            ],
            [
             0.2222222222222222,
             "#7201a8"
            ],
            [
             0.3333333333333333,
             "#9c179e"
            ],
            [
             0.4444444444444444,
             "#bd3786"
            ],
            [
             0.5555555555555556,
             "#d8576b"
            ],
            [
             0.6666666666666666,
             "#ed7953"
            ],
            [
             0.7777777777777778,
             "#fb9f3a"
            ],
            [
             0.8888888888888888,
             "#fdca26"
            ],
            [
             1,
             "#f0f921"
            ]
           ]
          },
          "colorway": [
           "#636efa",
           "#EF553B",
           "#00cc96",
           "#ab63fa",
           "#FFA15A",
           "#19d3f3",
           "#FF6692",
           "#B6E880",
           "#FF97FF",
           "#FECB52"
          ],
          "font": {
           "color": "#2a3f5f"
          },
          "geo": {
           "bgcolor": "white",
           "lakecolor": "white",
           "landcolor": "#E5ECF6",
           "showlakes": true,
           "showland": true,
           "subunitcolor": "white"
          },
          "hoverlabel": {
           "align": "left"
          },
          "hovermode": "closest",
          "mapbox": {
           "style": "light"
          },
          "paper_bgcolor": "white",
          "plot_bgcolor": "#E5ECF6",
          "polar": {
           "angularaxis": {
            "gridcolor": "white",
            "linecolor": "white",
            "ticks": ""
           },
           "bgcolor": "#E5ECF6",
           "radialaxis": {
            "gridcolor": "white",
            "linecolor": "white",
            "ticks": ""
           }
          },
          "scene": {
           "xaxis": {
            "backgroundcolor": "#E5ECF6",
            "gridcolor": "white",
            "gridwidth": 2,
            "linecolor": "white",
            "showbackground": true,
            "ticks": "",
            "zerolinecolor": "white"
           },
           "yaxis": {
            "backgroundcolor": "#E5ECF6",
            "gridcolor": "white",
            "gridwidth": 2,
            "linecolor": "white",
            "showbackground": true,
            "ticks": "",
            "zerolinecolor": "white"
           },
           "zaxis": {
            "backgroundcolor": "#E5ECF6",
            "gridcolor": "white",
            "gridwidth": 2,
            "linecolor": "white",
            "showbackground": true,
            "ticks": "",
            "zerolinecolor": "white"
           }
          },
          "shapedefaults": {
           "line": {
            "color": "#2a3f5f"
           }
          },
          "ternary": {
           "aaxis": {
            "gridcolor": "white",
            "linecolor": "white",
            "ticks": ""
           },
           "baxis": {
            "gridcolor": "white",
            "linecolor": "white",
            "ticks": ""
           },
           "bgcolor": "#E5ECF6",
           "caxis": {
            "gridcolor": "white",
            "linecolor": "white",
            "ticks": ""
           }
          },
          "title": {
           "x": 0.05
          },
          "xaxis": {
           "automargin": true,
           "gridcolor": "white",
           "linecolor": "white",
           "ticks": "",
           "title": {
            "standoff": 15
           },
           "zerolinecolor": "white",
           "zerolinewidth": 2
          },
          "yaxis": {
           "automargin": true,
           "gridcolor": "white",
           "linecolor": "white",
           "ticks": "",
           "title": {
            "standoff": 15
           },
           "zerolinecolor": "white",
           "zerolinewidth": 2
          }
         }
        },
        "xaxis": {
         "anchor": "y",
         "domain": [
          0,
          1
         ],
         "title": {
          "text": "value"
         },
         "type": "log"
        },
        "yaxis": {
         "anchor": "x",
         "automargin": true,
         "domain": [
          0,
          1
         ],
         "title": {
          "text": "index"
         }
        }
       }
      }
     },
     "metadata": {},
     "output_type": "display_data"
    }
   ],
   "source": [
    "colors = [\"#393E46\", '#6D9886', '#F2E7D5', '#F7F7F7']\n",
    "\n",
    "fig = px.bar(\n",
    "    df_sorted_org_df, \n",
    "    x=[\"Z\", \"T\", \"Other\", \"Not Available\"], \n",
    "    orientation='h',\n",
    "    color_discrete_sequence=colors,\n",
    ")\n",
    "fig.update_layout(\n",
    "    height=n_tasks*30,\n",
    "    xaxis_type=\"log\",\n",
    "    yaxis=dict(automargin=True),\n",
    ")\n",
    "fig.show()"
   ]
  },
  {
   "cell_type": "code",
   "execution_count": 11,
   "metadata": {},
   "outputs": [],
   "source": [
    "data_dict = {\n",
    "    \"line_x\": [],\n",
    "    \"line_y\": [],\n",
    "    \"Filtered\": [],\n",
    "    \"Unfiltered\": [],\n",
    "    \"colors\": [],\n",
    "    \"dset_type\": [],\n",
    "    \"CogAt\": [],\n",
    "}\n",
    "for task_name in task_names:\n",
    "    dset = Dataset.load(op.join(results_dir, task_name, f\"{task_name}_dset-raw.pkl.gz\"))\n",
    "    clean_dset = Dataset.load(op.join(results_dir, task_name, f\"{task_name}_dset-clean.pkl.gz\"))\n",
    "\n",
    "    n_ids = len(dset.ids)\n",
    "    n_clean_ids = len(clean_dset.ids)\n",
    "\n",
    "    data_dict[\"CogAt\"].extend(task_name)\n",
    "    data_dict[\"Unfiltered\"].extend([n_ids])\n",
    "    data_dict[\"Filtered\"].extend([n_clean_ids])\n",
    "\n",
    "    data_dict[\"line_x\"].extend([n_ids, len(clean_dset.ids), None])\n",
    "    data_dict[\"line_y\"].extend([task_name, task_name, None])"
   ]
  },
  {
   "cell_type": "code",
   "execution_count": 14,
   "metadata": {},
   "outputs": [
    {
     "data": {
      "application/vnd.plotly.v1+json": {
       "config": {
        "plotlyServerURL": "https://plot.ly"
       },
       "data": [
        {
         "marker": {
          "color": "green"
         },
         "name": "Filtered Data",
         "orientation": "h",
         "type": "bar",
         "x": [
          12,
          13,
          14,
          17,
          17,
          20,
          20,
          20,
          21,
          23,
          24,
          25,
          23,
          25,
          25,
          28,
          24,
          26,
          30,
          34,
          33,
          28,
          35,
          43,
          43,
          41,
          54,
          55,
          50,
          60,
          67,
          64,
          58,
          68,
          74,
          76,
          80,
          90,
          74,
          79,
          89,
          82,
          94,
          117,
          170,
          172,
          228,
          419,
          685
         ],
         "y": [
          "Adult ADHD Clinical<br>Diagnostic Scale",
          "Emotion Regulation Task",
          "Food viewing (passive)",
          "film viewing",
          "abstract/concrete task",
          "visual attention task",
          "mentalizing task",
          "episodic recall",
          "choice task between<br>risky and non-risky options",
          "autobiographical memory task",
          "theory of mind<br>task",
          "action observation task",
          "mental imagery task",
          "problem solving task",
          "emotion expression identification",
          "working memory fMRI<br>task paradigm",
          "multi-attribute reward-guided decision<br>task",
          "semantic task",
          "face matching task",
          "Other evaluation task",
          "instrumental learning task",
          "pain monitor/discrimination task",
          "2nd-order rule acquisition",
          "multi-attribute decision making<br>task",
          "perceptual discrimination task",
          "passive viewing",
          "language processing fMRI<br>task paradigm",
          "phasic pain stimulation",
          "2-stage decision task",
          "cyberball task",
          "gambling fMRI task<br>paradigm",
          "balloon analogue risk<br>task",
          "n-back task",
          "stop signal task",
          "motor fMRI task<br>paradigm",
          "emotion processing fMRI<br>task paradigm",
          "gambling task",
          "social decision-making task",
          "pavlovian conditioning task",
          "emotional regulation task",
          "go/no-go task",
          "monetary incentive delay<br>task",
          "movie watching task",
          "social cognition (theory<br>of mind) fMRI task paradigm",
          "social judgment task",
          "audio narrative",
          "rest eyes closed",
          "mixed gambles task",
          "rest eyes open"
         ]
        },
        {
         "marker": {
          "color": "red"
         },
         "name": "Unfiltered Data",
         "orientation": "h",
         "type": "bar",
         "x": [
          12,
          13,
          16,
          18,
          19,
          20,
          21,
          23,
          23,
          24,
          24,
          25,
          25,
          25,
          27,
          28,
          28,
          32,
          33,
          35,
          37,
          38,
          41,
          44,
          45,
          54,
          56,
          57,
          59,
          62,
          67,
          70,
          70,
          80,
          82,
          85,
          89,
          90,
          90,
          97,
          98,
          102,
          117,
          129,
          179,
          193,
          275,
          428,
          782
         ],
         "y": [
          "Adult ADHD Clinical<br>Diagnostic Scale",
          "Emotion Regulation Task",
          "Food viewing (passive)",
          "film viewing",
          "abstract/concrete task",
          "visual attention task",
          "mentalizing task",
          "episodic recall",
          "choice task between<br>risky and non-risky options",
          "autobiographical memory task",
          "theory of mind<br>task",
          "action observation task",
          "mental imagery task",
          "problem solving task",
          "emotion expression identification",
          "working memory fMRI<br>task paradigm",
          "multi-attribute reward-guided decision<br>task",
          "semantic task",
          "face matching task",
          "Other evaluation task",
          "instrumental learning task",
          "pain monitor/discrimination task",
          "2nd-order rule acquisition",
          "multi-attribute decision making<br>task",
          "perceptual discrimination task",
          "passive viewing",
          "language processing fMRI<br>task paradigm",
          "phasic pain stimulation",
          "2-stage decision task",
          "cyberball task",
          "gambling fMRI task<br>paradigm",
          "balloon analogue risk<br>task",
          "n-back task",
          "stop signal task",
          "motor fMRI task<br>paradigm",
          "emotion processing fMRI<br>task paradigm",
          "gambling task",
          "social decision-making task",
          "pavlovian conditioning task",
          "emotional regulation task",
          "go/no-go task",
          "monetary incentive delay<br>task",
          "movie watching task",
          "social cognition (theory<br>of mind) fMRI task paradigm",
          "social judgment task",
          "audio narrative",
          "rest eyes closed",
          "mixed gambles task",
          "rest eyes open"
         ]
        }
       ],
       "layout": {
        "barmode": "group",
        "height": 1470,
        "template": {
         "data": {
          "bar": [
           {
            "error_x": {
             "color": "#2a3f5f"
            },
            "error_y": {
             "color": "#2a3f5f"
            },
            "marker": {
             "line": {
              "color": "#E5ECF6",
              "width": 0.5
             },
             "pattern": {
              "fillmode": "overlay",
              "size": 10,
              "solidity": 0.2
             }
            },
            "type": "bar"
           }
          ],
          "barpolar": [
           {
            "marker": {
             "line": {
              "color": "#E5ECF6",
              "width": 0.5
             },
             "pattern": {
              "fillmode": "overlay",
              "size": 10,
              "solidity": 0.2
             }
            },
            "type": "barpolar"
           }
          ],
          "carpet": [
           {
            "aaxis": {
             "endlinecolor": "#2a3f5f",
             "gridcolor": "white",
             "linecolor": "white",
             "minorgridcolor": "white",
             "startlinecolor": "#2a3f5f"
            },
            "baxis": {
             "endlinecolor": "#2a3f5f",
             "gridcolor": "white",
             "linecolor": "white",
             "minorgridcolor": "white",
             "startlinecolor": "#2a3f5f"
            },
            "type": "carpet"
           }
          ],
          "choropleth": [
           {
            "colorbar": {
             "outlinewidth": 0,
             "ticks": ""
            },
            "type": "choropleth"
           }
          ],
          "contour": [
           {
            "colorbar": {
             "outlinewidth": 0,
             "ticks": ""
            },
            "colorscale": [
             [
              0,
              "#0d0887"
             ],
             [
              0.1111111111111111,
              "#46039f"
             ],
             [
              0.2222222222222222,
              "#7201a8"
             ],
             [
              0.3333333333333333,
              "#9c179e"
             ],
             [
              0.4444444444444444,
              "#bd3786"
             ],
             [
              0.5555555555555556,
              "#d8576b"
             ],
             [
              0.6666666666666666,
              "#ed7953"
             ],
             [
              0.7777777777777778,
              "#fb9f3a"
             ],
             [
              0.8888888888888888,
              "#fdca26"
             ],
             [
              1,
              "#f0f921"
             ]
            ],
            "type": "contour"
           }
          ],
          "contourcarpet": [
           {
            "colorbar": {
             "outlinewidth": 0,
             "ticks": ""
            },
            "type": "contourcarpet"
           }
          ],
          "heatmap": [
           {
            "colorbar": {
             "outlinewidth": 0,
             "ticks": ""
            },
            "colorscale": [
             [
              0,
              "#0d0887"
             ],
             [
              0.1111111111111111,
              "#46039f"
             ],
             [
              0.2222222222222222,
              "#7201a8"
             ],
             [
              0.3333333333333333,
              "#9c179e"
             ],
             [
              0.4444444444444444,
              "#bd3786"
             ],
             [
              0.5555555555555556,
              "#d8576b"
             ],
             [
              0.6666666666666666,
              "#ed7953"
             ],
             [
              0.7777777777777778,
              "#fb9f3a"
             ],
             [
              0.8888888888888888,
              "#fdca26"
             ],
             [
              1,
              "#f0f921"
             ]
            ],
            "type": "heatmap"
           }
          ],
          "heatmapgl": [
           {
            "colorbar": {
             "outlinewidth": 0,
             "ticks": ""
            },
            "colorscale": [
             [
              0,
              "#0d0887"
             ],
             [
              0.1111111111111111,
              "#46039f"
             ],
             [
              0.2222222222222222,
              "#7201a8"
             ],
             [
              0.3333333333333333,
              "#9c179e"
             ],
             [
              0.4444444444444444,
              "#bd3786"
             ],
             [
              0.5555555555555556,
              "#d8576b"
             ],
             [
              0.6666666666666666,
              "#ed7953"
             ],
             [
              0.7777777777777778,
              "#fb9f3a"
             ],
             [
              0.8888888888888888,
              "#fdca26"
             ],
             [
              1,
              "#f0f921"
             ]
            ],
            "type": "heatmapgl"
           }
          ],
          "histogram": [
           {
            "marker": {
             "pattern": {
              "fillmode": "overlay",
              "size": 10,
              "solidity": 0.2
             }
            },
            "type": "histogram"
           }
          ],
          "histogram2d": [
           {
            "colorbar": {
             "outlinewidth": 0,
             "ticks": ""
            },
            "colorscale": [
             [
              0,
              "#0d0887"
             ],
             [
              0.1111111111111111,
              "#46039f"
             ],
             [
              0.2222222222222222,
              "#7201a8"
             ],
             [
              0.3333333333333333,
              "#9c179e"
             ],
             [
              0.4444444444444444,
              "#bd3786"
             ],
             [
              0.5555555555555556,
              "#d8576b"
             ],
             [
              0.6666666666666666,
              "#ed7953"
             ],
             [
              0.7777777777777778,
              "#fb9f3a"
             ],
             [
              0.8888888888888888,
              "#fdca26"
             ],
             [
              1,
              "#f0f921"
             ]
            ],
            "type": "histogram2d"
           }
          ],
          "histogram2dcontour": [
           {
            "colorbar": {
             "outlinewidth": 0,
             "ticks": ""
            },
            "colorscale": [
             [
              0,
              "#0d0887"
             ],
             [
              0.1111111111111111,
              "#46039f"
             ],
             [
              0.2222222222222222,
              "#7201a8"
             ],
             [
              0.3333333333333333,
              "#9c179e"
             ],
             [
              0.4444444444444444,
              "#bd3786"
             ],
             [
              0.5555555555555556,
              "#d8576b"
             ],
             [
              0.6666666666666666,
              "#ed7953"
             ],
             [
              0.7777777777777778,
              "#fb9f3a"
             ],
             [
              0.8888888888888888,
              "#fdca26"
             ],
             [
              1,
              "#f0f921"
             ]
            ],
            "type": "histogram2dcontour"
           }
          ],
          "mesh3d": [
           {
            "colorbar": {
             "outlinewidth": 0,
             "ticks": ""
            },
            "type": "mesh3d"
           }
          ],
          "parcoords": [
           {
            "line": {
             "colorbar": {
              "outlinewidth": 0,
              "ticks": ""
             }
            },
            "type": "parcoords"
           }
          ],
          "pie": [
           {
            "automargin": true,
            "type": "pie"
           }
          ],
          "scatter": [
           {
            "fillpattern": {
             "fillmode": "overlay",
             "size": 10,
             "solidity": 0.2
            },
            "type": "scatter"
           }
          ],
          "scatter3d": [
           {
            "line": {
             "colorbar": {
              "outlinewidth": 0,
              "ticks": ""
             }
            },
            "marker": {
             "colorbar": {
              "outlinewidth": 0,
              "ticks": ""
             }
            },
            "type": "scatter3d"
           }
          ],
          "scattercarpet": [
           {
            "marker": {
             "colorbar": {
              "outlinewidth": 0,
              "ticks": ""
             }
            },
            "type": "scattercarpet"
           }
          ],
          "scattergeo": [
           {
            "marker": {
             "colorbar": {
              "outlinewidth": 0,
              "ticks": ""
             }
            },
            "type": "scattergeo"
           }
          ],
          "scattergl": [
           {
            "marker": {
             "colorbar": {
              "outlinewidth": 0,
              "ticks": ""
             }
            },
            "type": "scattergl"
           }
          ],
          "scattermapbox": [
           {
            "marker": {
             "colorbar": {
              "outlinewidth": 0,
              "ticks": ""
             }
            },
            "type": "scattermapbox"
           }
          ],
          "scatterpolar": [
           {
            "marker": {
             "colorbar": {
              "outlinewidth": 0,
              "ticks": ""
             }
            },
            "type": "scatterpolar"
           }
          ],
          "scatterpolargl": [
           {
            "marker": {
             "colorbar": {
              "outlinewidth": 0,
              "ticks": ""
             }
            },
            "type": "scatterpolargl"
           }
          ],
          "scatterternary": [
           {
            "marker": {
             "colorbar": {
              "outlinewidth": 0,
              "ticks": ""
             }
            },
            "type": "scatterternary"
           }
          ],
          "surface": [
           {
            "colorbar": {
             "outlinewidth": 0,
             "ticks": ""
            },
            "colorscale": [
             [
              0,
              "#0d0887"
             ],
             [
              0.1111111111111111,
              "#46039f"
             ],
             [
              0.2222222222222222,
              "#7201a8"
             ],
             [
              0.3333333333333333,
              "#9c179e"
             ],
             [
              0.4444444444444444,
              "#bd3786"
             ],
             [
              0.5555555555555556,
              "#d8576b"
             ],
             [
              0.6666666666666666,
              "#ed7953"
             ],
             [
              0.7777777777777778,
              "#fb9f3a"
             ],
             [
              0.8888888888888888,
              "#fdca26"
             ],
             [
              1,
              "#f0f921"
             ]
            ],
            "type": "surface"
           }
          ],
          "table": [
           {
            "cells": {
             "fill": {
              "color": "#EBF0F8"
             },
             "line": {
              "color": "white"
             }
            },
            "header": {
             "fill": {
              "color": "#C8D4E3"
             },
             "line": {
              "color": "white"
             }
            },
            "type": "table"
           }
          ]
         },
         "layout": {
          "annotationdefaults": {
           "arrowcolor": "#2a3f5f",
           "arrowhead": 0,
           "arrowwidth": 1
          },
          "autotypenumbers": "strict",
          "coloraxis": {
           "colorbar": {
            "outlinewidth": 0,
            "ticks": ""
           }
          },
          "colorscale": {
           "diverging": [
            [
             0,
             "#8e0152"
            ],
            [
             0.1,
             "#c51b7d"
            ],
            [
             0.2,
             "#de77ae"
            ],
            [
             0.3,
             "#f1b6da"
            ],
            [
             0.4,
             "#fde0ef"
            ],
            [
             0.5,
             "#f7f7f7"
            ],
            [
             0.6,
             "#e6f5d0"
            ],
            [
             0.7,
             "#b8e186"
            ],
            [
             0.8,
             "#7fbc41"
            ],
            [
             0.9,
             "#4d9221"
            ],
            [
             1,
             "#276419"
            ]
           ],
           "sequential": [
            [
             0,
             "#0d0887"
            ],
            [
             0.1111111111111111,
             "#46039f"
            ],
            [
             0.2222222222222222,
             "#7201a8"
            ],
            [
             0.3333333333333333,
             "#9c179e"
            ],
            [
             0.4444444444444444,
             "#bd3786"
            ],
            [
             0.5555555555555556,
             "#d8576b"
            ],
            [
             0.6666666666666666,
             "#ed7953"
            ],
            [
             0.7777777777777778,
             "#fb9f3a"
            ],
            [
             0.8888888888888888,
             "#fdca26"
            ],
            [
             1,
             "#f0f921"
            ]
           ],
           "sequentialminus": [
            [
             0,
             "#0d0887"
            ],
            [
             0.1111111111111111,
             "#46039f"
            ],
            [
             0.2222222222222222,
             "#7201a8"
            ],
            [
             0.3333333333333333,
             "#9c179e"
            ],
            [
             0.4444444444444444,
             "#bd3786"
            ],
            [
             0.5555555555555556,
             "#d8576b"
            ],
            [
             0.6666666666666666,
             "#ed7953"
            ],
            [
             0.7777777777777778,
             "#fb9f3a"
            ],
            [
             0.8888888888888888,
             "#fdca26"
            ],
            [
             1,
             "#f0f921"
            ]
           ]
          },
          "colorway": [
           "#636efa",
           "#EF553B",
           "#00cc96",
           "#ab63fa",
           "#FFA15A",
           "#19d3f3",
           "#FF6692",
           "#B6E880",
           "#FF97FF",
           "#FECB52"
          ],
          "font": {
           "color": "#2a3f5f"
          },
          "geo": {
           "bgcolor": "white",
           "lakecolor": "white",
           "landcolor": "#E5ECF6",
           "showlakes": true,
           "showland": true,
           "subunitcolor": "white"
          },
          "hoverlabel": {
           "align": "left"
          },
          "hovermode": "closest",
          "mapbox": {
           "style": "light"
          },
          "paper_bgcolor": "white",
          "plot_bgcolor": "#E5ECF6",
          "polar": {
           "angularaxis": {
            "gridcolor": "white",
            "linecolor": "white",
            "ticks": ""
           },
           "bgcolor": "#E5ECF6",
           "radialaxis": {
            "gridcolor": "white",
            "linecolor": "white",
            "ticks": ""
           }
          },
          "scene": {
           "xaxis": {
            "backgroundcolor": "#E5ECF6",
            "gridcolor": "white",
            "gridwidth": 2,
            "linecolor": "white",
            "showbackground": true,
            "ticks": "",
            "zerolinecolor": "white"
           },
           "yaxis": {
            "backgroundcolor": "#E5ECF6",
            "gridcolor": "white",
            "gridwidth": 2,
            "linecolor": "white",
            "showbackground": true,
            "ticks": "",
            "zerolinecolor": "white"
           },
           "zaxis": {
            "backgroundcolor": "#E5ECF6",
            "gridcolor": "white",
            "gridwidth": 2,
            "linecolor": "white",
            "showbackground": true,
            "ticks": "",
            "zerolinecolor": "white"
           }
          },
          "shapedefaults": {
           "line": {
            "color": "#2a3f5f"
           }
          },
          "ternary": {
           "aaxis": {
            "gridcolor": "white",
            "linecolor": "white",
            "ticks": ""
           },
           "baxis": {
            "gridcolor": "white",
            "linecolor": "white",
            "ticks": ""
           },
           "bgcolor": "#E5ECF6",
           "caxis": {
            "gridcolor": "white",
            "linecolor": "white",
            "ticks": ""
           }
          },
          "title": {
           "x": 0.05
          },
          "xaxis": {
           "automargin": true,
           "gridcolor": "white",
           "linecolor": "white",
           "ticks": "",
           "title": {
            "standoff": 15
           },
           "zerolinecolor": "white",
           "zerolinewidth": 2
          },
          "yaxis": {
           "automargin": true,
           "gridcolor": "white",
           "linecolor": "white",
           "ticks": "",
           "title": {
            "standoff": 15
           },
           "zerolinecolor": "white",
           "zerolinewidth": 2
          }
         }
        },
        "xaxis": {
         "type": "log"
        }
       }
      }
     },
     "metadata": {},
     "output_type": "display_data"
    }
   ],
   "source": [
    "task_names_org = [cogat_dict[task_name] for task_name in task_names]\n",
    "task_names_wrap = [\n",
    "    task_name if task_name.count(\" \") < 3 else _wrap_label(task_name)\n",
    "    for task_name in task_names_org\n",
    "]\n",
    "\n",
    "fig = go.Figure()\n",
    "fig.add_trace(\n",
    "    go.Bar(\n",
    "        y=task_names_wrap,\n",
    "        x=data_dict[\"Filtered\"],\n",
    "        name=\"Filtered Data\",\n",
    "        marker_color=\"green\",\n",
    "        orientation=\"h\",\n",
    "    )\n",
    ")\n",
    "fig.add_trace(\n",
    "    go.Bar(\n",
    "        y=task_names_wrap,\n",
    "        x=data_dict[\"Unfiltered\"],\n",
    "        name=\"Unfiltered Data\",\n",
    "        marker_color=\"red\",\n",
    "        orientation=\"h\",\n",
    "    )\n",
    ")\n",
    "\n",
    "fig.update_layout(\n",
    "    barmode=\"group\",\n",
    "    height=n_tasks * 30,\n",
    "    xaxis_type=\"log\",\n",
    ")\n",
    "fig.show()"
   ]
  },
  {
   "cell_type": "code",
   "execution_count": null,
   "metadata": {},
   "outputs": [],
   "source": []
  }
 ],
 "metadata": {
  "kernelspec": {
   "display_name": "nimare_env",
   "language": "python",
   "name": "python3"
  },
  "language_info": {
   "codemirror_mode": {
    "name": "ipython",
    "version": 3
   },
   "file_extension": ".py",
   "mimetype": "text/x-python",
   "name": "python",
   "nbconvert_exporter": "python",
   "pygments_lexer": "ipython3",
   "version": "3.10.13"
  }
 },
 "nbformat": 4,
 "nbformat_minor": 2
}
